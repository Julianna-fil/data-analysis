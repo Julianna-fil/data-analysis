{
 "cells": [
  {
   "cell_type": "markdown",
   "metadata": {
    "id": "OMxAjU-kBdlP"
   },
   "source": [
    "# Обычная линейная модель\n",
    "Предсказать среднюю цену номера в отеле в долларах (Average Daily Rate (in $))"
   ]
  },
  {
   "cell_type": "code",
   "execution_count": null,
   "metadata": {
    "id": "TBmcjvgmnXtM"
   },
   "outputs": [],
   "source": [
    "import pandas as pd\n",
    "import numpy as np\n",
    "import matplotlib\n",
    "import matplotlib.pyplot as plt\n",
    "#  matplotlib.style.use('ggplot')\n",
    "%matplotlib inline"
   ]
  },
  {
   "cell_type": "code",
   "execution_count": null,
   "metadata": {
    "colab": {
     "base_uri": "https://localhost:8080/"
    },
    "executionInfo": {
     "elapsed": 30835,
     "status": "ok",
     "timestamp": 1607793931299,
     "user": {
      "displayName": "Юлия Филюшкина",
      "photoUrl": "",
      "userId": "13867730537171175521"
     },
     "user_tz": -180
    },
    "id": "meTw1Y6BnrG6",
    "outputId": "c0d041da-aa9f-454a-d4d2-b796990d2dd8"
   },
   "outputs": [
    {
     "name": "stdout",
     "output_type": "stream",
     "text": [
      "Mounted at /content/drive\n"
     ]
    }
   ],
   "source": [
    "# открываю доступ к диску\n",
    "from google.colab import drive \n",
    "drive.mount('/content/drive')"
   ]
  },
  {
   "cell_type": "code",
   "execution_count": null,
   "metadata": {
    "id": "joOLvqiJn1vR"
   },
   "outputs": [],
   "source": [
    "from sklearn.linear_model import LinearRegression"
   ]
  },
  {
   "cell_type": "code",
   "execution_count": null,
   "metadata": {
    "id": "lIs4KXHMn5tT"
   },
   "outputs": [],
   "source": [
    "import os\n",
    "\n",
    "os.chdir(\"/content/drive/My Drive/colab/AD\")"
   ]
  },
  {
   "cell_type": "markdown",
   "metadata": {
    "id": "mARTOWn1odQu"
   },
   "source": [
    "### Прогнозирование временных рядов. Вариант 4."
   ]
  },
  {
   "cell_type": "code",
   "execution_count": null,
   "metadata": {
    "colab": {
     "base_uri": "https://localhost:8080/",
     "height": 203
    },
    "executionInfo": {
     "elapsed": 1496,
     "status": "ok",
     "timestamp": 1607793940871,
     "user": {
      "displayName": "Юлия Филюшкина",
      "photoUrl": "",
      "userId": "13867730537171175521"
     },
     "user_tz": -180
    },
    "id": "woFYS_14Y_IV",
    "outputId": "bbf80d88-7fd0-4e54-9cac-c5dc74f908ea"
   },
   "outputs": [
    {
     "data": {
      "text/html": [
       "<div>\n",
       "<style scoped>\n",
       "    .dataframe tbody tr th:only-of-type {\n",
       "        vertical-align: middle;\n",
       "    }\n",
       "\n",
       "    .dataframe tbody tr th {\n",
       "        vertical-align: top;\n",
       "    }\n",
       "\n",
       "    .dataframe thead th {\n",
       "        text-align: right;\n",
       "    }\n",
       "</style>\n",
       "<table border=\"1\" class=\"dataframe\">\n",
       "  <thead>\n",
       "    <tr style=\"text-align: right;\">\n",
       "      <th></th>\n",
       "      <th>date1</th>\n",
       "      <th>date2</th>\n",
       "      <th>x1</th>\n",
       "      <th>x2</th>\n",
       "      <th>x3</th>\n",
       "      <th>x4</th>\n",
       "    </tr>\n",
       "  </thead>\n",
       "  <tbody>\n",
       "    <tr>\n",
       "      <th>0</th>\n",
       "      <td>January</td>\n",
       "      <td>1994</td>\n",
       "      <td>44,3</td>\n",
       "      <td>104,04</td>\n",
       "      <td>51,9</td>\n",
       "      <td>72,15</td>\n",
       "    </tr>\n",
       "    <tr>\n",
       "      <th>1</th>\n",
       "      <td>February</td>\n",
       "      <td>1994</td>\n",
       "      <td>54,7</td>\n",
       "      <td>102,74</td>\n",
       "      <td>60,1</td>\n",
       "      <td>73,47</td>\n",
       "    </tr>\n",
       "    <tr>\n",
       "      <th>2</th>\n",
       "      <td>March</td>\n",
       "      <td>1994</td>\n",
       "      <td>61,9</td>\n",
       "      <td>105,23</td>\n",
       "      <td>65</td>\n",
       "      <td>74,91</td>\n",
       "    </tr>\n",
       "    <tr>\n",
       "      <th>3</th>\n",
       "      <td>April</td>\n",
       "      <td>1994</td>\n",
       "      <td>69,1</td>\n",
       "      <td>113,63</td>\n",
       "      <td>69,8</td>\n",
       "      <td>79,06</td>\n",
       "    </tr>\n",
       "    <tr>\n",
       "      <th>4</th>\n",
       "      <td>May</td>\n",
       "      <td>1994</td>\n",
       "      <td>70,8</td>\n",
       "      <td>120,77</td>\n",
       "      <td>72,4</td>\n",
       "      <td>82,07</td>\n",
       "    </tr>\n",
       "  </tbody>\n",
       "</table>\n",
       "</div>"
      ],
      "text/plain": [
       "      date1  date2    x1      x2    x3     x4\n",
       "0   January   1994  44,3  104,04  51,9  72,15\n",
       "1  February   1994  54,7  102,74  60,1  73,47\n",
       "2     March   1994  61,9  105,23    65  74,91\n",
       "3     April   1994  69,1  113,63  69,8  79,06\n",
       "4       May   1994  70,8  120,77  72,4  82,07"
      ]
     },
     "execution_count": 5,
     "metadata": {
      "tags": []
     },
     "output_type": "execute_result"
    }
   ],
   "source": [
    "# считываем данные\n",
    "df = pd.read_csv('Chicago_hotels.csv', sep=';', decimal=',')\n",
    "df.head()"
   ]
  },
  {
   "cell_type": "code",
   "execution_count": null,
   "metadata": {
    "id": "zOvo_i52hmET"
   },
   "outputs": [],
   "source": [
    "# привожу в удобный формат\n",
    "df['x4'] = [float(data.replace(',', '.')) for data in df['x4'] if data != ' ']+[np.nan]*8\n",
    "df['month_num'] = range(1, len(df) + 1)"
   ]
  },
  {
   "cell_type": "markdown",
   "metadata": {
    "id": "-mEjMSXg558s"
   },
   "source": [
    "Посмотрим на распределение"
   ]
  },
  {
   "cell_type": "code",
   "execution_count": null,
   "metadata": {
    "colab": {
     "base_uri": "https://localhost:8080/",
     "height": 298
    },
    "executionInfo": {
     "elapsed": 1317,
     "status": "ok",
     "timestamp": 1607793970863,
     "user": {
      "displayName": "Юлия Филюшкина",
      "photoUrl": "",
      "userId": "13867730537171175521"
     },
     "user_tz": -180
    },
    "id": "DUyRXA12hQLw",
    "outputId": "16f10968-b7cc-4b6a-9eab-04732b764427"
   },
   "outputs": [
    {
     "data": {
      "text/plain": [
       "Text(0, 0.5, 'log10 от долларов')"
      ]
     },
     "execution_count": 8,
     "metadata": {
      "tags": []
     },
     "output_type": "execute_result"
    },
    {
     "data": {
      "image/png": "[encoded data removed]",
      "text/plain": [
       "<Figure size 864x288 with 2 Axes>"
      ]
     },
     "metadata": {
      "needs_background": "light",
      "tags": []
     },
     "output_type": "display_data"
    }
   ],
   "source": [
    "fig = plt.figure(figsize=(12, 4))\n",
    "ax1 = fig.add_subplot(121)\n",
    "df['x4'].plot(ax=ax1)\n",
    "ax1.set_title(u'Стоимость номера')\n",
    "ax1.set_ylabel(u'Долларов')\n",
    "\n",
    "ax2 = fig.add_subplot(122)\n",
    "pd.Series(np.log10(df['x4'])).plot(ax=ax2)\n",
    "ax2.set_title(u'log10 от стоимости номера')\n",
    "ax2.set_ylabel(u'log10 от долларов')\n"
   ]
  },
  {
   "cell_type": "markdown",
   "metadata": {
    "id": "vN2QdkE_7AqV"
   },
   "source": [
    "Я не вижу надобности в логарифмировании."
   ]
  },
  {
   "cell_type": "code",
   "execution_count": null,
   "metadata": {
    "id": "9xCVkKhGydqL"
   },
   "outputs": [],
   "source": [
    "# удаляю ненужные переменные\n",
    "del df['x3']\n",
    "del df['x2']\n",
    "del df['x1']"
   ]
  },
  {
   "cell_type": "code",
   "execution_count": null,
   "metadata": {
    "id": "obvBZKjqbzb1"
   },
   "outputs": [],
   "source": [
    "# удобная штука, которая разбивает категориальные переменные (ван хот энкодинг)\n",
    "df = pd.get_dummies(df, columns=['date1'],drop_first=True) # удалили столбец - избавились от линейной зависимости\n",
    "df_n = df.copy()"
   ]
  },
  {
   "cell_type": "code",
   "execution_count": null,
   "metadata": {
    "id": "irJySLdB8AWc"
   },
   "outputs": [],
   "source": [
    "for i in range(119, 111, -1):\n",
    "  df_n = df_n.drop([i])"
   ]
  },
  {
   "cell_type": "code",
   "execution_count": null,
   "metadata": {
    "colab": {
     "base_uri": "https://localhost:8080/"
    },
    "executionInfo": {
     "elapsed": 1037,
     "status": "ok",
     "timestamp": 1607794000775,
     "user": {
      "displayName": "Юлия Филюшкина",
      "photoUrl": "",
      "userId": "13867730537171175521"
     },
     "user_tz": -180
    },
    "id": "LYpmeCOlih5w",
    "outputId": "5849549d-92f9-4c73-828e-3e2f42e5abb5"
   },
   "outputs": [
    {
     "data": {
      "text/plain": [
       "LinearRegression(copy_X=True, fit_intercept=True, n_jobs=None, normalize=False)"
      ]
     },
     "execution_count": 12,
     "metadata": {
      "tags": []
     },
     "output_type": "execute_result"
    }
   ],
   "source": [
    "y = df_n['x4']\n",
    "X = df_n.drop(columns=[\"x4\", \"date2\",\"date1_January\", \"date1_February\", \"date1_March\"])\n",
    "#  Подгонка модели\n",
    "model = LinearRegression()\n",
    "model.fit(X, y)"
   ]
  },
  {
   "cell_type": "code",
   "execution_count": null,
   "metadata": {
    "colab": {
     "base_uri": "https://localhost:8080/",
     "height": 358
    },
    "executionInfo": {
     "elapsed": 978,
     "status": "ok",
     "timestamp": 1607794003965,
     "user": {
      "displayName": "Юлия Филюшкина",
      "photoUrl": "",
      "userId": "13867730537171175521"
     },
     "user_tz": -180
    },
    "id": "QG225bMy8Zg2",
    "outputId": "9471678d-d268-473d-c45e-dd986c6c8464"
   },
   "outputs": [
    {
     "data": {
      "text/html": [
       "<div>\n",
       "<style scoped>\n",
       "    .dataframe tbody tr th:only-of-type {\n",
       "        vertical-align: middle;\n",
       "    }\n",
       "\n",
       "    .dataframe tbody tr th {\n",
       "        vertical-align: top;\n",
       "    }\n",
       "\n",
       "    .dataframe thead th {\n",
       "        text-align: right;\n",
       "    }\n",
       "</style>\n",
       "<table border=\"1\" class=\"dataframe\">\n",
       "  <thead>\n",
       "    <tr style=\"text-align: right;\">\n",
       "      <th></th>\n",
       "      <th>predictor</th>\n",
       "      <th>coef</th>\n",
       "    </tr>\n",
       "  </thead>\n",
       "  <tbody>\n",
       "    <tr>\n",
       "      <th>0</th>\n",
       "      <td>intercept</td>\n",
       "      <td>76.105257</td>\n",
       "    </tr>\n",
       "    <tr>\n",
       "      <th>1</th>\n",
       "      <td>month_num</td>\n",
       "      <td>0.316898</td>\n",
       "    </tr>\n",
       "    <tr>\n",
       "      <th>2</th>\n",
       "      <td>date1_August</td>\n",
       "      <td>8.915116</td>\n",
       "    </tr>\n",
       "    <tr>\n",
       "      <th>3</th>\n",
       "      <td>date1_December</td>\n",
       "      <td>-1.675810</td>\n",
       "    </tr>\n",
       "    <tr>\n",
       "      <th>4</th>\n",
       "      <td>date1_July</td>\n",
       "      <td>5.317569</td>\n",
       "    </tr>\n",
       "    <tr>\n",
       "      <th>5</th>\n",
       "      <td>date1_June</td>\n",
       "      <td>14.570023</td>\n",
       "    </tr>\n",
       "    <tr>\n",
       "      <th>6</th>\n",
       "      <td>date1_May</td>\n",
       "      <td>13.526921</td>\n",
       "    </tr>\n",
       "    <tr>\n",
       "      <th>7</th>\n",
       "      <td>date1_November</td>\n",
       "      <td>12.433310</td>\n",
       "    </tr>\n",
       "    <tr>\n",
       "      <th>8</th>\n",
       "      <td>date1_October</td>\n",
       "      <td>17.227986</td>\n",
       "    </tr>\n",
       "    <tr>\n",
       "      <th>9</th>\n",
       "      <td>date1_September</td>\n",
       "      <td>13.069329</td>\n",
       "    </tr>\n",
       "  </tbody>\n",
       "</table>\n",
       "</div>"
      ],
      "text/plain": [
       "         predictor       coef\n",
       "0        intercept  76.105257\n",
       "1        month_num   0.316898\n",
       "2     date1_August   8.915116\n",
       "3   date1_December  -1.675810\n",
       "4       date1_July   5.317569\n",
       "5       date1_June  14.570023\n",
       "6        date1_May  13.526921\n",
       "7   date1_November  12.433310\n",
       "8    date1_October  17.227986\n",
       "9  date1_September  13.069329"
      ]
     },
     "execution_count": 13,
     "metadata": {
      "tags": []
     },
     "output_type": "execute_result"
    }
   ],
   "source": [
    "coef = pd.DataFrame(list(zip(['intercept'] + X.columns.tolist(), [model.intercept_] + model.coef_.tolist())),\n",
    "                    columns=['predictor', 'coef'])\n",
    "coef"
   ]
  },
  {
   "cell_type": "code",
   "execution_count": null,
   "metadata": {
    "id": "g82J6Xvg8e_H"
   },
   "outputs": [],
   "source": [
    "from scipy import stats\n",
    "\n",
    "def regression_coef(model, X, y):\n",
    "    coef = pd.DataFrame(list(zip(['intercept'] + X.columns.tolist(), [model.intercept_] + model.coef_.tolist())),\n",
    "                    columns=['predictor', 'coef'])\n",
    "    X1 = np.append(np.ones((len(X),1)), X, axis=1)\n",
    "    b = np.append(model.intercept_, model.coef_)\n",
    "    MSE = np.sum((model.predict(X) - y) ** 2, axis=0) / float(X.shape[0] - X.shape[1])\n",
    "    var_b = MSE * (np.linalg.inv(np.dot(X1.T, X1)).diagonal())\n",
    "    sd_b = np.sqrt(var_b)\n",
    "    t = b / sd_b\n",
    "    coef['pvalue'] = [2 * (1 - stats.t.cdf(np.abs(i), (len(X1) - 1))) for i in t]\n",
    "    return coef"
   ]
  },
  {
   "cell_type": "code",
   "execution_count": null,
   "metadata": {
    "colab": {
     "base_uri": "https://localhost:8080/",
     "height": 358
    },
    "executionInfo": {
     "elapsed": 926,
     "status": "ok",
     "timestamp": 1607794026520,
     "user": {
      "displayName": "Юлия Филюшкина",
      "photoUrl": "",
      "userId": "13867730537171175521"
     },
     "user_tz": -180
    },
    "id": "aVuybcUZ8j6I",
    "outputId": "eee6e9fa-a9a5-4d97-dc71-cfce40deb15f"
   },
   "outputs": [
    {
     "data": {
      "text/html": [
       "<div>\n",
       "<style scoped>\n",
       "    .dataframe tbody tr th:only-of-type {\n",
       "        vertical-align: middle;\n",
       "    }\n",
       "\n",
       "    .dataframe tbody tr th {\n",
       "        vertical-align: top;\n",
       "    }\n",
       "\n",
       "    .dataframe thead th {\n",
       "        text-align: right;\n",
       "    }\n",
       "</style>\n",
       "<table border=\"1\" class=\"dataframe\">\n",
       "  <thead>\n",
       "    <tr style=\"text-align: right;\">\n",
       "      <th></th>\n",
       "      <th>predictor</th>\n",
       "      <th>coef</th>\n",
       "      <th>pvalue</th>\n",
       "    </tr>\n",
       "  </thead>\n",
       "  <tbody>\n",
       "    <tr>\n",
       "      <th>0</th>\n",
       "      <td>intercept</td>\n",
       "      <td>76.105257</td>\n",
       "      <td>0.000000e+00</td>\n",
       "    </tr>\n",
       "    <tr>\n",
       "      <th>1</th>\n",
       "      <td>month_num</td>\n",
       "      <td>0.316898</td>\n",
       "      <td>0.000000e+00</td>\n",
       "    </tr>\n",
       "    <tr>\n",
       "      <th>2</th>\n",
       "      <td>date1_August</td>\n",
       "      <td>8.915116</td>\n",
       "      <td>1.911302e-03</td>\n",
       "    </tr>\n",
       "    <tr>\n",
       "      <th>3</th>\n",
       "      <td>date1_December</td>\n",
       "      <td>-1.675810</td>\n",
       "      <td>5.514116e-01</td>\n",
       "    </tr>\n",
       "    <tr>\n",
       "      <th>4</th>\n",
       "      <td>date1_July</td>\n",
       "      <td>5.317569</td>\n",
       "      <td>6.050100e-02</td>\n",
       "    </tr>\n",
       "    <tr>\n",
       "      <th>5</th>\n",
       "      <td>date1_June</td>\n",
       "      <td>14.570023</td>\n",
       "      <td>9.358725e-07</td>\n",
       "    </tr>\n",
       "    <tr>\n",
       "      <th>6</th>\n",
       "      <td>date1_May</td>\n",
       "      <td>13.526921</td>\n",
       "      <td>4.538651e-06</td>\n",
       "    </tr>\n",
       "    <tr>\n",
       "      <th>7</th>\n",
       "      <td>date1_November</td>\n",
       "      <td>12.433310</td>\n",
       "      <td>2.188463e-05</td>\n",
       "    </tr>\n",
       "    <tr>\n",
       "      <th>8</th>\n",
       "      <td>date1_October</td>\n",
       "      <td>17.227986</td>\n",
       "      <td>1.286458e-08</td>\n",
       "    </tr>\n",
       "    <tr>\n",
       "      <th>9</th>\n",
       "      <td>date1_September</td>\n",
       "      <td>13.069329</td>\n",
       "      <td>8.800339e-06</td>\n",
       "    </tr>\n",
       "  </tbody>\n",
       "</table>\n",
       "</div>"
      ],
      "text/plain": [
       "         predictor       coef        pvalue\n",
       "0        intercept  76.105257  0.000000e+00\n",
       "1        month_num   0.316898  0.000000e+00\n",
       "2     date1_August   8.915116  1.911302e-03\n",
       "3   date1_December  -1.675810  5.514116e-01\n",
       "4       date1_July   5.317569  6.050100e-02\n",
       "5       date1_June  14.570023  9.358725e-07\n",
       "6        date1_May  13.526921  4.538651e-06\n",
       "7   date1_November  12.433310  2.188463e-05\n",
       "8    date1_October  17.227986  1.286458e-08\n",
       "9  date1_September  13.069329  8.800339e-06"
      ]
     },
     "execution_count": 15,
     "metadata": {
      "tags": []
     },
     "output_type": "execute_result"
    }
   ],
   "source": [
    "# проверка гипотез и коэф-ты\n",
    "regression_coef(model, X, y)"
   ]
  },
  {
   "cell_type": "code",
   "execution_count": null,
   "metadata": {
    "colab": {
     "base_uri": "https://localhost:8080/",
     "height": 282
    },
    "executionInfo": {
     "elapsed": 1017,
     "status": "ok",
     "timestamp": 1607794034539,
     "user": {
      "displayName": "Юлия Филюшкина",
      "photoUrl": "",
      "userId": "13867730537171175521"
     },
     "user_tz": -180
    },
    "id": "dPj7obdB85oS",
    "outputId": "7c3490fd-1ca4-4fd3-f69d-0e1e04aa5cf8"
   },
   "outputs": [
    {
     "data": {
      "text/plain": [
       "<matplotlib.axes._subplots.AxesSubplot at 0x7f4fb5a78b70>"
      ]
     },
     "execution_count": 16,
     "metadata": {
      "tags": []
     },
     "output_type": "execute_result"
    },
    {
     "data": {
      "image/png": "[encoded data removed]",
      "text/plain": [
       "<Figure size 432x288 with 1 Axes>"
      ]
     },
     "metadata": {
      "needs_background": "light",
      "tags": []
     },
     "output_type": "display_data"
    }
   ],
   "source": [
    "#  Сравним подгонку\n",
    "\n",
    "pred = pd.DataFrame({\n",
    "    'pred': model.predict(X),\n",
    "    'real': y})\n",
    "pred.plot()"
   ]
  },
  {
   "cell_type": "markdown",
   "metadata": {
    "id": "styjkuY19CHL"
   },
   "source": [
    "Не очень. Посмотрим, что будет дальше."
   ]
  },
  {
   "cell_type": "code",
   "execution_count": null,
   "metadata": {
    "colab": {
     "base_uri": "https://localhost:8080/",
     "height": 481
    },
    "executionInfo": {
     "elapsed": 1212,
     "status": "ok",
     "timestamp": 1607794062525,
     "user": {
      "displayName": "Юлия Филюшкина",
      "photoUrl": "",
      "userId": "13867730537171175521"
     },
     "user_tz": -180
    },
    "id": "jlhb3_T-9e1O",
    "outputId": "9767baee-22b7-48c9-dd18-d2777bc2af98"
   },
   "outputs": [
    {
     "data": {
      "text/html": [
       "<div>\n",
       "<style scoped>\n",
       "    .dataframe tbody tr th:only-of-type {\n",
       "        vertical-align: middle;\n",
       "    }\n",
       "\n",
       "    .dataframe tbody tr th {\n",
       "        vertical-align: top;\n",
       "    }\n",
       "\n",
       "    .dataframe thead th {\n",
       "        text-align: right;\n",
       "    }\n",
       "</style>\n",
       "<table border=\"1\" class=\"dataframe\">\n",
       "  <thead>\n",
       "    <tr style=\"text-align: right;\">\n",
       "      <th></th>\n",
       "      <th>pred</th>\n",
       "      <th>real</th>\n",
       "    </tr>\n",
       "  </thead>\n",
       "  <tbody>\n",
       "    <tr>\n",
       "      <th>0</th>\n",
       "      <td>76.422155</td>\n",
       "      <td>72.15</td>\n",
       "    </tr>\n",
       "    <tr>\n",
       "      <th>1</th>\n",
       "      <td>76.739053</td>\n",
       "      <td>73.47</td>\n",
       "    </tr>\n",
       "    <tr>\n",
       "      <th>2</th>\n",
       "      <td>77.055951</td>\n",
       "      <td>74.91</td>\n",
       "    </tr>\n",
       "    <tr>\n",
       "      <th>3</th>\n",
       "      <td>77.372849</td>\n",
       "      <td>79.06</td>\n",
       "    </tr>\n",
       "    <tr>\n",
       "      <th>4</th>\n",
       "      <td>91.216669</td>\n",
       "      <td>82.07</td>\n",
       "    </tr>\n",
       "    <tr>\n",
       "      <th>5</th>\n",
       "      <td>92.576669</td>\n",
       "      <td>84.96</td>\n",
       "    </tr>\n",
       "    <tr>\n",
       "      <th>6</th>\n",
       "      <td>83.641113</td>\n",
       "      <td>77.22</td>\n",
       "    </tr>\n",
       "    <tr>\n",
       "      <th>7</th>\n",
       "      <td>87.555558</td>\n",
       "      <td>79.25</td>\n",
       "    </tr>\n",
       "    <tr>\n",
       "      <th>8</th>\n",
       "      <td>92.026669</td>\n",
       "      <td>82.93</td>\n",
       "    </tr>\n",
       "    <tr>\n",
       "      <th>9</th>\n",
       "      <td>96.502224</td>\n",
       "      <td>86.49</td>\n",
       "    </tr>\n",
       "    <tr>\n",
       "      <th>10</th>\n",
       "      <td>92.024446</td>\n",
       "      <td>85.07</td>\n",
       "    </tr>\n",
       "    <tr>\n",
       "      <th>11</th>\n",
       "      <td>78.232224</td>\n",
       "      <td>74.72</td>\n",
       "    </tr>\n",
       "    <tr>\n",
       "      <th>12</th>\n",
       "      <td>80.224932</td>\n",
       "      <td>77.94</td>\n",
       "    </tr>\n",
       "    <tr>\n",
       "      <th>13</th>\n",
       "      <td>80.541830</td>\n",
       "      <td>76.15</td>\n",
       "    </tr>\n",
       "  </tbody>\n",
       "</table>\n",
       "</div>"
      ],
      "text/plain": [
       "         pred   real\n",
       "0   76.422155  72.15\n",
       "1   76.739053  73.47\n",
       "2   77.055951  74.91\n",
       "3   77.372849  79.06\n",
       "4   91.216669  82.07\n",
       "5   92.576669  84.96\n",
       "6   83.641113  77.22\n",
       "7   87.555558  79.25\n",
       "8   92.026669  82.93\n",
       "9   96.502224  86.49\n",
       "10  92.024446  85.07\n",
       "11  78.232224  74.72\n",
       "12  80.224932  77.94\n",
       "13  80.541830  76.15"
      ]
     },
     "execution_count": 17,
     "metadata": {
      "tags": []
     },
     "output_type": "execute_result"
    }
   ],
   "source": [
    "pred.head(14)"
   ]
  },
  {
   "cell_type": "code",
   "execution_count": null,
   "metadata": {
    "id": "d3m_TipMlg9r"
   },
   "outputs": [],
   "source": [
    "# строим матрицу для теста\n",
    "# я заранее сделала вычисления в большой матрице, можно просто взять нужный кусок в 8 последних месяцев\n",
    "z = df.copy()\n",
    "for i in range(111, -1, -1):\n",
    "  z = z.drop([i])"
   ]
  },
  {
   "cell_type": "code",
   "execution_count": null,
   "metadata": {
    "id": "8E6RlwXF0KVV"
   },
   "outputs": [],
   "source": [
    "# и удалить ненужные колонки\n",
    "z = z.drop(columns=[\"x4\", \"date2\", \"date1_January\", \"date1_February\", \"date1_March\"])"
   ]
  },
  {
   "cell_type": "code",
   "execution_count": null,
   "metadata": {
    "colab": {
     "base_uri": "https://localhost:8080/",
     "height": 316
    },
    "executionInfo": {
     "elapsed": 924,
     "status": "ok",
     "timestamp": 1607794072639,
     "user": {
      "displayName": "Юлия Филюшкина",
      "photoUrl": "",
      "userId": "13867730537171175521"
     },
     "user_tz": -180
    },
    "id": "9xdRsygu1dWs",
    "outputId": "b8f4cda7-875e-42d9-d8f4-03eaf32bebea"
   },
   "outputs": [
    {
     "data": {
      "text/html": [
       "<div>\n",
       "<style scoped>\n",
       "    .dataframe tbody tr th:only-of-type {\n",
       "        vertical-align: middle;\n",
       "    }\n",
       "\n",
       "    .dataframe tbody tr th {\n",
       "        vertical-align: top;\n",
       "    }\n",
       "\n",
       "    .dataframe thead th {\n",
       "        text-align: right;\n",
       "    }\n",
       "</style>\n",
       "<table border=\"1\" class=\"dataframe\">\n",
       "  <thead>\n",
       "    <tr style=\"text-align: right;\">\n",
       "      <th></th>\n",
       "      <th>month_num</th>\n",
       "      <th>date1_August</th>\n",
       "      <th>date1_December</th>\n",
       "      <th>date1_July</th>\n",
       "      <th>date1_June</th>\n",
       "      <th>date1_May</th>\n",
       "      <th>date1_November</th>\n",
       "      <th>date1_October</th>\n",
       "      <th>date1_September</th>\n",
       "    </tr>\n",
       "  </thead>\n",
       "  <tbody>\n",
       "    <tr>\n",
       "      <th>112</th>\n",
       "      <td>113</td>\n",
       "      <td>0</td>\n",
       "      <td>0</td>\n",
       "      <td>0</td>\n",
       "      <td>0</td>\n",
       "      <td>1</td>\n",
       "      <td>0</td>\n",
       "      <td>0</td>\n",
       "      <td>0</td>\n",
       "    </tr>\n",
       "    <tr>\n",
       "      <th>113</th>\n",
       "      <td>114</td>\n",
       "      <td>0</td>\n",
       "      <td>0</td>\n",
       "      <td>0</td>\n",
       "      <td>1</td>\n",
       "      <td>0</td>\n",
       "      <td>0</td>\n",
       "      <td>0</td>\n",
       "      <td>0</td>\n",
       "    </tr>\n",
       "    <tr>\n",
       "      <th>114</th>\n",
       "      <td>115</td>\n",
       "      <td>0</td>\n",
       "      <td>0</td>\n",
       "      <td>1</td>\n",
       "      <td>0</td>\n",
       "      <td>0</td>\n",
       "      <td>0</td>\n",
       "      <td>0</td>\n",
       "      <td>0</td>\n",
       "    </tr>\n",
       "    <tr>\n",
       "      <th>115</th>\n",
       "      <td>116</td>\n",
       "      <td>1</td>\n",
       "      <td>0</td>\n",
       "      <td>0</td>\n",
       "      <td>0</td>\n",
       "      <td>0</td>\n",
       "      <td>0</td>\n",
       "      <td>0</td>\n",
       "      <td>0</td>\n",
       "    </tr>\n",
       "    <tr>\n",
       "      <th>116</th>\n",
       "      <td>117</td>\n",
       "      <td>0</td>\n",
       "      <td>0</td>\n",
       "      <td>0</td>\n",
       "      <td>0</td>\n",
       "      <td>0</td>\n",
       "      <td>0</td>\n",
       "      <td>0</td>\n",
       "      <td>1</td>\n",
       "    </tr>\n",
       "    <tr>\n",
       "      <th>117</th>\n",
       "      <td>118</td>\n",
       "      <td>0</td>\n",
       "      <td>0</td>\n",
       "      <td>0</td>\n",
       "      <td>0</td>\n",
       "      <td>0</td>\n",
       "      <td>0</td>\n",
       "      <td>1</td>\n",
       "      <td>0</td>\n",
       "    </tr>\n",
       "    <tr>\n",
       "      <th>118</th>\n",
       "      <td>119</td>\n",
       "      <td>0</td>\n",
       "      <td>0</td>\n",
       "      <td>0</td>\n",
       "      <td>0</td>\n",
       "      <td>0</td>\n",
       "      <td>1</td>\n",
       "      <td>0</td>\n",
       "      <td>0</td>\n",
       "    </tr>\n",
       "    <tr>\n",
       "      <th>119</th>\n",
       "      <td>120</td>\n",
       "      <td>0</td>\n",
       "      <td>1</td>\n",
       "      <td>0</td>\n",
       "      <td>0</td>\n",
       "      <td>0</td>\n",
       "      <td>0</td>\n",
       "      <td>0</td>\n",
       "      <td>0</td>\n",
       "    </tr>\n",
       "  </tbody>\n",
       "</table>\n",
       "</div>"
      ],
      "text/plain": [
       "     month_num  date1_August  ...  date1_October  date1_September\n",
       "112        113             0  ...              0                0\n",
       "113        114             0  ...              0                0\n",
       "114        115             0  ...              0                0\n",
       "115        116             1  ...              0                0\n",
       "116        117             0  ...              0                1\n",
       "117        118             0  ...              1                0\n",
       "118        119             0  ...              0                0\n",
       "119        120             0  ...              0                0\n",
       "\n",
       "[8 rows x 9 columns]"
      ]
     },
     "execution_count": 20,
     "metadata": {
      "tags": []
     },
     "output_type": "execute_result"
    }
   ],
   "source": [
    "z"
   ]
  },
  {
   "cell_type": "code",
   "execution_count": null,
   "metadata": {
    "colab": {
     "base_uri": "https://localhost:8080/"
    },
    "executionInfo": {
     "elapsed": 805,
     "status": "ok",
     "timestamp": 1607794075320,
     "user": {
      "displayName": "Юлия Филюшкина",
      "photoUrl": "",
      "userId": "13867730537171175521"
     },
     "user_tz": -180
    },
    "id": "4pXsDXqW1Tyi",
    "outputId": "c6376fa4-99b6-4c03-f695-8284f8b153fa"
   },
   "outputs": [
    {
     "data": {
      "text/plain": [
       "array([125.44166414, 126.80166414, 117.86610859, 121.78055303,\n",
       "       126.25166414, 130.7272197 , 126.24944192, 112.4572197 ])"
      ]
     },
     "execution_count": 21,
     "metadata": {
      "tags": []
     },
     "output_type": "execute_result"
    }
   ],
   "source": [
    "model.predict(z)"
   ]
  },
  {
   "cell_type": "markdown",
   "metadata": {
    "id": "NR6UUtou-Dob"
   },
   "source": [
    "Построим график:"
   ]
  },
  {
   "cell_type": "code",
   "execution_count": null,
   "metadata": {
    "id": "9D1MlVME-CX1"
   },
   "outputs": [],
   "source": [
    "#  матрица с подгонкой\n",
    "pred['forecast'] = np.nan"
   ]
  },
  {
   "cell_type": "code",
   "execution_count": null,
   "metadata": {
    "id": "h3ZomLui17lc"
   },
   "outputs": [],
   "source": [
    "df_4 = pd.DataFrame(model.predict(z), columns=['forecast'])\n",
    "df_4['real'] = np.nan\n",
    "df_4['pred'] = np.nan\n"
   ]
  },
  {
   "cell_type": "code",
   "execution_count": null,
   "metadata": {
    "colab": {
     "base_uri": "https://localhost:8080/",
     "height": 282
    },
    "executionInfo": {
     "elapsed": 1160,
     "status": "ok",
     "timestamp": 1607794083715,
     "user": {
      "displayName": "Юлия Филюшкина",
      "photoUrl": "",
      "userId": "13867730537171175521"
     },
     "user_tz": -180
    },
    "id": "hZO7xfiu2A5-",
    "outputId": "cfbf50ab-292d-43e4-b3c3-735c77cdc73c"
   },
   "outputs": [
    {
     "data": {
      "text/plain": [
       "<matplotlib.axes._subplots.AxesSubplot at 0x7f4fb542a860>"
      ]
     },
     "execution_count": 24,
     "metadata": {
      "tags": []
     },
     "output_type": "execute_result"
    },
    {
     "data": {
      "image/png": "[encoded data removed]",
      "text/plain": [
       "<Figure size 432x288 with 1 Axes>"
      ]
     },
     "metadata": {
      "needs_background": "light",
      "tags": []
     },
     "output_type": "display_data"
    }
   ],
   "source": [
    "#  объединяем матрицы, задаем новые индексы\n",
    "pred_1 = pd.concat(\n",
    "    [pred, df_4],\n",
    "    sort=False\n",
    ").reset_index(drop=True)\n",
    "\n",
    "pred_1.plot()"
   ]
  },
  {
   "cell_type": "markdown",
   "metadata": {
    "id": "jCeGdT6g-UBf"
   },
   "source": [
    "Завышенные значения, на мой взгляд. Нужно что-то менять!"
   ]
  }
 ],
 "metadata": {
  "colab": {
   "authorship_tag": "ABX9TyNs2FP4nIfYLTefMycsG8tB",
   "collapsed_sections": [],
   "name": "обычная линейная модель.ipynb",
   "provenance": []
  },
  "kernelspec": {
   "display_name": "Python 3",
   "language": "python",
   "name": "python3"
  },
  "language_info": {
   "codemirror_mode": {
    "name": "ipython",
    "version": 3
   },
   "file_extension": ".py",
   "mimetype": "text/x-python",
   "name": "python",
   "nbconvert_exporter": "python",
   "pygments_lexer": "ipython3",
   "version": "3.7.4"
  }
 },
 "nbformat": 4,
 "nbformat_minor": 1
}
