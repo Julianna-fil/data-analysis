{
 "cells": [
  {
   "cell_type": "markdown",
   "metadata": {
    "id": "Rpas8X66B8QY"
   },
   "source": [
    "# Модель с добавлением квадрата месяца"
   ]
  },
  {
   "cell_type": "code",
   "execution_count": null,
   "metadata": {},
   "outputs": [],
   "source": [
    "import pandas as pd\n",
    "import numpy as np\n",
    "import matplotlib\n",
    "import matplotlib.pyplot as plt\n",
    "#  matplotlib.style.use('ggplot')\n",
    "%matplotlib inline"
   ]
  },
  {
   "cell_type": "code",
   "execution_count": null,
   "metadata": {
    "colab": {
     "base_uri": "https://localhost:8080/"
    },
    "executionInfo": {
     "elapsed": 1032,
     "status": "ok",
     "timestamp": 1607788448052,
     "user": {
      "displayName": "Юлия Филюшкина",
      "photoUrl": "",
      "userId": "13867730537171175521"
     },
     "user_tz": -180
    },
    "id": "meTw1Y6BnrG6",
    "outputId": "24aa733b-a6db-44be-a654-add60b0b4d21"
   },
   "outputs": [
    {
     "name": "stdout",
     "output_type": "stream",
     "text": [
      "Drive already mounted at /content/drive; to attempt to forcibly remount, call drive.mount(\"/content/drive\", force_remount=True).\n"
     ]
    }
   ],
   "source": [
    "# открываю доступ к диску\n",
    "from google.colab import drive \n",
    "drive.mount('/content/drive')"
   ]
  },
  {
   "cell_type": "code",
   "execution_count": null,
   "metadata": {
    "id": "joOLvqiJn1vR"
   },
   "outputs": [],
   "source": [
    "from sklearn.linear_model import LinearRegression"
   ]
  },
  {
   "cell_type": "code",
   "execution_count": null,
   "metadata": {
    "id": "lIs4KXHMn5tT"
   },
   "outputs": [],
   "source": [
    "import os\n",
    "\n",
    "os.chdir(\"/content/drive/My Drive/colab/AD\")"
   ]
  },
  {
   "cell_type": "markdown",
   "metadata": {
    "id": "mARTOWn1odQu"
   },
   "source": [
    "### Прогнозирование временных рядов. Вариант 4."
   ]
  },
  {
   "cell_type": "code",
   "execution_count": null,
   "metadata": {
    "colab": {
     "base_uri": "https://localhost:8080/",
     "height": 203
    },
    "executionInfo": {
     "elapsed": 1133,
     "status": "ok",
     "timestamp": 1607793055048,
     "user": {
      "displayName": "Юлия Филюшкина",
      "photoUrl": "",
      "userId": "13867730537171175521"
     },
     "user_tz": -180
    },
    "id": "woFYS_14Y_IV",
    "outputId": "11360344-c92c-4b52-de6f-da685b953194"
   },
   "outputs": [
    {
     "data": {
      "text/html": [
       "<div>\n",
       "<style scoped>\n",
       "    .dataframe tbody tr th:only-of-type {\n",
       "        vertical-align: middle;\n",
       "    }\n",
       "\n",
       "    .dataframe tbody tr th {\n",
       "        vertical-align: top;\n",
       "    }\n",
       "\n",
       "    .dataframe thead th {\n",
       "        text-align: right;\n",
       "    }\n",
       "</style>\n",
       "<table border=\"1\" class=\"dataframe\">\n",
       "  <thead>\n",
       "    <tr style=\"text-align: right;\">\n",
       "      <th></th>\n",
       "      <th>date1</th>\n",
       "      <th>date2</th>\n",
       "      <th>x1</th>\n",
       "      <th>x2</th>\n",
       "      <th>x3</th>\n",
       "      <th>x4</th>\n",
       "    </tr>\n",
       "  </thead>\n",
       "  <tbody>\n",
       "    <tr>\n",
       "      <th>0</th>\n",
       "      <td>January</td>\n",
       "      <td>1994</td>\n",
       "      <td>44,3</td>\n",
       "      <td>104,04</td>\n",
       "      <td>51,9</td>\n",
       "      <td>72,15</td>\n",
       "    </tr>\n",
       "    <tr>\n",
       "      <th>1</th>\n",
       "      <td>February</td>\n",
       "      <td>1994</td>\n",
       "      <td>54,7</td>\n",
       "      <td>102,74</td>\n",
       "      <td>60,1</td>\n",
       "      <td>73,47</td>\n",
       "    </tr>\n",
       "    <tr>\n",
       "      <th>2</th>\n",
       "      <td>March</td>\n",
       "      <td>1994</td>\n",
       "      <td>61,9</td>\n",
       "      <td>105,23</td>\n",
       "      <td>65</td>\n",
       "      <td>74,91</td>\n",
       "    </tr>\n",
       "    <tr>\n",
       "      <th>3</th>\n",
       "      <td>April</td>\n",
       "      <td>1994</td>\n",
       "      <td>69,1</td>\n",
       "      <td>113,63</td>\n",
       "      <td>69,8</td>\n",
       "      <td>79,06</td>\n",
       "    </tr>\n",
       "    <tr>\n",
       "      <th>4</th>\n",
       "      <td>May</td>\n",
       "      <td>1994</td>\n",
       "      <td>70,8</td>\n",
       "      <td>120,77</td>\n",
       "      <td>72,4</td>\n",
       "      <td>82,07</td>\n",
       "    </tr>\n",
       "  </tbody>\n",
       "</table>\n",
       "</div>"
      ],
      "text/plain": [
       "      date1  date2    x1      x2    x3     x4\n",
       "0   January   1994  44,3  104,04  51,9  72,15\n",
       "1  February   1994  54,7  102,74  60,1  73,47\n",
       "2     March   1994  61,9  105,23    65  74,91\n",
       "3     April   1994  69,1  113,63  69,8  79,06\n",
       "4       May   1994  70,8  120,77  72,4  82,07"
      ]
     },
     "execution_count": 639,
     "metadata": {
      "tags": []
     },
     "output_type": "execute_result"
    }
   ],
   "source": [
    "# считываем данные\n",
    "df = pd.read_csv('Chicago_hotels.csv', sep=';', decimal=',')\n",
    "df.head()"
   ]
  },
  {
   "cell_type": "code",
   "execution_count": null,
   "metadata": {
    "id": "zOvo_i52hmET"
   },
   "outputs": [],
   "source": [
    "# привожу в удобный формат\n",
    "df['x4'] = [float(data.replace(',', '.')) for data in df['x4'] if data != ' ']+[np.nan]*8\n",
    "df['month_num'] = range(1, len(df) + 1)"
   ]
  },
  {
   "cell_type": "markdown",
   "metadata": {
    "id": "-mEjMSXg558s"
   },
   "source": [
    "Посмотрим на распределение"
   ]
  },
  {
   "cell_type": "code",
   "execution_count": null,
   "metadata": {
    "colab": {
     "base_uri": "https://localhost:8080/",
     "height": 298
    },
    "executionInfo": {
     "elapsed": 1523,
     "status": "ok",
     "timestamp": 1607793062472,
     "user": {
      "displayName": "Юлия Филюшкина",
      "photoUrl": "",
      "userId": "13867730537171175521"
     },
     "user_tz": -180
    },
    "id": "DUyRXA12hQLw",
    "outputId": "863a01b8-8c43-4730-d0a6-1f4a054f0b16"
   },
   "outputs": [
    {
     "data": {
      "text/plain": [
       "Text(0, 0.5, 'log10 от долларов')"
      ]
     },
     "execution_count": 641,
     "metadata": {
      "tags": []
     },
     "output_type": "execute_result"
    },
    {
     "data": {
      "image/png": "[encoded data removed]",
      "text/plain": [
       "<Figure size 864x288 with 2 Axes>"
      ]
     },
     "metadata": {
      "needs_background": "light",
      "tags": []
     },
     "output_type": "display_data"
    }
   ],
   "source": [
    "fig = plt.figure(figsize=(12, 4))\n",
    "ax1 = fig.add_subplot(121)\n",
    "df_n['x4'].plot(ax=ax1)\n",
    "ax1.set_title(u'Стоимость номера')\n",
    "ax1.set_ylabel(u'Долларов')\n",
    "\n",
    "ax2 = fig.add_subplot(122)\n",
    "pd.Series(np.log10(df['x4'])).plot(ax=ax2)\n",
    "ax2.set_title(u'log10 от стоимости номера')\n",
    "ax2.set_ylabel(u'log10 от долларов')\n"
   ]
  },
  {
   "cell_type": "markdown",
   "metadata": {
    "id": "vN2QdkE_7AqV"
   },
   "source": [
    "Похоже на параболу. И еще я не вижу надобности в логарифмировании."
   ]
  },
  {
   "cell_type": "code",
   "execution_count": null,
   "metadata": {
    "id": "oMDv9NHF2TXS"
   },
   "outputs": [],
   "source": [
    "# добавлю квадрат для параболы\n",
    "df[\"m_sq\"] = df['month_num']**2"
   ]
  },
  {
   "cell_type": "code",
   "execution_count": null,
   "metadata": {
    "id": "9xCVkKhGydqL"
   },
   "outputs": [],
   "source": [
    "# удаляю ненужные переменные\n",
    "del df['x3']\n",
    "del df['x2']\n",
    "del df['x1']"
   ]
  },
  {
   "cell_type": "code",
   "execution_count": null,
   "metadata": {
    "id": "obvBZKjqbzb1"
   },
   "outputs": [],
   "source": [
    "# удобная штука, которая разбивает категориальные переменные (ван хот энкодинг)\n",
    "df = pd.get_dummies(df, columns=['date1'],drop_first=True) # удалили столбец - избавились от линейной зависимости\n",
    "df_n = df.copy()"
   ]
  },
  {
   "cell_type": "code",
   "execution_count": null,
   "metadata": {
    "id": "irJySLdB8AWc"
   },
   "outputs": [],
   "source": [
    "for i in range(119, 111, -1):\n",
    "  df_n = df_n.drop([i])"
   ]
  },
  {
   "cell_type": "code",
   "execution_count": null,
   "metadata": {
    "colab": {
     "base_uri": "https://localhost:8080/"
    },
    "executionInfo": {
     "elapsed": 1099,
     "status": "ok",
     "timestamp": 1607793183421,
     "user": {
      "displayName": "Юлия Филюшкина",
      "photoUrl": "",
      "userId": "13867730537171175521"
     },
     "user_tz": -180
    },
    "id": "LYpmeCOlih5w",
    "outputId": "64bfc567-3c1d-412e-9a82-18112d70a55a"
   },
   "outputs": [
    {
     "data": {
      "text/plain": [
       "LinearRegression(copy_X=True, fit_intercept=True, n_jobs=None, normalize=False)"
      ]
     },
     "execution_count": 649,
     "metadata": {
      "tags": []
     },
     "output_type": "execute_result"
    }
   ],
   "source": [
    "y = df_n['x4']\n",
    "X = df_n.drop(columns=[\"x4\", \"date2\",\"date1_January\", \"date1_February\", \"date1_March\"])\n",
    "#  Подгонка модели\n",
    "model = LinearRegression()\n",
    "model.fit(X, y)"
   ]
  },
  {
   "cell_type": "code",
   "execution_count": null,
   "metadata": {
    "colab": {
     "base_uri": "https://localhost:8080/",
     "height": 389
    },
    "executionInfo": {
     "elapsed": 960,
     "status": "ok",
     "timestamp": 1607793227759,
     "user": {
      "displayName": "Юлия Филюшкина",
      "photoUrl": "",
      "userId": "13867730537171175521"
     },
     "user_tz": -180
    },
    "id": "QG225bMy8Zg2",
    "outputId": "c8a8e905-ea18-4b31-a0ae-775208965cf0"
   },
   "outputs": [
    {
     "data": {
      "text/html": [
       "<div>\n",
       "<style scoped>\n",
       "    .dataframe tbody tr th:only-of-type {\n",
       "        vertical-align: middle;\n",
       "    }\n",
       "\n",
       "    .dataframe tbody tr th {\n",
       "        vertical-align: top;\n",
       "    }\n",
       "\n",
       "    .dataframe thead th {\n",
       "        text-align: right;\n",
       "    }\n",
       "</style>\n",
       "<table border=\"1\" class=\"dataframe\">\n",
       "  <thead>\n",
       "    <tr style=\"text-align: right;\">\n",
       "      <th></th>\n",
       "      <th>predictor</th>\n",
       "      <th>coef</th>\n",
       "    </tr>\n",
       "  </thead>\n",
       "  <tbody>\n",
       "    <tr>\n",
       "      <th>0</th>\n",
       "      <td>intercept</td>\n",
       "      <td>63.796408</td>\n",
       "    </tr>\n",
       "    <tr>\n",
       "      <th>1</th>\n",
       "      <td>month_num</td>\n",
       "      <td>1.011306</td>\n",
       "    </tr>\n",
       "    <tr>\n",
       "      <th>2</th>\n",
       "      <td>m_sq</td>\n",
       "      <td>-0.006145</td>\n",
       "    </tr>\n",
       "    <tr>\n",
       "      <th>3</th>\n",
       "      <td>date1_August</td>\n",
       "      <td>7.507863</td>\n",
       "    </tr>\n",
       "    <tr>\n",
       "      <th>4</th>\n",
       "      <td>date1_December</td>\n",
       "      <td>-3.009320</td>\n",
       "    </tr>\n",
       "    <tr>\n",
       "      <th>5</th>\n",
       "      <td>date1_July</td>\n",
       "      <td>3.922608</td>\n",
       "    </tr>\n",
       "    <tr>\n",
       "      <th>6</th>\n",
       "      <td>date1_June</td>\n",
       "      <td>13.199642</td>\n",
       "    </tr>\n",
       "    <tr>\n",
       "      <th>7</th>\n",
       "      <td>date1_May</td>\n",
       "      <td>12.193411</td>\n",
       "    </tr>\n",
       "    <tr>\n",
       "      <th>8</th>\n",
       "      <td>date1_November</td>\n",
       "      <td>11.062929</td>\n",
       "    </tr>\n",
       "    <tr>\n",
       "      <th>9</th>\n",
       "      <td>date1_October</td>\n",
       "      <td>15.833024</td>\n",
       "    </tr>\n",
       "    <tr>\n",
       "      <th>10</th>\n",
       "      <td>date1_September</td>\n",
       "      <td>11.662076</td>\n",
       "    </tr>\n",
       "  </tbody>\n",
       "</table>\n",
       "</div>"
      ],
      "text/plain": [
       "          predictor       coef\n",
       "0         intercept  63.796408\n",
       "1         month_num   1.011306\n",
       "2              m_sq  -0.006145\n",
       "3      date1_August   7.507863\n",
       "4    date1_December  -3.009320\n",
       "5        date1_July   3.922608\n",
       "6        date1_June  13.199642\n",
       "7         date1_May  12.193411\n",
       "8    date1_November  11.062929\n",
       "9     date1_October  15.833024\n",
       "10  date1_September  11.662076"
      ]
     },
     "execution_count": 650,
     "metadata": {
      "tags": []
     },
     "output_type": "execute_result"
    }
   ],
   "source": [
    "coef = pd.DataFrame(list(zip(['intercept'] + X.columns.tolist(), [model.intercept_] + model.coef_.tolist())),\n",
    "                    columns=['predictor', 'coef'])\n",
    "coef"
   ]
  },
  {
   "cell_type": "code",
   "execution_count": null,
   "metadata": {
    "id": "g82J6Xvg8e_H"
   },
   "outputs": [],
   "source": [
    "from scipy import stats\n",
    "\n",
    "def regression_coef(model, X, y):\n",
    "    coef = pd.DataFrame(list(zip(['intercept'] + X.columns.tolist(), [model.intercept_] + model.coef_.tolist())),\n",
    "                    columns=['predictor', 'coef'])\n",
    "    X1 = np.append(np.ones((len(X),1)), X, axis=1)\n",
    "    b = np.append(model.intercept_, model.coef_)\n",
    "    MSE = np.sum((model.predict(X) - y) ** 2, axis=0) / float(X.shape[0] - X.shape[1])\n",
    "    var_b = MSE * (np.linalg.inv(np.dot(X1.T, X1)).diagonal())\n",
    "    sd_b = np.sqrt(var_b)\n",
    "    t = b / sd_b\n",
    "    coef['pvalue'] = [2 * (1 - stats.t.cdf(np.abs(i), (len(X1) - 1))) for i in t]\n",
    "    return coef"
   ]
  },
  {
   "cell_type": "code",
   "execution_count": null,
   "metadata": {
    "colab": {
     "base_uri": "https://localhost:8080/",
     "height": 389
    },
    "executionInfo": {
     "elapsed": 1054,
     "status": "ok",
     "timestamp": 1607793266342,
     "user": {
      "displayName": "Юлия Филюшкина",
      "photoUrl": "",
      "userId": "13867730537171175521"
     },
     "user_tz": -180
    },
    "id": "aVuybcUZ8j6I",
    "outputId": "bcc07bde-13ce-46c7-9ef8-866b45582333"
   },
   "outputs": [
    {
     "data": {
      "text/html": [
       "<div>\n",
       "<style scoped>\n",
       "    .dataframe tbody tr th:only-of-type {\n",
       "        vertical-align: middle;\n",
       "    }\n",
       "\n",
       "    .dataframe tbody tr th {\n",
       "        vertical-align: top;\n",
       "    }\n",
       "\n",
       "    .dataframe thead th {\n",
       "        text-align: right;\n",
       "    }\n",
       "</style>\n",
       "<table border=\"1\" class=\"dataframe\">\n",
       "  <thead>\n",
       "    <tr style=\"text-align: right;\">\n",
       "      <th></th>\n",
       "      <th>predictor</th>\n",
       "      <th>coef</th>\n",
       "      <th>pvalue</th>\n",
       "    </tr>\n",
       "  </thead>\n",
       "  <tbody>\n",
       "    <tr>\n",
       "      <th>0</th>\n",
       "      <td>intercept</td>\n",
       "      <td>63.796408</td>\n",
       "      <td>0.000000e+00</td>\n",
       "    </tr>\n",
       "    <tr>\n",
       "      <th>1</th>\n",
       "      <td>month_num</td>\n",
       "      <td>1.011306</td>\n",
       "      <td>0.000000e+00</td>\n",
       "    </tr>\n",
       "    <tr>\n",
       "      <th>2</th>\n",
       "      <td>m_sq</td>\n",
       "      <td>-0.006145</td>\n",
       "      <td>0.000000e+00</td>\n",
       "    </tr>\n",
       "    <tr>\n",
       "      <th>3</th>\n",
       "      <td>date1_August</td>\n",
       "      <td>7.507863</td>\n",
       "      <td>4.053492e-05</td>\n",
       "    </tr>\n",
       "    <tr>\n",
       "      <th>4</th>\n",
       "      <td>date1_December</td>\n",
       "      <td>-3.009320</td>\n",
       "      <td>8.943360e-02</td>\n",
       "    </tr>\n",
       "    <tr>\n",
       "      <th>5</th>\n",
       "      <td>date1_July</td>\n",
       "      <td>3.922608</td>\n",
       "      <td>2.750767e-02</td>\n",
       "    </tr>\n",
       "    <tr>\n",
       "      <th>6</th>\n",
       "      <td>date1_June</td>\n",
       "      <td>13.199642</td>\n",
       "      <td>1.552625e-11</td>\n",
       "    </tr>\n",
       "    <tr>\n",
       "      <th>7</th>\n",
       "      <td>date1_May</td>\n",
       "      <td>12.193411</td>\n",
       "      <td>2.737166e-10</td>\n",
       "    </tr>\n",
       "    <tr>\n",
       "      <th>8</th>\n",
       "      <td>date1_November</td>\n",
       "      <td>11.062929</td>\n",
       "      <td>6.179500e-09</td>\n",
       "    </tr>\n",
       "    <tr>\n",
       "      <th>9</th>\n",
       "      <td>date1_October</td>\n",
       "      <td>15.833024</td>\n",
       "      <td>6.661338e-15</td>\n",
       "    </tr>\n",
       "    <tr>\n",
       "      <th>10</th>\n",
       "      <td>date1_September</td>\n",
       "      <td>11.662076</td>\n",
       "      <td>1.196956e-09</td>\n",
       "    </tr>\n",
       "  </tbody>\n",
       "</table>\n",
       "</div>"
      ],
      "text/plain": [
       "          predictor       coef        pvalue\n",
       "0         intercept  63.796408  0.000000e+00\n",
       "1         month_num   1.011306  0.000000e+00\n",
       "2              m_sq  -0.006145  0.000000e+00\n",
       "3      date1_August   7.507863  4.053492e-05\n",
       "4    date1_December  -3.009320  8.943360e-02\n",
       "5        date1_July   3.922608  2.750767e-02\n",
       "6        date1_June  13.199642  1.552625e-11\n",
       "7         date1_May  12.193411  2.737166e-10\n",
       "8    date1_November  11.062929  6.179500e-09\n",
       "9     date1_October  15.833024  6.661338e-15\n",
       "10  date1_September  11.662076  1.196956e-09"
      ]
     },
     "execution_count": 652,
     "metadata": {
      "tags": []
     },
     "output_type": "execute_result"
    }
   ],
   "source": [
    "# проверка гипотез и коэф-ты\n",
    "regression_coef(model, X, y)"
   ]
  },
  {
   "cell_type": "code",
   "execution_count": null,
   "metadata": {
    "colab": {
     "base_uri": "https://localhost:8080/",
     "height": 282
    },
    "executionInfo": {
     "elapsed": 1036,
     "status": "ok",
     "timestamp": 1607793355346,
     "user": {
      "displayName": "Юлия Филюшкина",
      "photoUrl": "",
      "userId": "13867730537171175521"
     },
     "user_tz": -180
    },
    "id": "dPj7obdB85oS",
    "outputId": "123780e5-c1d9-4440-841b-756ea5ecebba"
   },
   "outputs": [
    {
     "data": {
      "text/plain": [
       "<matplotlib.axes._subplots.AxesSubplot at 0x7f067acf5fd0>"
      ]
     },
     "execution_count": 653,
     "metadata": {
      "tags": []
     },
     "output_type": "execute_result"
    },
    {
     "data": {
      "image/png": "[encoded data removed]",
      "text/plain": [
       "<Figure size 432x288 with 1 Axes>"
      ]
     },
     "metadata": {
      "needs_background": "light",
      "tags": []
     },
     "output_type": "display_data"
    }
   ],
   "source": [
    "#  Сравним подгонку и ряд логарифмов\n",
    "\n",
    "pred = pd.DataFrame({\n",
    "    'pred': model.predict(X),\n",
    "    'real': y})\n",
    "pred.plot()"
   ]
  },
  {
   "cell_type": "markdown",
   "metadata": {
    "id": "styjkuY19CHL"
   },
   "source": [
    "Вроде, похоже. Лучше, чем обычная линейная модель(она росла вверх, не видела того, что тренд опускается и предсказывала, на мой взгляд, завышенные значения.)"
   ]
  },
  {
   "cell_type": "code",
   "execution_count": null,
   "metadata": {
    "colab": {
     "base_uri": "https://localhost:8080/",
     "height": 481
    },
    "executionInfo": {
     "elapsed": 1191,
     "status": "ok",
     "timestamp": 1607793514381,
     "user": {
      "displayName": "Юлия Филюшкина",
      "photoUrl": "",
      "userId": "13867730537171175521"
     },
     "user_tz": -180
    },
    "id": "jlhb3_T-9e1O",
    "outputId": "65917c33-9a16-47db-dd09-0b466dd050aa"
   },
   "outputs": [
    {
     "data": {
      "text/html": [
       "<div>\n",
       "<style scoped>\n",
       "    .dataframe tbody tr th:only-of-type {\n",
       "        vertical-align: middle;\n",
       "    }\n",
       "\n",
       "    .dataframe tbody tr th {\n",
       "        vertical-align: top;\n",
       "    }\n",
       "\n",
       "    .dataframe thead th {\n",
       "        text-align: right;\n",
       "    }\n",
       "</style>\n",
       "<table border=\"1\" class=\"dataframe\">\n",
       "  <thead>\n",
       "    <tr style=\"text-align: right;\">\n",
       "      <th></th>\n",
       "      <th>pred</th>\n",
       "      <th>real</th>\n",
       "    </tr>\n",
       "  </thead>\n",
       "  <tbody>\n",
       "    <tr>\n",
       "      <th>0</th>\n",
       "      <td>64.801570</td>\n",
       "      <td>72.15</td>\n",
       "    </tr>\n",
       "    <tr>\n",
       "      <th>1</th>\n",
       "      <td>65.794440</td>\n",
       "      <td>73.47</td>\n",
       "    </tr>\n",
       "    <tr>\n",
       "      <th>2</th>\n",
       "      <td>66.775021</td>\n",
       "      <td>74.91</td>\n",
       "    </tr>\n",
       "    <tr>\n",
       "      <th>3</th>\n",
       "      <td>67.743311</td>\n",
       "      <td>79.06</td>\n",
       "    </tr>\n",
       "    <tr>\n",
       "      <th>4</th>\n",
       "      <td>80.892722</td>\n",
       "      <td>82.07</td>\n",
       "    </tr>\n",
       "    <tr>\n",
       "      <th>5</th>\n",
       "      <td>82.842662</td>\n",
       "      <td>84.96</td>\n",
       "    </tr>\n",
       "    <tr>\n",
       "      <th>6</th>\n",
       "      <td>74.497046</td>\n",
       "      <td>77.22</td>\n",
       "    </tr>\n",
       "    <tr>\n",
       "      <th>7</th>\n",
       "      <td>79.001430</td>\n",
       "      <td>79.25</td>\n",
       "    </tr>\n",
       "    <tr>\n",
       "      <th>8</th>\n",
       "      <td>84.062481</td>\n",
       "      <td>82.93</td>\n",
       "    </tr>\n",
       "    <tr>\n",
       "      <th>9</th>\n",
       "      <td>89.127976</td>\n",
       "      <td>86.49</td>\n",
       "    </tr>\n",
       "    <tr>\n",
       "      <th>10</th>\n",
       "      <td>85.240138</td>\n",
       "      <td>85.07</td>\n",
       "    </tr>\n",
       "    <tr>\n",
       "      <th>11</th>\n",
       "      <td>72.037856</td>\n",
       "      <td>74.72</td>\n",
       "    </tr>\n",
       "    <tr>\n",
       "      <th>12</th>\n",
       "      <td>75.904852</td>\n",
       "      <td>77.94</td>\n",
       "    </tr>\n",
       "    <tr>\n",
       "      <th>13</th>\n",
       "      <td>76.750238</td>\n",
       "      <td>76.15</td>\n",
       "    </tr>\n",
       "  </tbody>\n",
       "</table>\n",
       "</div>"
      ],
      "text/plain": [
       "         pred   real\n",
       "0   64.801570  72.15\n",
       "1   65.794440  73.47\n",
       "2   66.775021  74.91\n",
       "3   67.743311  79.06\n",
       "4   80.892722  82.07\n",
       "5   82.842662  84.96\n",
       "6   74.497046  77.22\n",
       "7   79.001430  79.25\n",
       "8   84.062481  82.93\n",
       "9   89.127976  86.49\n",
       "10  85.240138  85.07\n",
       "11  72.037856  74.72\n",
       "12  75.904852  77.94\n",
       "13  76.750238  76.15"
      ]
     },
     "execution_count": 655,
     "metadata": {
      "tags": []
     },
     "output_type": "execute_result"
    }
   ],
   "source": [
    "pred.head(14)"
   ]
  },
  {
   "cell_type": "code",
   "execution_count": null,
   "metadata": {
    "id": "d3m_TipMlg9r"
   },
   "outputs": [],
   "source": [
    "# строим матрицу для теста\n",
    "# я заранее сделала вычисления в большой матрице, можно просто взять нужный кусок в 8 последних месяцев\n",
    "z = df.copy()\n",
    "for i in range(111, -1, -1):\n",
    "  z = z.drop([i])"
   ]
  },
  {
   "cell_type": "code",
   "execution_count": null,
   "metadata": {
    "id": "8E6RlwXF0KVV"
   },
   "outputs": [],
   "source": [
    "# и удалить ненужные колонки\n",
    "z = z.drop(columns=[\"x4\", \"date2\", \"date1_January\", \"date1_February\", \"date1_March\"])"
   ]
  },
  {
   "cell_type": "code",
   "execution_count": null,
   "metadata": {
    "colab": {
     "base_uri": "https://localhost:8080/",
     "height": 316
    },
    "executionInfo": {
     "elapsed": 1249,
     "status": "ok",
     "timestamp": 1607793610695,
     "user": {
      "displayName": "Юлия Филюшкина",
      "photoUrl": "",
      "userId": "13867730537171175521"
     },
     "user_tz": -180
    },
    "id": "9xdRsygu1dWs",
    "outputId": "56aa868e-4d13-42d6-b97b-bb14f4a401ad"
   },
   "outputs": [
    {
     "data": {
      "text/html": [
       "<div>\n",
       "<style scoped>\n",
       "    .dataframe tbody tr th:only-of-type {\n",
       "        vertical-align: middle;\n",
       "    }\n",
       "\n",
       "    .dataframe tbody tr th {\n",
       "        vertical-align: top;\n",
       "    }\n",
       "\n",
       "    .dataframe thead th {\n",
       "        text-align: right;\n",
       "    }\n",
       "</style>\n",
       "<table border=\"1\" class=\"dataframe\">\n",
       "  <thead>\n",
       "    <tr style=\"text-align: right;\">\n",
       "      <th></th>\n",
       "      <th>month_num</th>\n",
       "      <th>m_sq</th>\n",
       "      <th>date1_August</th>\n",
       "      <th>date1_December</th>\n",
       "      <th>date1_July</th>\n",
       "      <th>date1_June</th>\n",
       "      <th>date1_May</th>\n",
       "      <th>date1_November</th>\n",
       "      <th>date1_October</th>\n",
       "      <th>date1_September</th>\n",
       "    </tr>\n",
       "  </thead>\n",
       "  <tbody>\n",
       "    <tr>\n",
       "      <th>112</th>\n",
       "      <td>113</td>\n",
       "      <td>12769</td>\n",
       "      <td>0</td>\n",
       "      <td>0</td>\n",
       "      <td>0</td>\n",
       "      <td>0</td>\n",
       "      <td>1</td>\n",
       "      <td>0</td>\n",
       "      <td>0</td>\n",
       "      <td>0</td>\n",
       "    </tr>\n",
       "    <tr>\n",
       "      <th>113</th>\n",
       "      <td>114</td>\n",
       "      <td>12996</td>\n",
       "      <td>0</td>\n",
       "      <td>0</td>\n",
       "      <td>0</td>\n",
       "      <td>1</td>\n",
       "      <td>0</td>\n",
       "      <td>0</td>\n",
       "      <td>0</td>\n",
       "      <td>0</td>\n",
       "    </tr>\n",
       "    <tr>\n",
       "      <th>114</th>\n",
       "      <td>115</td>\n",
       "      <td>13225</td>\n",
       "      <td>0</td>\n",
       "      <td>0</td>\n",
       "      <td>1</td>\n",
       "      <td>0</td>\n",
       "      <td>0</td>\n",
       "      <td>0</td>\n",
       "      <td>0</td>\n",
       "      <td>0</td>\n",
       "    </tr>\n",
       "    <tr>\n",
       "      <th>115</th>\n",
       "      <td>116</td>\n",
       "      <td>13456</td>\n",
       "      <td>1</td>\n",
       "      <td>0</td>\n",
       "      <td>0</td>\n",
       "      <td>0</td>\n",
       "      <td>0</td>\n",
       "      <td>0</td>\n",
       "      <td>0</td>\n",
       "      <td>0</td>\n",
       "    </tr>\n",
       "    <tr>\n",
       "      <th>116</th>\n",
       "      <td>117</td>\n",
       "      <td>13689</td>\n",
       "      <td>0</td>\n",
       "      <td>0</td>\n",
       "      <td>0</td>\n",
       "      <td>0</td>\n",
       "      <td>0</td>\n",
       "      <td>0</td>\n",
       "      <td>0</td>\n",
       "      <td>1</td>\n",
       "    </tr>\n",
       "    <tr>\n",
       "      <th>117</th>\n",
       "      <td>118</td>\n",
       "      <td>13924</td>\n",
       "      <td>0</td>\n",
       "      <td>0</td>\n",
       "      <td>0</td>\n",
       "      <td>0</td>\n",
       "      <td>0</td>\n",
       "      <td>0</td>\n",
       "      <td>1</td>\n",
       "      <td>0</td>\n",
       "    </tr>\n",
       "    <tr>\n",
       "      <th>118</th>\n",
       "      <td>119</td>\n",
       "      <td>14161</td>\n",
       "      <td>0</td>\n",
       "      <td>0</td>\n",
       "      <td>0</td>\n",
       "      <td>0</td>\n",
       "      <td>0</td>\n",
       "      <td>1</td>\n",
       "      <td>0</td>\n",
       "      <td>0</td>\n",
       "    </tr>\n",
       "    <tr>\n",
       "      <th>119</th>\n",
       "      <td>120</td>\n",
       "      <td>14400</td>\n",
       "      <td>0</td>\n",
       "      <td>1</td>\n",
       "      <td>0</td>\n",
       "      <td>0</td>\n",
       "      <td>0</td>\n",
       "      <td>0</td>\n",
       "      <td>0</td>\n",
       "      <td>0</td>\n",
       "    </tr>\n",
       "  </tbody>\n",
       "</table>\n",
       "</div>"
      ],
      "text/plain": [
       "     month_num   m_sq  ...  date1_October  date1_September\n",
       "112        113  12769  ...              0                0\n",
       "113        114  12996  ...              0                0\n",
       "114        115  13225  ...              0                0\n",
       "115        116  13456  ...              0                0\n",
       "116        117  13689  ...              0                1\n",
       "117        118  13924  ...              1                0\n",
       "118        119  14161  ...              0                0\n",
       "119        120  14400  ...              0                0\n",
       "\n",
       "[8 rows x 10 columns]"
      ]
     },
     "execution_count": 658,
     "metadata": {
      "tags": []
     },
     "output_type": "execute_result"
    }
   ],
   "source": [
    "z"
   ]
  },
  {
   "cell_type": "code",
   "execution_count": null,
   "metadata": {
    "colab": {
     "base_uri": "https://localhost:8080/"
    },
    "executionInfo": {
     "elapsed": 1182,
     "status": "ok",
     "timestamp": 1607793619948,
     "user": {
      "displayName": "Юлия Филюшкина",
      "photoUrl": "",
      "userId": "13867730537171175521"
     },
     "user_tz": -180
    },
    "id": "4pXsDXqW1Tyi",
    "outputId": "47a727e8-52ac-4e6f-9336-10c78885e077"
   },
   "outputs": [
    {
     "data": {
      "text/plain": [
       "array([111.79930567, 112.42188089, 102.74890055, 105.92592021,\n",
       "       109.65960654, 113.39773731, 108.18253475,  93.65288775])"
      ]
     },
     "execution_count": 659,
     "metadata": {
      "tags": []
     },
     "output_type": "execute_result"
    }
   ],
   "source": [
    "model.predict(z)"
   ]
  },
  {
   "cell_type": "markdown",
   "metadata": {
    "id": "NR6UUtou-Dob"
   },
   "source": [
    "Построим график:"
   ]
  },
  {
   "cell_type": "code",
   "execution_count": null,
   "metadata": {
    "id": "9D1MlVME-CX1"
   },
   "outputs": [],
   "source": [
    "#  матрица с подгонкой\n",
    "pred['forecast'] = np.nan"
   ]
  },
  {
   "cell_type": "code",
   "execution_count": null,
   "metadata": {
    "id": "h3ZomLui17lc"
   },
   "outputs": [],
   "source": [
    "df_4 = pd.DataFrame(model.predict(z), columns=['forecast'])\n",
    "df_4['real'] = np.nan\n",
    "df_4['pred'] = np.nan\n"
   ]
  },
  {
   "cell_type": "code",
   "execution_count": null,
   "metadata": {
    "colab": {
     "base_uri": "https://localhost:8080/",
     "height": 282
    },
    "executionInfo": {
     "elapsed": 1024,
     "status": "ok",
     "timestamp": 1607793717297,
     "user": {
      "displayName": "Юлия Филюшкина",
      "photoUrl": "",
      "userId": "13867730537171175521"
     },
     "user_tz": -180
    },
    "id": "hZO7xfiu2A5-",
    "outputId": "ea937e80-82db-4f5f-9a6d-fefa8c4d0751"
   },
   "outputs": [
    {
     "data": {
      "text/plain": [
       "<matplotlib.axes._subplots.AxesSubplot at 0x7f067ac4d710>"
      ]
     },
     "execution_count": 663,
     "metadata": {
      "tags": []
     },
     "output_type": "execute_result"
    },
    {
     "data": {
      "image/png": "[encoded data removed]",
      "text/plain": [
       "<Figure size 432x288 with 1 Axes>"
      ]
     },
     "metadata": {
      "needs_background": "light",
      "tags": []
     },
     "output_type": "display_data"
    }
   ],
   "source": [
    "#  объединяем матрицы, задаем новые индексы\n",
    "pred_1 = pd.concat(\n",
    "    [pred, df_4],\n",
    "    sort=False\n",
    ").reset_index(drop=True)\n",
    "\n",
    "pred_1.plot()"
   ]
  },
  {
   "cell_type": "markdown",
   "metadata": {
    "id": "jCeGdT6g-UBf"
   },
   "source": [
    "Намного лучше, чем обычная линейная модель. Но можно попробовать еще кое-что. Можно обрезать первые года - там, возможно, устарели данные."
   ]
  },
  {
   "cell_type": "markdown",
   "metadata": {
    "id": "m05ehZLr-Ois"
   },
   "source": []
  }
 ],
 "metadata": {
  "colab": {
   "authorship_tag": "ABX9TyOy1YsYF+Smmk2XsNBODAh9",
   "collapsed_sections": [],
   "name": "модель с квадратом.ipynb",
   "provenance": []
  },
  "kernelspec": {
   "display_name": "Python 3",
   "language": "python",
   "name": "python3"
  },
  "language_info": {
   "codemirror_mode": {
    "name": "ipython",
    "version": 3
   },
   "file_extension": ".py",
   "mimetype": "text/x-python",
   "name": "python",
   "nbconvert_exporter": "python",
   "pygments_lexer": "ipython3",
   "version": "3.7.4"
  }
 },
 "nbformat": 4,
 "nbformat_minor": 1
}
