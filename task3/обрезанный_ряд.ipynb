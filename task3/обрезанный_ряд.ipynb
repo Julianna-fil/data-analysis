{
 "cells": [
  {
   "cell_type": "markdown",
   "metadata": {
    "id": "E9Ii5DJjA9OL"
   },
   "source": [
    "# Модель с обрезанными данными первых годов"
   ]
  },
  {
   "cell_type": "code",
   "execution_count": 1,
   "metadata": {
    "executionInfo": {
     "elapsed": 627,
     "status": "ok",
     "timestamp": 1607794153882,
     "user": {
      "displayName": "Юлия Филюшкина",
      "photoUrl": "",
      "userId": "13867730537171175521"
     },
     "user_tz": -180
    },
    "id": "TBmcjvgmnXtM"
   },
   "outputs": [],
   "source": [
    "import pandas as pd\n",
    "import numpy as np\n",
    "import matplotlib\n",
    "import matplotlib.pyplot as plt\n",
    "#  matplotlib.style.use('ggplot')\n",
    "%matplotlib inline"
   ]
  },
  {
   "cell_type": "code",
   "execution_count": 2,
   "metadata": {
    "colab": {
     "base_uri": "https://localhost:8080/"
    },
    "executionInfo": {
     "elapsed": 21854,
     "status": "ok",
     "timestamp": 1607794177763,
     "user": {
      "displayName": "Юлия Филюшкина",
      "photoUrl": "",
      "userId": "13867730537171175521"
     },
     "user_tz": -180
    },
    "id": "meTw1Y6BnrG6",
    "outputId": "bcee6030-e42f-4411-99c2-3b9e6600ff04"
   },
   "outputs": [
    {
     "name": "stdout",
     "output_type": "stream",
     "text": [
      "Mounted at /content/drive\n"
     ]
    }
   ],
   "source": [
    "# открываю доступ к диску\n",
    "from google.colab import drive \n",
    "drive.mount('/content/drive')"
   ]
  },
  {
   "cell_type": "code",
   "execution_count": 3,
   "metadata": {
    "executionInfo": {
     "elapsed": 1712,
     "status": "ok",
     "timestamp": 1607794182783,
     "user": {
      "displayName": "Юлия Филюшкина",
      "photoUrl": "",
      "userId": "13867730537171175521"
     },
     "user_tz": -180
    },
    "id": "joOLvqiJn1vR"
   },
   "outputs": [],
   "source": [
    "from sklearn.linear_model import LinearRegression"
   ]
  },
  {
   "cell_type": "code",
   "execution_count": 4,
   "metadata": {
    "executionInfo": {
     "elapsed": 818,
     "status": "ok",
     "timestamp": 1607794183150,
     "user": {
      "displayName": "Юлия Филюшкина",
      "photoUrl": "",
      "userId": "13867730537171175521"
     },
     "user_tz": -180
    },
    "id": "lIs4KXHMn5tT"
   },
   "outputs": [],
   "source": [
    "import os\n",
    "\n",
    "os.chdir(\"/content/drive/My Drive/colab/AD\")"
   ]
  },
  {
   "cell_type": "markdown",
   "metadata": {
    "id": "mARTOWn1odQu"
   },
   "source": [
    "### Прогнозирование временных рядов. Вариант 4."
   ]
  },
  {
   "cell_type": "code",
   "execution_count": 5,
   "metadata": {
    "colab": {
     "base_uri": "https://localhost:8080/",
     "height": 203
    },
    "executionInfo": {
     "elapsed": 1172,
     "status": "ok",
     "timestamp": 1607794188841,
     "user": {
      "displayName": "Юлия Филюшкина",
      "photoUrl": "",
      "userId": "13867730537171175521"
     },
     "user_tz": -180
    },
    "id": "woFYS_14Y_IV",
    "outputId": "2eddcbe4-4939-49da-b6b0-28e4819ae0c7"
   },
   "outputs": [
    {
     "data": {
      "text/html": [
       "<div>\n",
       "<style scoped>\n",
       "    .dataframe tbody tr th:only-of-type {\n",
       "        vertical-align: middle;\n",
       "    }\n",
       "\n",
       "    .dataframe tbody tr th {\n",
       "        vertical-align: top;\n",
       "    }\n",
       "\n",
       "    .dataframe thead th {\n",
       "        text-align: right;\n",
       "    }\n",
       "</style>\n",
       "<table border=\"1\" class=\"dataframe\">\n",
       "  <thead>\n",
       "    <tr style=\"text-align: right;\">\n",
       "      <th></th>\n",
       "      <th>date1</th>\n",
       "      <th>date2</th>\n",
       "      <th>x1</th>\n",
       "      <th>x2</th>\n",
       "      <th>x3</th>\n",
       "      <th>x4</th>\n",
       "    </tr>\n",
       "  </thead>\n",
       "  <tbody>\n",
       "    <tr>\n",
       "      <th>0</th>\n",
       "      <td>January</td>\n",
       "      <td>1994</td>\n",
       "      <td>44,3</td>\n",
       "      <td>104,04</td>\n",
       "      <td>51,9</td>\n",
       "      <td>72,15</td>\n",
       "    </tr>\n",
       "    <tr>\n",
       "      <th>1</th>\n",
       "      <td>February</td>\n",
       "      <td>1994</td>\n",
       "      <td>54,7</td>\n",
       "      <td>102,74</td>\n",
       "      <td>60,1</td>\n",
       "      <td>73,47</td>\n",
       "    </tr>\n",
       "    <tr>\n",
       "      <th>2</th>\n",
       "      <td>March</td>\n",
       "      <td>1994</td>\n",
       "      <td>61,9</td>\n",
       "      <td>105,23</td>\n",
       "      <td>65</td>\n",
       "      <td>74,91</td>\n",
       "    </tr>\n",
       "    <tr>\n",
       "      <th>3</th>\n",
       "      <td>April</td>\n",
       "      <td>1994</td>\n",
       "      <td>69,1</td>\n",
       "      <td>113,63</td>\n",
       "      <td>69,8</td>\n",
       "      <td>79,06</td>\n",
       "    </tr>\n",
       "    <tr>\n",
       "      <th>4</th>\n",
       "      <td>May</td>\n",
       "      <td>1994</td>\n",
       "      <td>70,8</td>\n",
       "      <td>120,77</td>\n",
       "      <td>72,4</td>\n",
       "      <td>82,07</td>\n",
       "    </tr>\n",
       "  </tbody>\n",
       "</table>\n",
       "</div>"
      ],
      "text/plain": [
       "      date1  date2    x1      x2    x3     x4\n",
       "0   January   1994  44,3  104,04  51,9  72,15\n",
       "1  February   1994  54,7  102,74  60,1  73,47\n",
       "2     March   1994  61,9  105,23    65  74,91\n",
       "3     April   1994  69,1  113,63  69,8  79,06\n",
       "4       May   1994  70,8  120,77  72,4  82,07"
      ]
     },
     "execution_count": 5,
     "metadata": {
      "tags": []
     },
     "output_type": "execute_result"
    }
   ],
   "source": [
    "# считываем данные\n",
    "df = pd.read_csv('Chicago_hotels.csv', sep=';', decimal=',')\n",
    "df.head()"
   ]
  },
  {
   "cell_type": "code",
   "execution_count": 6,
   "metadata": {
    "executionInfo": {
     "elapsed": 857,
     "status": "ok",
     "timestamp": 1607794193611,
     "user": {
      "displayName": "Юлия Филюшкина",
      "photoUrl": "",
      "userId": "13867730537171175521"
     },
     "user_tz": -180
    },
    "id": "zOvo_i52hmET"
   },
   "outputs": [],
   "source": [
    "# привожу в удобный формат\n",
    "df['x4'] = [float(data.replace(',', '.')) for data in df['x4'] if data != ' ']+[np.nan]*8\n",
    "df['month_num'] = range(1, len(df) + 1)"
   ]
  },
  {
   "cell_type": "markdown",
   "metadata": {
    "id": "-mEjMSXg558s"
   },
   "source": [
    "Посмотрим на распределение"
   ]
  },
  {
   "cell_type": "code",
   "execution_count": 7,
   "metadata": {
    "colab": {
     "base_uri": "https://localhost:8080/",
     "height": 298
    },
    "executionInfo": {
     "elapsed": 1047,
     "status": "ok",
     "timestamp": 1607794195819,
     "user": {
      "displayName": "Юлия Филюшкина",
      "photoUrl": "",
      "userId": "13867730537171175521"
     },
     "user_tz": -180
    },
    "id": "DUyRXA12hQLw",
    "outputId": "ddb6b155-9346-499f-e33f-1ffe5eec014d"
   },
   "outputs": [
    {
     "data": {
      "text/plain": [
       "Text(0, 0.5, 'log10 от долларов')"
      ]
     },
     "execution_count": 7,
     "metadata": {
      "tags": []
     },
     "output_type": "execute_result"
    },
    {
     "data": {
      "image/png": "[encoded data removed]",
      "text/plain": [
       "<Figure size 864x288 with 2 Axes>"
      ]
     },
     "metadata": {
      "needs_background": "light",
      "tags": []
     },
     "output_type": "display_data"
    }
   ],
   "source": [
    "fig = plt.figure(figsize=(12, 4))\n",
    "ax1 = fig.add_subplot(121)\n",
    "df['x4'].plot(ax=ax1)\n",
    "ax1.set_title(u'Стоимость номера')\n",
    "ax1.set_ylabel(u'Долларов')\n",
    "\n",
    "ax2 = fig.add_subplot(122)\n",
    "pd.Series(np.log10(df['x4'])).plot(ax=ax2)\n",
    "ax2.set_title(u'log10 от стоимости номера')\n",
    "ax2.set_ylabel(u'log10 от долларов')\n"
   ]
  },
  {
   "cell_type": "markdown",
   "metadata": {
    "id": "vN2QdkE_7AqV"
   },
   "source": [
    "А давайте уберем первые 4 года? Может, там устарели данные?"
   ]
  },
  {
   "cell_type": "code",
   "execution_count": 9,
   "metadata": {
    "executionInfo": {
     "elapsed": 1233,
     "status": "ok",
     "timestamp": 1607794274897,
     "user": {
      "displayName": "Юлия Филюшкина",
      "photoUrl": "",
      "userId": "13867730537171175521"
     },
     "user_tz": -180
    },
    "id": "Wm9U7hlyARUN"
   },
   "outputs": [],
   "source": [
    "for i in range(48, -1, -1):\n",
    "  df = df.drop([i])"
   ]
  },
  {
   "cell_type": "code",
   "execution_count": 10,
   "metadata": {
    "executionInfo": {
     "elapsed": 1501,
     "status": "ok",
     "timestamp": 1607794281758,
     "user": {
      "displayName": "Юлия Филюшкина",
      "photoUrl": "",
      "userId": "13867730537171175521"
     },
     "user_tz": -180
    },
    "id": "9xCVkKhGydqL"
   },
   "outputs": [],
   "source": [
    "# удаляю ненужные переменные\n",
    "del df['x3']\n",
    "del df['x2']\n",
    "del df['x1']"
   ]
  },
  {
   "cell_type": "code",
   "execution_count": 11,
   "metadata": {
    "executionInfo": {
     "elapsed": 1385,
     "status": "ok",
     "timestamp": 1607794284104,
     "user": {
      "displayName": "Юлия Филюшкина",
      "photoUrl": "",
      "userId": "13867730537171175521"
     },
     "user_tz": -180
    },
    "id": "obvBZKjqbzb1"
   },
   "outputs": [],
   "source": [
    "# удобная штука, которая разбивает категориальные переменные (ван хот энкодинг)\n",
    "df = pd.get_dummies(df, columns=['date1'],drop_first=True) # удалили столбец - избавились от линейной зависимости\n",
    "df_n = df.copy()"
   ]
  },
  {
   "cell_type": "code",
   "execution_count": 12,
   "metadata": {
    "executionInfo": {
     "elapsed": 1261,
     "status": "ok",
     "timestamp": 1607794287604,
     "user": {
      "displayName": "Юлия Филюшкина",
      "photoUrl": "",
      "userId": "13867730537171175521"
     },
     "user_tz": -180
    },
    "id": "irJySLdB8AWc"
   },
   "outputs": [],
   "source": [
    "for i in range(119, 111, -1):\n",
    "  df_n = df_n.drop([i])"
   ]
  },
  {
   "cell_type": "code",
   "execution_count": 13,
   "metadata": {
    "colab": {
     "base_uri": "https://localhost:8080/"
    },
    "executionInfo": {
     "elapsed": 1192,
     "status": "ok",
     "timestamp": 1607794289979,
     "user": {
      "displayName": "Юлия Филюшкина",
      "photoUrl": "",
      "userId": "13867730537171175521"
     },
     "user_tz": -180
    },
    "id": "LYpmeCOlih5w",
    "outputId": "e0bb0b76-7b2b-4c0a-f790-301c8aeba5d5"
   },
   "outputs": [
    {
     "data": {
      "text/plain": [
       "LinearRegression(copy_X=True, fit_intercept=True, n_jobs=None, normalize=False)"
      ]
     },
     "execution_count": 13,
     "metadata": {
      "tags": []
     },
     "output_type": "execute_result"
    }
   ],
   "source": [
    "y = df_n['x4']\n",
    "X = df_n.drop(columns=[\"x4\", \"date2\",\"date1_January\", \"date1_February\", \"date1_March\"])\n",
    "#  Подгонка модели\n",
    "model = LinearRegression()\n",
    "model.fit(X, y)"
   ]
  },
  {
   "cell_type": "code",
   "execution_count": 14,
   "metadata": {
    "colab": {
     "base_uri": "https://localhost:8080/",
     "height": 358
    },
    "executionInfo": {
     "elapsed": 1326,
     "status": "ok",
     "timestamp": 1607794293747,
     "user": {
      "displayName": "Юлия Филюшкина",
      "photoUrl": "",
      "userId": "13867730537171175521"
     },
     "user_tz": -180
    },
    "id": "QG225bMy8Zg2",
    "outputId": "8daf5a27-e766-4cba-f32e-a0589afa8fba"
   },
   "outputs": [
    {
     "data": {
      "text/html": [
       "<div>\n",
       "<style scoped>\n",
       "    .dataframe tbody tr th:only-of-type {\n",
       "        vertical-align: middle;\n",
       "    }\n",
       "\n",
       "    .dataframe tbody tr th {\n",
       "        vertical-align: top;\n",
       "    }\n",
       "\n",
       "    .dataframe thead th {\n",
       "        text-align: right;\n",
       "    }\n",
       "</style>\n",
       "<table border=\"1\" class=\"dataframe\">\n",
       "  <thead>\n",
       "    <tr style=\"text-align: right;\">\n",
       "      <th></th>\n",
       "      <th>predictor</th>\n",
       "      <th>coef</th>\n",
       "    </tr>\n",
       "  </thead>\n",
       "  <tbody>\n",
       "    <tr>\n",
       "      <th>0</th>\n",
       "      <td>intercept</td>\n",
       "      <td>104.560998</td>\n",
       "    </tr>\n",
       "    <tr>\n",
       "      <th>1</th>\n",
       "      <td>month_num</td>\n",
       "      <td>-0.031993</td>\n",
       "    </tr>\n",
       "    <tr>\n",
       "      <th>2</th>\n",
       "      <td>date1_August</td>\n",
       "      <td>10.544448</td>\n",
       "    </tr>\n",
       "    <tr>\n",
       "      <th>3</th>\n",
       "      <td>date1_December</td>\n",
       "      <td>-2.283580</td>\n",
       "    </tr>\n",
       "    <tr>\n",
       "      <th>4</th>\n",
       "      <td>date1_July</td>\n",
       "      <td>6.658455</td>\n",
       "    </tr>\n",
       "    <tr>\n",
       "      <th>5</th>\n",
       "      <td>date1_June</td>\n",
       "      <td>17.000462</td>\n",
       "    </tr>\n",
       "    <tr>\n",
       "      <th>6</th>\n",
       "      <td>date1_May</td>\n",
       "      <td>15.572469</td>\n",
       "    </tr>\n",
       "    <tr>\n",
       "      <th>7</th>\n",
       "      <td>date1_November</td>\n",
       "      <td>14.492427</td>\n",
       "    </tr>\n",
       "    <tr>\n",
       "      <th>8</th>\n",
       "      <td>date1_October</td>\n",
       "      <td>20.676434</td>\n",
       "    </tr>\n",
       "    <tr>\n",
       "      <th>9</th>\n",
       "      <td>date1_September</td>\n",
       "      <td>15.270441</td>\n",
       "    </tr>\n",
       "  </tbody>\n",
       "</table>\n",
       "</div>"
      ],
      "text/plain": [
       "         predictor        coef\n",
       "0        intercept  104.560998\n",
       "1        month_num   -0.031993\n",
       "2     date1_August   10.544448\n",
       "3   date1_December   -2.283580\n",
       "4       date1_July    6.658455\n",
       "5       date1_June   17.000462\n",
       "6        date1_May   15.572469\n",
       "7   date1_November   14.492427\n",
       "8    date1_October   20.676434\n",
       "9  date1_September   15.270441"
      ]
     },
     "execution_count": 14,
     "metadata": {
      "tags": []
     },
     "output_type": "execute_result"
    }
   ],
   "source": [
    "coef = pd.DataFrame(list(zip(['intercept'] + X.columns.tolist(), [model.intercept_] + model.coef_.tolist())),\n",
    "                    columns=['predictor', 'coef'])\n",
    "coef"
   ]
  },
  {
   "cell_type": "code",
   "execution_count": 15,
   "metadata": {
    "executionInfo": {
     "elapsed": 1109,
     "status": "ok",
     "timestamp": 1607794297466,
     "user": {
      "displayName": "Юлия Филюшкина",
      "photoUrl": "",
      "userId": "13867730537171175521"
     },
     "user_tz": -180
    },
    "id": "g82J6Xvg8e_H"
   },
   "outputs": [],
   "source": [
    "from scipy import stats\n",
    "\n",
    "def regression_coef(model, X, y):\n",
    "    coef = pd.DataFrame(list(zip(['intercept'] + X.columns.tolist(), [model.intercept_] + model.coef_.tolist())),\n",
    "                    columns=['predictor', 'coef'])\n",
    "    X1 = np.append(np.ones((len(X),1)), X, axis=1)\n",
    "    b = np.append(model.intercept_, model.coef_)\n",
    "    MSE = np.sum((model.predict(X) - y) ** 2, axis=0) / float(X.shape[0] - X.shape[1])\n",
    "    var_b = MSE * (np.linalg.inv(np.dot(X1.T, X1)).diagonal())\n",
    "    sd_b = np.sqrt(var_b)\n",
    "    t = b / sd_b\n",
    "    coef['pvalue'] = [2 * (1 - stats.t.cdf(np.abs(i), (len(X1) - 1))) for i in t]\n",
    "    return coef"
   ]
  },
  {
   "cell_type": "code",
   "execution_count": 16,
   "metadata": {
    "colab": {
     "base_uri": "https://localhost:8080/",
     "height": 358
    },
    "executionInfo": {
     "elapsed": 717,
     "status": "ok",
     "timestamp": 1607794300316,
     "user": {
      "displayName": "Юлия Филюшкина",
      "photoUrl": "",
      "userId": "13867730537171175521"
     },
     "user_tz": -180
    },
    "id": "aVuybcUZ8j6I",
    "outputId": "e5557120-b4da-494b-b74e-dcc7ec3f3950"
   },
   "outputs": [
    {
     "data": {
      "text/html": [
       "<div>\n",
       "<style scoped>\n",
       "    .dataframe tbody tr th:only-of-type {\n",
       "        vertical-align: middle;\n",
       "    }\n",
       "\n",
       "    .dataframe tbody tr th {\n",
       "        vertical-align: top;\n",
       "    }\n",
       "\n",
       "    .dataframe thead th {\n",
       "        text-align: right;\n",
       "    }\n",
       "</style>\n",
       "<table border=\"1\" class=\"dataframe\">\n",
       "  <thead>\n",
       "    <tr style=\"text-align: right;\">\n",
       "      <th></th>\n",
       "      <th>predictor</th>\n",
       "      <th>coef</th>\n",
       "      <th>pvalue</th>\n",
       "    </tr>\n",
       "  </thead>\n",
       "  <tbody>\n",
       "    <tr>\n",
       "      <th>0</th>\n",
       "      <td>intercept</td>\n",
       "      <td>104.560998</td>\n",
       "      <td>0.000000e+00</td>\n",
       "    </tr>\n",
       "    <tr>\n",
       "      <th>1</th>\n",
       "      <td>month_num</td>\n",
       "      <td>-0.031993</td>\n",
       "      <td>4.264555e-01</td>\n",
       "    </tr>\n",
       "    <tr>\n",
       "      <th>2</th>\n",
       "      <td>date1_August</td>\n",
       "      <td>10.544448</td>\n",
       "      <td>4.245423e-04</td>\n",
       "    </tr>\n",
       "    <tr>\n",
       "      <th>3</th>\n",
       "      <td>date1_December</td>\n",
       "      <td>-2.283580</td>\n",
       "      <td>4.230001e-01</td>\n",
       "    </tr>\n",
       "    <tr>\n",
       "      <th>4</th>\n",
       "      <td>date1_July</td>\n",
       "      <td>6.658455</td>\n",
       "      <td>2.192188e-02</td>\n",
       "    </tr>\n",
       "    <tr>\n",
       "      <th>5</th>\n",
       "      <td>date1_June</td>\n",
       "      <td>17.000462</td>\n",
       "      <td>1.120314e-07</td>\n",
       "    </tr>\n",
       "    <tr>\n",
       "      <th>6</th>\n",
       "      <td>date1_May</td>\n",
       "      <td>15.572469</td>\n",
       "      <td>7.948315e-07</td>\n",
       "    </tr>\n",
       "    <tr>\n",
       "      <th>7</th>\n",
       "      <td>date1_November</td>\n",
       "      <td>14.492427</td>\n",
       "      <td>3.194575e-06</td>\n",
       "    </tr>\n",
       "    <tr>\n",
       "      <th>8</th>\n",
       "      <td>date1_October</td>\n",
       "      <td>20.676434</td>\n",
       "      <td>6.334955e-10</td>\n",
       "    </tr>\n",
       "    <tr>\n",
       "      <th>9</th>\n",
       "      <td>date1_September</td>\n",
       "      <td>15.270441</td>\n",
       "      <td>1.136449e-06</td>\n",
       "    </tr>\n",
       "  </tbody>\n",
       "</table>\n",
       "</div>"
      ],
      "text/plain": [
       "         predictor        coef        pvalue\n",
       "0        intercept  104.560998  0.000000e+00\n",
       "1        month_num   -0.031993  4.264555e-01\n",
       "2     date1_August   10.544448  4.245423e-04\n",
       "3   date1_December   -2.283580  4.230001e-01\n",
       "4       date1_July    6.658455  2.192188e-02\n",
       "5       date1_June   17.000462  1.120314e-07\n",
       "6        date1_May   15.572469  7.948315e-07\n",
       "7   date1_November   14.492427  3.194575e-06\n",
       "8    date1_October   20.676434  6.334955e-10\n",
       "9  date1_September   15.270441  1.136449e-06"
      ]
     },
     "execution_count": 16,
     "metadata": {
      "tags": []
     },
     "output_type": "execute_result"
    }
   ],
   "source": [
    "# проверка гипотез и коэф-ты\n",
    "regression_coef(model, X, y)"
   ]
  },
  {
   "cell_type": "code",
   "execution_count": 17,
   "metadata": {
    "colab": {
     "base_uri": "https://localhost:8080/",
     "height": 284
    },
    "executionInfo": {
     "elapsed": 926,
     "status": "ok",
     "timestamp": 1607794304911,
     "user": {
      "displayName": "Юлия Филюшкина",
      "photoUrl": "",
      "userId": "13867730537171175521"
     },
     "user_tz": -180
    },
    "id": "dPj7obdB85oS",
    "outputId": "16b945da-c56d-46f1-b38a-e9bbdb2672f8"
   },
   "outputs": [
    {
     "data": {
      "text/plain": [
       "<matplotlib.axes._subplots.AxesSubplot at 0x7f7dd56b35f8>"
      ]
     },
     "execution_count": 17,
     "metadata": {
      "tags": []
     },
     "output_type": "execute_result"
    },
    {
     "data": {
      "image/png": "[encoded data removed]",
      "text/plain": [
       "<Figure size 432x288 with 1 Axes>"
      ]
     },
     "metadata": {
      "needs_background": "light",
      "tags": []
     },
     "output_type": "display_data"
    }
   ],
   "source": [
    "#  Сравним подгонку\n",
    "\n",
    "pred = pd.DataFrame({\n",
    "    'pred': model.predict(X),\n",
    "    'real': y})\n",
    "pred.plot()"
   ]
  },
  {
   "cell_type": "markdown",
   "metadata": {
    "id": "styjkuY19CHL"
   },
   "source": [
    "Ну, так. Посмотрим, что будет дальше."
   ]
  },
  {
   "cell_type": "code",
   "execution_count": 18,
   "metadata": {
    "colab": {
     "base_uri": "https://localhost:8080/",
     "height": 481
    },
    "executionInfo": {
     "elapsed": 903,
     "status": "ok",
     "timestamp": 1607794330612,
     "user": {
      "displayName": "Юлия Филюшкина",
      "photoUrl": "",
      "userId": "13867730537171175521"
     },
     "user_tz": -180
    },
    "id": "jlhb3_T-9e1O",
    "outputId": "91c6a26d-1d47-4be8-ed61-77b68c31d8e6"
   },
   "outputs": [
    {
     "data": {
      "text/html": [
       "<div>\n",
       "<style scoped>\n",
       "    .dataframe tbody tr th:only-of-type {\n",
       "        vertical-align: middle;\n",
       "    }\n",
       "\n",
       "    .dataframe tbody tr th {\n",
       "        vertical-align: top;\n",
       "    }\n",
       "\n",
       "    .dataframe thead th {\n",
       "        text-align: right;\n",
       "    }\n",
       "</style>\n",
       "<table border=\"1\" class=\"dataframe\">\n",
       "  <thead>\n",
       "    <tr style=\"text-align: right;\">\n",
       "      <th></th>\n",
       "      <th>pred</th>\n",
       "      <th>real</th>\n",
       "    </tr>\n",
       "  </thead>\n",
       "  <tbody>\n",
       "    <tr>\n",
       "      <th>49</th>\n",
       "      <td>102.961344</td>\n",
       "      <td>94.40</td>\n",
       "    </tr>\n",
       "    <tr>\n",
       "      <th>50</th>\n",
       "      <td>102.929351</td>\n",
       "      <td>102.39</td>\n",
       "    </tr>\n",
       "    <tr>\n",
       "      <th>51</th>\n",
       "      <td>102.897358</td>\n",
       "      <td>108.90</td>\n",
       "    </tr>\n",
       "    <tr>\n",
       "      <th>52</th>\n",
       "      <td>118.437834</td>\n",
       "      <td>110.54</td>\n",
       "    </tr>\n",
       "    <tr>\n",
       "      <th>53</th>\n",
       "      <td>119.833834</td>\n",
       "      <td>112.07</td>\n",
       "    </tr>\n",
       "    <tr>\n",
       "      <th>54</th>\n",
       "      <td>109.459834</td>\n",
       "      <td>103.47</td>\n",
       "    </tr>\n",
       "    <tr>\n",
       "      <th>55</th>\n",
       "      <td>113.313834</td>\n",
       "      <td>109.02</td>\n",
       "    </tr>\n",
       "    <tr>\n",
       "      <th>56</th>\n",
       "      <td>118.007834</td>\n",
       "      <td>114.07</td>\n",
       "    </tr>\n",
       "    <tr>\n",
       "      <th>57</th>\n",
       "      <td>123.381834</td>\n",
       "      <td>118.34</td>\n",
       "    </tr>\n",
       "    <tr>\n",
       "      <th>58</th>\n",
       "      <td>117.165834</td>\n",
       "      <td>114.87</td>\n",
       "    </tr>\n",
       "    <tr>\n",
       "      <th>59</th>\n",
       "      <td>100.357834</td>\n",
       "      <td>99.93</td>\n",
       "    </tr>\n",
       "    <tr>\n",
       "      <th>60</th>\n",
       "      <td>102.609421</td>\n",
       "      <td>100.94</td>\n",
       "    </tr>\n",
       "    <tr>\n",
       "      <th>61</th>\n",
       "      <td>102.577428</td>\n",
       "      <td>100.43</td>\n",
       "    </tr>\n",
       "    <tr>\n",
       "      <th>62</th>\n",
       "      <td>102.545434</td>\n",
       "      <td>103.08</td>\n",
       "    </tr>\n",
       "  </tbody>\n",
       "</table>\n",
       "</div>"
      ],
      "text/plain": [
       "          pred    real\n",
       "49  102.961344   94.40\n",
       "50  102.929351  102.39\n",
       "51  102.897358  108.90\n",
       "52  118.437834  110.54\n",
       "53  119.833834  112.07\n",
       "54  109.459834  103.47\n",
       "55  113.313834  109.02\n",
       "56  118.007834  114.07\n",
       "57  123.381834  118.34\n",
       "58  117.165834  114.87\n",
       "59  100.357834   99.93\n",
       "60  102.609421  100.94\n",
       "61  102.577428  100.43\n",
       "62  102.545434  103.08"
      ]
     },
     "execution_count": 18,
     "metadata": {
      "tags": []
     },
     "output_type": "execute_result"
    }
   ],
   "source": [
    "pred.head(14)"
   ]
  },
  {
   "cell_type": "code",
   "execution_count": 20,
   "metadata": {
    "executionInfo": {
     "elapsed": 766,
     "status": "ok",
     "timestamp": 1607794356137,
     "user": {
      "displayName": "Юлия Филюшкина",
      "photoUrl": "",
      "userId": "13867730537171175521"
     },
     "user_tz": -180
    },
    "id": "d3m_TipMlg9r"
   },
   "outputs": [],
   "source": [
    "# строим матрицу для теста\n",
    "# я заранее сделала вычисления в большой матрице, можно просто взять нужный кусок в 8 последних месяцев\n",
    "z = df.copy()\n",
    "for i in range(111, 48, -1):\n",
    "  z = z.drop([i])"
   ]
  },
  {
   "cell_type": "code",
   "execution_count": 21,
   "metadata": {
    "executionInfo": {
     "elapsed": 702,
     "status": "ok",
     "timestamp": 1607794360193,
     "user": {
      "displayName": "Юлия Филюшкина",
      "photoUrl": "",
      "userId": "13867730537171175521"
     },
     "user_tz": -180
    },
    "id": "8E6RlwXF0KVV"
   },
   "outputs": [],
   "source": [
    "# и удалить ненужные колонки\n",
    "z = z.drop(columns=[\"x4\", \"date2\", \"date1_January\", \"date1_February\", \"date1_March\"])"
   ]
  },
  {
   "cell_type": "code",
   "execution_count": 22,
   "metadata": {
    "colab": {
     "base_uri": "https://localhost:8080/",
     "height": 316
    },
    "executionInfo": {
     "elapsed": 616,
     "status": "ok",
     "timestamp": 1607794362084,
     "user": {
      "displayName": "Юлия Филюшкина",
      "photoUrl": "",
      "userId": "13867730537171175521"
     },
     "user_tz": -180
    },
    "id": "9xdRsygu1dWs",
    "outputId": "0e52bb49-ea75-474a-b85a-06e403f46118"
   },
   "outputs": [
    {
     "data": {
      "text/html": [
       "<div>\n",
       "<style scoped>\n",
       "    .dataframe tbody tr th:only-of-type {\n",
       "        vertical-align: middle;\n",
       "    }\n",
       "\n",
       "    .dataframe tbody tr th {\n",
       "        vertical-align: top;\n",
       "    }\n",
       "\n",
       "    .dataframe thead th {\n",
       "        text-align: right;\n",
       "    }\n",
       "</style>\n",
       "<table border=\"1\" class=\"dataframe\">\n",
       "  <thead>\n",
       "    <tr style=\"text-align: right;\">\n",
       "      <th></th>\n",
       "      <th>month_num</th>\n",
       "      <th>date1_August</th>\n",
       "      <th>date1_December</th>\n",
       "      <th>date1_July</th>\n",
       "      <th>date1_June</th>\n",
       "      <th>date1_May</th>\n",
       "      <th>date1_November</th>\n",
       "      <th>date1_October</th>\n",
       "      <th>date1_September</th>\n",
       "    </tr>\n",
       "  </thead>\n",
       "  <tbody>\n",
       "    <tr>\n",
       "      <th>112</th>\n",
       "      <td>113</td>\n",
       "      <td>0</td>\n",
       "      <td>0</td>\n",
       "      <td>0</td>\n",
       "      <td>0</td>\n",
       "      <td>1</td>\n",
       "      <td>0</td>\n",
       "      <td>0</td>\n",
       "      <td>0</td>\n",
       "    </tr>\n",
       "    <tr>\n",
       "      <th>113</th>\n",
       "      <td>114</td>\n",
       "      <td>0</td>\n",
       "      <td>0</td>\n",
       "      <td>0</td>\n",
       "      <td>1</td>\n",
       "      <td>0</td>\n",
       "      <td>0</td>\n",
       "      <td>0</td>\n",
       "      <td>0</td>\n",
       "    </tr>\n",
       "    <tr>\n",
       "      <th>114</th>\n",
       "      <td>115</td>\n",
       "      <td>0</td>\n",
       "      <td>0</td>\n",
       "      <td>1</td>\n",
       "      <td>0</td>\n",
       "      <td>0</td>\n",
       "      <td>0</td>\n",
       "      <td>0</td>\n",
       "      <td>0</td>\n",
       "    </tr>\n",
       "    <tr>\n",
       "      <th>115</th>\n",
       "      <td>116</td>\n",
       "      <td>1</td>\n",
       "      <td>0</td>\n",
       "      <td>0</td>\n",
       "      <td>0</td>\n",
       "      <td>0</td>\n",
       "      <td>0</td>\n",
       "      <td>0</td>\n",
       "      <td>0</td>\n",
       "    </tr>\n",
       "    <tr>\n",
       "      <th>116</th>\n",
       "      <td>117</td>\n",
       "      <td>0</td>\n",
       "      <td>0</td>\n",
       "      <td>0</td>\n",
       "      <td>0</td>\n",
       "      <td>0</td>\n",
       "      <td>0</td>\n",
       "      <td>0</td>\n",
       "      <td>1</td>\n",
       "    </tr>\n",
       "    <tr>\n",
       "      <th>117</th>\n",
       "      <td>118</td>\n",
       "      <td>0</td>\n",
       "      <td>0</td>\n",
       "      <td>0</td>\n",
       "      <td>0</td>\n",
       "      <td>0</td>\n",
       "      <td>0</td>\n",
       "      <td>1</td>\n",
       "      <td>0</td>\n",
       "    </tr>\n",
       "    <tr>\n",
       "      <th>118</th>\n",
       "      <td>119</td>\n",
       "      <td>0</td>\n",
       "      <td>0</td>\n",
       "      <td>0</td>\n",
       "      <td>0</td>\n",
       "      <td>0</td>\n",
       "      <td>1</td>\n",
       "      <td>0</td>\n",
       "      <td>0</td>\n",
       "    </tr>\n",
       "    <tr>\n",
       "      <th>119</th>\n",
       "      <td>120</td>\n",
       "      <td>0</td>\n",
       "      <td>1</td>\n",
       "      <td>0</td>\n",
       "      <td>0</td>\n",
       "      <td>0</td>\n",
       "      <td>0</td>\n",
       "      <td>0</td>\n",
       "      <td>0</td>\n",
       "    </tr>\n",
       "  </tbody>\n",
       "</table>\n",
       "</div>"
      ],
      "text/plain": [
       "     month_num  date1_August  ...  date1_October  date1_September\n",
       "112        113             0  ...              0                0\n",
       "113        114             0  ...              0                0\n",
       "114        115             0  ...              0                0\n",
       "115        116             1  ...              0                0\n",
       "116        117             0  ...              0                1\n",
       "117        118             0  ...              1                0\n",
       "118        119             0  ...              0                0\n",
       "119        120             0  ...              0                0\n",
       "\n",
       "[8 rows x 9 columns]"
      ]
     },
     "execution_count": 22,
     "metadata": {
      "tags": []
     },
     "output_type": "execute_result"
    }
   ],
   "source": [
    "z"
   ]
  },
  {
   "cell_type": "code",
   "execution_count": 23,
   "metadata": {
    "colab": {
     "base_uri": "https://localhost:8080/"
    },
    "executionInfo": {
     "elapsed": 806,
     "status": "ok",
     "timestamp": 1607794365745,
     "user": {
      "displayName": "Юлия Филюшкина",
      "photoUrl": "",
      "userId": "13867730537171175521"
     },
     "user_tz": -180
    },
    "id": "4pXsDXqW1Tyi",
    "outputId": "e1249017-a9ac-4d7f-bb98-bdd78e87c1d9"
   },
   "outputs": [
    {
     "data": {
      "text/plain": [
       "array([116.51824944, 117.91424944, 107.54024944, 111.39424944,\n",
       "       116.08824944, 121.46224944, 115.24624944,  98.43824944])"
      ]
     },
     "execution_count": 23,
     "metadata": {
      "tags": []
     },
     "output_type": "execute_result"
    }
   ],
   "source": [
    "model.predict(z)"
   ]
  },
  {
   "cell_type": "markdown",
   "metadata": {
    "id": "NR6UUtou-Dob"
   },
   "source": [
    "Построим график:"
   ]
  },
  {
   "cell_type": "code",
   "execution_count": 24,
   "metadata": {
    "executionInfo": {
     "elapsed": 715,
     "status": "ok",
     "timestamp": 1607794368602,
     "user": {
      "displayName": "Юлия Филюшкина",
      "photoUrl": "",
      "userId": "13867730537171175521"
     },
     "user_tz": -180
    },
    "id": "9D1MlVME-CX1"
   },
   "outputs": [],
   "source": [
    "#  матрица с подгонкой\n",
    "pred['forecast'] = np.nan"
   ]
  },
  {
   "cell_type": "code",
   "execution_count": 25,
   "metadata": {
    "executionInfo": {
     "elapsed": 1081,
     "status": "ok",
     "timestamp": 1607794370739,
     "user": {
      "displayName": "Юлия Филюшкина",
      "photoUrl": "",
      "userId": "13867730537171175521"
     },
     "user_tz": -180
    },
    "id": "h3ZomLui17lc"
   },
   "outputs": [],
   "source": [
    "df_4 = pd.DataFrame(model.predict(z), columns=['forecast'])\n",
    "df_4['real'] = np.nan\n",
    "df_4['pred'] = np.nan\n"
   ]
  },
  {
   "cell_type": "code",
   "execution_count": 26,
   "metadata": {
    "colab": {
     "base_uri": "https://localhost:8080/",
     "height": 284
    },
    "executionInfo": {
     "elapsed": 1981,
     "status": "ok",
     "timestamp": 1607794375519,
     "user": {
      "displayName": "Юлия Филюшкина",
      "photoUrl": "",
      "userId": "13867730537171175521"
     },
     "user_tz": -180
    },
    "id": "hZO7xfiu2A5-",
    "outputId": "669dee53-9da5-4cf6-bda7-221c7c387bed"
   },
   "outputs": [
    {
     "data": {
      "text/plain": [
       "<matplotlib.axes._subplots.AxesSubplot at 0x7f7dd1bfdb70>"
      ]
     },
     "execution_count": 26,
     "metadata": {
      "tags": []
     },
     "output_type": "execute_result"
    },
    {
     "data": {
      "image/png": "[encoded data removed]",
      "text/plain": [
       "<Figure size 432x288 with 1 Axes>"
      ]
     },
     "metadata": {
      "needs_background": "light",
      "tags": []
     },
     "output_type": "display_data"
    }
   ],
   "source": [
    "#  объединяем матрицы, задаем новые индексы\n",
    "pred_1 = pd.concat(\n",
    "    [pred, df_4],\n",
    "    sort=False\n",
    ").reset_index(drop=True)\n",
    "\n",
    "pred_1.plot()"
   ]
  },
  {
   "cell_type": "markdown",
   "metadata": {
    "id": "jCeGdT6g-UBf"
   },
   "source": [
    "Лучше, чем обычная линейная модель."
   ]
  }
 ],
 "metadata": {
  "colab": {
   "authorship_tag": "ABX9TyOcnlBEksukmmzmbnpDK/gq",
   "collapsed_sections": [],
   "name": "обрезанный ряд.ipynb",
   "provenance": []
  },
  "kernelspec": {
   "display_name": "Python 3",
   "language": "python",
   "name": "python3"
  },
  "language_info": {
   "codemirror_mode": {
    "name": "ipython",
    "version": 3
   },
   "file_extension": ".py",
   "mimetype": "text/x-python",
   "name": "python",
   "nbconvert_exporter": "python",
   "pygments_lexer": "ipython3",
   "version": "3.7.4"
  }
 },
 "nbformat": 4,
 "nbformat_minor": 1
}
