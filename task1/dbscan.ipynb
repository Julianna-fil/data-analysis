{
 "cells": [
  {
   "cell_type": "markdown",
   "metadata": {},
   "source": [
    "# Метод DBSCAN"
   ]
  },
  {
   "cell_type": "code",
   "execution_count": 1,
   "metadata": {},
   "outputs": [],
   "source": [
    "import numpy as np\n",
    "import pandas as pd\n",
    "\n",
    "import os"
   ]
  },
  {
   "cell_type": "code",
   "execution_count": 2,
   "metadata": {},
   "outputs": [],
   "source": [
    "os.chdir(\"C:/Users/79502/Downloads/Lect_04/Lect_04/задача_2_Economics of Cities/\")"
   ]
  },
  {
   "cell_type": "code",
   "execution_count": 3,
   "metadata": {},
   "outputs": [],
   "source": [
    "df = pd.read_csv(\"Econom_Cities_data.csv\", sep=\";\", decimal=',', index_col='City')"
   ]
  },
  {
   "cell_type": "code",
   "execution_count": 4,
   "metadata": {},
   "outputs": [
    {
     "data": {
      "text/html": [
       "<div>\n",
       "<style scoped>\n",
       "    .dataframe tbody tr th:only-of-type {\n",
       "        vertical-align: middle;\n",
       "    }\n",
       "\n",
       "    .dataframe tbody tr th {\n",
       "        vertical-align: top;\n",
       "    }\n",
       "\n",
       "    .dataframe thead th {\n",
       "        text-align: right;\n",
       "    }\n",
       "</style>\n",
       "<table border=\"1\" class=\"dataframe\">\n",
       "  <thead>\n",
       "    <tr style=\"text-align: right;\">\n",
       "      <th></th>\n",
       "      <th>Work</th>\n",
       "      <th>Price</th>\n",
       "      <th>Salary</th>\n",
       "    </tr>\n",
       "    <tr>\n",
       "      <th>City</th>\n",
       "      <th></th>\n",
       "      <th></th>\n",
       "      <th></th>\n",
       "    </tr>\n",
       "  </thead>\n",
       "  <tbody>\n",
       "    <tr>\n",
       "      <td>Amsterdam</td>\n",
       "      <td>1714</td>\n",
       "      <td>65.6</td>\n",
       "      <td>49.0</td>\n",
       "    </tr>\n",
       "    <tr>\n",
       "      <td>Athens</td>\n",
       "      <td>1792</td>\n",
       "      <td>53.8</td>\n",
       "      <td>30.4</td>\n",
       "    </tr>\n",
       "    <tr>\n",
       "      <td>Bogota</td>\n",
       "      <td>2152</td>\n",
       "      <td>37.9</td>\n",
       "      <td>11.5</td>\n",
       "    </tr>\n",
       "    <tr>\n",
       "      <td>Bombay</td>\n",
       "      <td>2052</td>\n",
       "      <td>30.3</td>\n",
       "      <td>5.3</td>\n",
       "    </tr>\n",
       "    <tr>\n",
       "      <td>Brussels</td>\n",
       "      <td>1708</td>\n",
       "      <td>73.8</td>\n",
       "      <td>50.5</td>\n",
       "    </tr>\n",
       "  </tbody>\n",
       "</table>\n",
       "</div>"
      ],
      "text/plain": [
       "           Work  Price  Salary\n",
       "City                          \n",
       "Amsterdam  1714   65.6    49.0\n",
       "Athens     1792   53.8    30.4\n",
       "Bogota     2152   37.9    11.5\n",
       "Bombay     2052   30.3     5.3\n",
       "Brussels   1708   73.8    50.5"
      ]
     },
     "execution_count": 4,
     "metadata": {},
     "output_type": "execute_result"
    }
   ],
   "source": [
    "# Смотрим первые строки, всё ли нормально считалось\n",
    "\n",
    "\n",
    "df.head()"
   ]
  },
  {
   "cell_type": "code",
   "execution_count": 5,
   "metadata": {},
   "outputs": [
    {
     "name": "stdout",
     "output_type": "stream",
     "text": [
      "                Work  Price  Salary\n",
      "City                               \n",
      "Amsterdam       1714   65.6    49.0\n",
      "Athens          1792   53.8    30.4\n",
      "Bogota          2152   37.9    11.5\n",
      "Bombay          2052   30.3     5.3\n",
      "Brussels        1708   73.8    50.5\n",
      "Buenos_Aires    1971   56.1    12.5\n",
      "Cairo          -9999   37.1 -9999.0\n",
      "Caracas         2041   61.0    10.9\n",
      "Chicago         1924   73.9    61.9\n",
      "Copenhagen      1717   91.3    62.9\n",
      "Dublin          1759   76.0    41.4\n",
      "Dusseldorf      1693   78.5    60.2\n",
      "Frankfurt       1650   74.5    60.4\n",
      "Geneva          1880   95.9    90.3\n",
      "Helsinki        1667  113.6    66.6\n",
      "Hong_Kong       2375   63.8    27.8\n",
      "Houston         1978   71.9    46.3\n",
      "Jakarta        -9999   43.6 -9999.0\n",
      "Johannesburg    1945   51.1    24.0\n",
      "Kuala_Lumpur    2167   43.5     9.9\n",
      "Lagos           1786   45.2     2.7\n",
      "Lisbon          1742   56.2    18.8\n",
      "London          1737   84.2    46.2\n",
      "Los_Angeles     2068   79.8    65.2\n",
      "Luxembourg      1768   71.1    71.1\n",
      "Madrid          1710   93.8    50.0\n",
      "Manila          2268   40.0     4.0\n",
      "Mexico_City     1944   49.8     5.7\n",
      "Milan           1773   82.0    53.3\n",
      "Montreal        1827   72.7    56.3\n",
      "Nairobi         1958   45.0     5.8\n",
      "New_York        1942   83.3    65.8\n",
      "Nicosia         1825   47.9    28.3\n",
      "Oslo            1583  115.5    63.7\n",
      "Panama          2078   49.2    13.8\n",
      "Paris           1744   81.6    45.9\n",
      "Rio_de_Janeiro  1749   46.3    10.5\n",
      "San_Paulo       1856   48.9    11.1\n",
      "Seoul           1842   58.3    32.7\n",
      "Singpore        2042   64.4    16.1\n",
      "Stockholm       1805  111.3    39.2\n",
      "Sydney          1668   70.8    52.1\n",
      "Taipei          2145   84.3    34.5\n",
      "Tel_Aviv        2015   67.3    27.0\n",
      "Tokyo           1880  115.0    68.0\n",
      "Toronto         1888   70.2    58.2\n",
      "Vienna          1780   78.0    51.3\n",
      "Zurich          1868  100.0   100.0\n"
     ]
    }
   ],
   "source": [
    "# Данных не очень много, распечатаем всё (вдруг, пригодится для интерпретации результатов)\n",
    "\n",
    "print(df)"
   ]
  },
  {
   "cell_type": "code",
   "execution_count": 6,
   "metadata": {},
   "outputs": [],
   "source": [
    "from sklearn import preprocessing\n",
    "\n",
    "# Данные далеко не нормированы, столбцы сильно отличаются. Нужна стандартизация.\n",
    "\n",
    "stand = preprocessing.StandardScaler()\n",
    "# вычисляем параметры стандартизации\n",
    "stand.fit(df)\n",
    "\n",
    "# преобразуем данные\n",
    "X = stand.transform(df)\n",
    "\n",
    "# Получаем объекты X -- матрицы класса numpy.ndarray.\n",
    "# Преобразуем её в объекты класса pandas.DataFrame.\n",
    "X = pd.DataFrame(X, index=df.index, columns=df.columns)"
   ]
  },
  {
   "cell_type": "code",
   "execution_count": 7,
   "metadata": {},
   "outputs": [
    {
     "name": "stdout",
     "output_type": "stream",
     "text": [
      "Work      0.202983\n",
      "Price     1.444554\n",
      "Salary    0.238635\n",
      "Name: Zurich, dtype: float64\n"
     ]
    }
   ],
   "source": [
    "# просто посмотрим,что вышло в одной строке\n",
    "print(X.loc[\"Zurich\"])"
   ]
  },
  {
   "cell_type": "code",
   "execution_count": 32,
   "metadata": {},
   "outputs": [
    {
     "data": {
      "text/html": [
       "<div>\n",
       "<style scoped>\n",
       "    .dataframe tbody tr th:only-of-type {\n",
       "        vertical-align: middle;\n",
       "    }\n",
       "\n",
       "    .dataframe tbody tr th {\n",
       "        vertical-align: top;\n",
       "    }\n",
       "\n",
       "    .dataframe thead th {\n",
       "        text-align: right;\n",
       "    }\n",
       "</style>\n",
       "<table border=\"1\" class=\"dataframe\">\n",
       "  <thead>\n",
       "    <tr style=\"text-align: right;\">\n",
       "      <th></th>\n",
       "      <th>Work</th>\n",
       "      <th>Price</th>\n",
       "      <th>Salary</th>\n",
       "      <th>cluster</th>\n",
       "      <th>DB!</th>\n",
       "      <th>DBSCAN</th>\n",
       "    </tr>\n",
       "    <tr>\n",
       "      <th>KMeans</th>\n",
       "      <th></th>\n",
       "      <th></th>\n",
       "      <th></th>\n",
       "      <th></th>\n",
       "      <th></th>\n",
       "      <th></th>\n",
       "    </tr>\n",
       "  </thead>\n",
       "  <tbody>\n",
       "    <tr>\n",
       "      <td>1</td>\n",
       "      <td>1879.933333</td>\n",
       "      <td>69.020000</td>\n",
       "      <td>44.113333</td>\n",
       "      <td>4.600000</td>\n",
       "      <td>0.0</td>\n",
       "      <td>0.000000</td>\n",
       "    </tr>\n",
       "    <tr>\n",
       "      <td>2</td>\n",
       "      <td>-9999.000000</td>\n",
       "      <td>40.350000</td>\n",
       "      <td>-9999.000000</td>\n",
       "      <td>2.000000</td>\n",
       "      <td>1.0</td>\n",
       "      <td>-1.000000</td>\n",
       "    </tr>\n",
       "    <tr>\n",
       "      <td>3</td>\n",
       "      <td>1760.600000</td>\n",
       "      <td>111.080000</td>\n",
       "      <td>67.500000</td>\n",
       "      <td>4.600000</td>\n",
       "      <td>0.0</td>\n",
       "      <td>1.800000</td>\n",
       "    </tr>\n",
       "    <tr>\n",
       "      <td>4</td>\n",
       "      <td>1952.333333</td>\n",
       "      <td>46.746667</td>\n",
       "      <td>12.953333</td>\n",
       "      <td>2.333333</td>\n",
       "      <td>0.0</td>\n",
       "      <td>-0.066667</td>\n",
       "    </tr>\n",
       "    <tr>\n",
       "      <td>5</td>\n",
       "      <td>1835.363636</td>\n",
       "      <td>84.790909</td>\n",
       "      <td>56.872727</td>\n",
       "      <td>4.090909</td>\n",
       "      <td>0.0</td>\n",
       "      <td>0.272727</td>\n",
       "    </tr>\n",
       "  </tbody>\n",
       "</table>\n",
       "</div>"
      ],
      "text/plain": [
       "               Work       Price       Salary   cluster  DB!    DBSCAN\n",
       "KMeans                                                               \n",
       "1       1879.933333   69.020000    44.113333  4.600000  0.0  0.000000\n",
       "2      -9999.000000   40.350000 -9999.000000  2.000000  1.0 -1.000000\n",
       "3       1760.600000  111.080000    67.500000  4.600000  0.0  1.800000\n",
       "4       1952.333333   46.746667    12.953333  2.333333  0.0 -0.066667\n",
       "5       1835.363636   84.790909    56.872727  4.090909  0.0  0.272727"
      ]
     },
     "execution_count": 32,
     "metadata": {},
     "output_type": "execute_result"
    }
   ],
   "source": [
    "# добавлю эту кластеризацию,пригодится для сравнения\n",
    "\n",
    "from sklearn.cluster import KMeans\n",
    "model2 = KMeans(n_clusters=5)\n",
    "model2.fit(X)\n",
    "df['KMeans'] = model2.labels_ + 1  # прибавила 1,чтоб начиналось с 1, а не с 0.\n",
    "df.groupby('KMeans').mean()"
   ]
  },
  {
   "cell_type": "code",
   "execution_count": 33,
   "metadata": {},
   "outputs": [
    {
     "data": {
      "text/plain": [
       "KMeans\n",
       "1    15\n",
       "2     2\n",
       "3     5\n",
       "4    15\n",
       "5    11\n",
       "dtype: int64"
      ]
     },
     "execution_count": 33,
     "metadata": {},
     "output_type": "execute_result"
    }
   ],
   "source": [
    "df.groupby('KMeans').size()"
   ]
  },
  {
   "cell_type": "code",
   "execution_count": 34,
   "metadata": {},
   "outputs": [
    {
     "data": {
      "text/plain": [
       "City\n",
       "Amsterdam         1\n",
       "Houston           1\n",
       "Hong_Kong         1\n",
       "Seoul             1\n",
       "Frankfurt         1\n",
       "Singpore          1\n",
       "Dublin            1\n",
       "Montreal          1\n",
       "Luxembourg        1\n",
       "Caracas           1\n",
       "Sydney            1\n",
       "Brussels          1\n",
       "Tel_Aviv          1\n",
       "Toronto           1\n",
       "Chicago           1\n",
       "Cairo             2\n",
       "Jakarta           2\n",
       "Oslo              3\n",
       "Tokyo             3\n",
       "Stockholm         3\n",
       "Zurich            3\n",
       "Helsinki          3\n",
       "Lisbon            4\n",
       "Athens            4\n",
       "Bogota            4\n",
       "Bombay            4\n",
       "Buenos_Aires      4\n",
       "San_Paulo         4\n",
       "Rio_de_Janeiro    4\n",
       "Lagos             4\n",
       "Nicosia           4\n",
       "Panama            4\n",
       "Nairobi           4\n",
       "Johannesburg      4\n",
       "Mexico_City       4\n",
       "Manila            4\n",
       "Kuala_Lumpur      4\n",
       "Milan             5\n",
       "Paris             5\n",
       "Geneva            5\n",
       "Dusseldorf        5\n",
       "Copenhagen        5\n",
       "Madrid            5\n",
       "Taipei            5\n",
       "Vienna            5\n",
       "London            5\n",
       "New_York          5\n",
       "Los_Angeles       5\n",
       "Name: KMeans, dtype: int32"
      ]
     },
     "execution_count": 34,
     "metadata": {},
     "output_type": "execute_result"
    }
   ],
   "source": [
    "df['KMeans'].sort_values()"
   ]
  },
  {
   "cell_type": "markdown",
   "metadata": {},
   "source": [
    "# Кластеризация методом DBSCAN"
   ]
  },
  {
   "cell_type": "code",
   "execution_count": 17,
   "metadata": {},
   "outputs": [],
   "source": [
    "from sklearn.cluster import DBSCAN"
   ]
  },
  {
   "cell_type": "code",
   "execution_count": 18,
   "metadata": {},
   "outputs": [],
   "source": [
    "from scipy.cluster.hierarchy import dendrogram, linkage, fcluster\n"
   ]
  },
  {
   "cell_type": "code",
   "execution_count": 20,
   "metadata": {},
   "outputs": [
    {
     "data": {
      "text/plain": [
       "array([ 0,  0,  0,  0,  0,  0, -1,  0,  0,  0,  0,  0,  0,  0, -1,  0,  0,\n",
       "       -1,  0,  0,  0,  0,  0,  0,  0,  0,  0,  0,  0,  0,  0,  0,  0, -1,\n",
       "        0,  0,  0,  0,  0,  0, -1,  0,  0,  0, -1,  0,  0,  0],\n",
       "      dtype=int64)"
      ]
     },
     "execution_count": 20,
     "metadata": {},
     "output_type": "execute_result"
    }
   ],
   "source": [
    "#  Создадим объект DBSCAN, зададим значения параметров. \n",
    "#  Значения 3-х первых параметров совпадают со значениями \"по умолчанию\"\n",
    "dbscan_1 = DBSCAN(eps=0.5, metric='euclidean', min_samples=5)\n",
    "\n",
    "\n",
    "#  Обучим модель  DBSCAN\n",
    "dbscan_1.fit(X)\n",
    "\n",
    "#  к какому кластеру относится объект?\n",
    "# В какой кластер попало наблюдение - Numpy массив номеров кластеров\n",
    "\n",
    "dbscan_1.labels_\n"
   ]
  },
  {
   "cell_type": "code",
   "execution_count": 21,
   "metadata": {},
   "outputs": [
    {
     "name": "stdout",
     "output_type": "stream",
     "text": [
      "[[-1  6]\n",
      " [ 0 42]]\n"
     ]
    }
   ],
   "source": [
    "#  В numpy создаем таблицу частот \n",
    "\n",
    "#  Не работает. Команда value_counts() работает с таблицами\n",
    "#  dbscan_1.labels_.value_counts()\n",
    "\n",
    "#  Нужна замена value_counts() из pandas или замена table из R \n",
    "#  Вот вариант замены\n",
    "\n",
    "unique, counts = np.unique(dbscan_1.labels_, return_counts=True)\n",
    "print(np.asarray((unique, counts)).T)"
   ]
  },
  {
   "cell_type": "code",
   "execution_count": 23,
   "metadata": {},
   "outputs": [
    {
     "data": {
      "text/plain": [
       "DBSCAN(algorithm='auto', eps=2, leaf_size=30, metric='euclidean',\n",
       "       metric_params=None, min_samples=1, n_jobs=None, p=None)"
      ]
     },
     "execution_count": 23,
     "metadata": {},
     "output_type": "execute_result"
    }
   ],
   "source": [
    "dbscan_1 = DBSCAN(eps=2, metric='euclidean', min_samples=1)\n",
    "\n",
    "dbscan_1.fit(X)"
   ]
  },
  {
   "cell_type": "code",
   "execution_count": 24,
   "metadata": {},
   "outputs": [
    {
     "name": "stdout",
     "output_type": "stream",
     "text": [
      "[[ 0 46]\n",
      " [ 1  2]]\n"
     ]
    }
   ],
   "source": [
    "#  Таблица частот \n",
    "\n",
    "unique, counts = np.unique(dbscan_1.labels_, return_counts=True)\n",
    "print(np.asarray((unique, counts)).T)"
   ]
  },
  {
   "cell_type": "markdown",
   "metadata": {},
   "source": [
    "Вероятно, класс 1 - наши два выброса. Проверим:"
   ]
  },
  {
   "cell_type": "code",
   "execution_count": 25,
   "metadata": {},
   "outputs": [
    {
     "data": {
      "text/plain": [
       "City\n",
       "Amsterdam         0\n",
       "Manila            0\n",
       "Mexico_City       0\n",
       "Milan             0\n",
       "Montreal          0\n",
       "Nairobi           0\n",
       "New_York          0\n",
       "Nicosia           0\n",
       "Oslo              0\n",
       "Panama            0\n",
       "Madrid            0\n",
       "Paris             0\n",
       "San_Paulo         0\n",
       "Seoul             0\n",
       "Singpore          0\n",
       "Stockholm         0\n",
       "Sydney            0\n",
       "Taipei            0\n",
       "Tel_Aviv          0\n",
       "Tokyo             0\n",
       "Toronto           0\n",
       "Rio_de_Janeiro    0\n",
       "Luxembourg        0\n",
       "Los_Angeles       0\n",
       "London            0\n",
       "Athens            0\n",
       "Bogota            0\n",
       "Bombay            0\n",
       "Brussels          0\n",
       "Buenos_Aires      0\n",
       "Caracas           0\n",
       "Chicago           0\n",
       "Copenhagen        0\n",
       "Dublin            0\n",
       "Vienna            0\n",
       "Dusseldorf        0\n",
       "Geneva            0\n",
       "Helsinki          0\n",
       "Hong_Kong         0\n",
       "Houston           0\n",
       "Johannesburg      0\n",
       "Kuala_Lumpur      0\n",
       "Lagos             0\n",
       "Lisbon            0\n",
       "Frankfurt         0\n",
       "Zurich            0\n",
       "Cairo             1\n",
       "Jakarta           1\n",
       "Name: DB!, dtype: int64"
      ]
     },
     "execution_count": 25,
     "metadata": {},
     "output_type": "execute_result"
    }
   ],
   "source": [
    "df['DB!'] = dbscan_1.labels_\n",
    "df['DB!'].sort_values()"
   ]
  },
  {
   "cell_type": "markdown",
   "metadata": {},
   "source": [
    "Действительно! Так, уже есть кластеризация на выбросы и невыбросы. Значения в них действительно похожи. И если не знать, что там -9999, можно подумать, что это точки в одном классе. Идём дальше."
   ]
  },
  {
   "cell_type": "code",
   "execution_count": 27,
   "metadata": {},
   "outputs": [
    {
     "name": "stdout",
     "output_type": "stream",
     "text": [
      "[[-1  3]\n",
      " [ 0 37]\n",
      " [ 1  4]\n",
      " [ 2  4]]\n"
     ]
    }
   ],
   "source": [
    "dbscan_1 = DBSCAN(eps=0.3, metric='euclidean', min_samples=2)\n",
    "\n",
    "dbscan_1.fit(X)\n",
    "unique, counts = np.unique(dbscan_1.labels_, return_counts=True)\n",
    "print(np.asarray((unique, counts)).T)"
   ]
  },
  {
   "cell_type": "markdown",
   "metadata": {},
   "source": [
    "Надо посмотреть, что вышло."
   ]
  },
  {
   "cell_type": "code",
   "execution_count": 28,
   "metadata": {},
   "outputs": [
    {
     "data": {
      "text/plain": [
       "City\n",
       "Bombay           -1\n",
       "Jakarta          -1\n",
       "Cairo            -1\n",
       "Amsterdam         0\n",
       "Manila            0\n",
       "Mexico_City       0\n",
       "Milan             0\n",
       "Montreal          0\n",
       "Nairobi           0\n",
       "New_York          0\n",
       "Nicosia           0\n",
       "Panama            0\n",
       "Paris             0\n",
       "Rio_de_Janeiro    0\n",
       "San_Paulo         0\n",
       "Seoul             0\n",
       "Singpore          0\n",
       "Sydney            0\n",
       "Taipei            0\n",
       "Tel_Aviv          0\n",
       "Toronto           0\n",
       "Luxembourg        0\n",
       "Vienna            0\n",
       "Los_Angeles       0\n",
       "Lisbon            0\n",
       "Athens            0\n",
       "Bogota            0\n",
       "Brussels          0\n",
       "Buenos_Aires      0\n",
       "Caracas           0\n",
       "Chicago           0\n",
       "Dublin            0\n",
       "London            0\n",
       "Frankfurt         0\n",
       "Dusseldorf        0\n",
       "Hong_Kong         0\n",
       "Houston           0\n",
       "Johannesburg      0\n",
       "Kuala_Lumpur      0\n",
       "Lagos             0\n",
       "Geneva            1\n",
       "Copenhagen        1\n",
       "Madrid            1\n",
       "Zurich            1\n",
       "Helsinki          2\n",
       "Stockholm         2\n",
       "Tokyo             2\n",
       "Oslo              2\n",
       "Name: DBSCAN, dtype: int64"
      ]
     },
     "execution_count": 28,
     "metadata": {},
     "output_type": "execute_result"
    }
   ],
   "source": [
    "df['DBSCAN'] = dbscan_1.labels_\n",
    "df['DBSCAN'].sort_values()"
   ]
  },
  {
   "cell_type": "markdown",
   "metadata": {},
   "source": [
    "Получилось три кластера:\n",
    "кластеры 2 и 1 - тот, что раньше был высоким уровнем жизни, оствльное - вместе, плюс - класс из выбросов перекочевал в выбросы, к которым зачем-то присоединился Каир. Странно всё. Пробуем еще."
   ]
  },
  {
   "cell_type": "code",
   "execution_count": 49,
   "metadata": {},
   "outputs": [
    {
     "name": "stdout",
     "output_type": "stream",
     "text": [
      "[[-1  7]\n",
      " [ 0 21]\n",
      " [ 1 13]\n",
      " [ 2  4]\n",
      " [ 3  3]]\n"
     ]
    }
   ],
   "source": [
    "dbscan_1 = DBSCAN(eps=0.15, metric='euclidean', min_samples=3)\n",
    "\n",
    "dbscan_1.fit(X)\n",
    "unique, counts = np.unique(dbscan_1.labels_, return_counts=True)\n",
    "print(np.asarray((unique, counts)).T)"
   ]
  },
  {
   "cell_type": "code",
   "execution_count": 57,
   "metadata": {},
   "outputs": [
    {
     "data": {
      "text/plain": [
       "City\n",
       "Zurich           -1\n",
       "Bogota           -1\n",
       "Bombay           -1\n",
       "Manila           -1\n",
       "Cairo            -1\n",
       "Caracas          -1\n",
       "Jakarta          -1\n",
       "Vienna            0\n",
       "Luxembourg        0\n",
       "Milan             0\n",
       "Montreal          0\n",
       "Singpore          0\n",
       "Paris             0\n",
       "Sydney            0\n",
       "Taipei            0\n",
       "Tel_Aviv          0\n",
       "Toronto           0\n",
       "New_York          0\n",
       "London            0\n",
       "Amsterdam         0\n",
       "Los_Angeles       0\n",
       "Brussels          0\n",
       "Houston           0\n",
       "Hong_Kong         0\n",
       "Chicago           0\n",
       "Frankfurt         0\n",
       "Dusseldorf        0\n",
       "Dublin            0\n",
       "Athens            1\n",
       "Buenos_Aires      1\n",
       "Seoul             1\n",
       "San_Paulo         1\n",
       "Rio_de_Janeiro    1\n",
       "Panama            1\n",
       "Lagos             1\n",
       "Nicosia           1\n",
       "Nairobi           1\n",
       "Mexico_City       1\n",
       "Johannesburg      1\n",
       "Lisbon            1\n",
       "Kuala_Lumpur      1\n",
       "Stockholm         2\n",
       "Helsinki          2\n",
       "Tokyo             2\n",
       "Oslo              2\n",
       "Geneva            3\n",
       "Copenhagen        3\n",
       "Madrid            3\n",
       "Name: DBSCAN, dtype: int64"
      ]
     },
     "execution_count": 57,
     "metadata": {},
     "output_type": "execute_result"
    }
   ],
   "source": [
    "df['DBSCAN'] = dbscan_1.labels_\n",
    "df['DBSCAN'].sort_values()"
   ]
  },
  {
   "cell_type": "markdown",
   "metadata": {},
   "source": [
    "Интересно! Посмотрим средние значения."
   ]
  },
  {
   "cell_type": "code",
   "execution_count": 56,
   "metadata": {},
   "outputs": [
    {
     "data": {
      "text/html": [
       "<div>\n",
       "<style scoped>\n",
       "    .dataframe tbody tr th:only-of-type {\n",
       "        vertical-align: middle;\n",
       "    }\n",
       "\n",
       "    .dataframe tbody tr th {\n",
       "        vertical-align: top;\n",
       "    }\n",
       "\n",
       "    .dataframe thead th {\n",
       "        text-align: right;\n",
       "    }\n",
       "</style>\n",
       "<table border=\"1\" class=\"dataframe\">\n",
       "  <thead>\n",
       "    <tr style=\"text-align: right;\">\n",
       "      <th></th>\n",
       "      <th>Work</th>\n",
       "      <th>Price</th>\n",
       "      <th>Salary</th>\n",
       "      <th>KMeans</th>\n",
       "    </tr>\n",
       "    <tr>\n",
       "      <th>DBSCAN</th>\n",
       "      <th></th>\n",
       "      <th></th>\n",
       "      <th></th>\n",
       "      <th></th>\n",
       "    </tr>\n",
       "  </thead>\n",
       "  <tbody>\n",
       "    <tr>\n",
       "      <td>-1</td>\n",
       "      <td>-1373.857143</td>\n",
       "      <td>49.985714</td>\n",
       "      <td>-2838.042857</td>\n",
       "      <td>2.857143</td>\n",
       "    </tr>\n",
       "    <tr>\n",
       "      <td>0</td>\n",
       "      <td>1866.571429</td>\n",
       "      <td>74.652381</td>\n",
       "      <td>49.547619</td>\n",
       "      <td>2.523810</td>\n",
       "    </tr>\n",
       "    <tr>\n",
       "      <td>1</td>\n",
       "      <td>1896.538462</td>\n",
       "      <td>50.100000</td>\n",
       "      <td>15.861538</td>\n",
       "      <td>3.769231</td>\n",
       "    </tr>\n",
       "    <tr>\n",
       "      <td>2</td>\n",
       "      <td>1733.750000</td>\n",
       "      <td>113.850000</td>\n",
       "      <td>59.375000</td>\n",
       "      <td>3.000000</td>\n",
       "    </tr>\n",
       "    <tr>\n",
       "      <td>3</td>\n",
       "      <td>1769.000000</td>\n",
       "      <td>93.666667</td>\n",
       "      <td>67.733333</td>\n",
       "      <td>5.000000</td>\n",
       "    </tr>\n",
       "  </tbody>\n",
       "</table>\n",
       "</div>"
      ],
      "text/plain": [
       "               Work       Price       Salary    KMeans\n",
       "DBSCAN                                                \n",
       "-1     -1373.857143   49.985714 -2838.042857  2.857143\n",
       " 0      1866.571429   74.652381    49.547619  2.523810\n",
       " 1      1896.538462   50.100000    15.861538  3.769231\n",
       " 2      1733.750000  113.850000    59.375000  3.000000\n",
       " 3      1769.000000   93.666667    67.733333  5.000000"
      ]
     },
     "execution_count": 56,
     "metadata": {},
     "output_type": "execute_result"
    }
   ],
   "source": [
    "df.groupby('DBSCAN').mean()"
   ]
  },
  {
   "cell_type": "markdown",
   "metadata": {},
   "source": [
    "-1 - выбросы, не смотрим, там всё подряд.\n",
    "\n",
    "Кластер 2 - это высокие цены, сравнительно маленькое время работы, достойная (но не самая высокая!) зарплата. Это страны с высоким уровнем жизни, и, посмею предположить, с какой-то хорошей социальной поддержкой (зарплата не самая большая, а цены\n",
    "просто атомные!!!!) И уже даже по этой таблице видно, что кластер полностью совпал со кластером 3 из метода к-средних.\n",
    "\n",
    "Кластер 3 - тут зарплата даже выше!!! А цены тут пониже. Пусть будет: города, в которых хорошо работать, но дорого жить.\n",
    "\n",
    "Кластер 0 - среднячки. Цены намного ниже, чем в прошлых кластерах. Зарплата тоже ниже, но не настолько. Нормальные такие города.\n",
    "\n",
    "Кластер 1 - нищие города. Очень низкая зарплата, число рабочих часов - максимальное! Цены минимальные, но по сравнению с зарплатой они не так сильно снизились. Печальное место."
   ]
  },
  {
   "cell_type": "markdown",
   "metadata": {},
   "source": [
    "Сравним с  K-Means:"
   ]
  },
  {
   "cell_type": "code",
   "execution_count": 58,
   "metadata": {},
   "outputs": [
    {
     "name": "stdout",
     "output_type": "stream",
     "text": [
      "KMeans   1  2  3   4  5\n",
      "DBSCAN                 \n",
      "-1       1  2  1   3  0\n",
      " 0      13  0  0   0  8\n",
      " 1       1  0  0  12  0\n",
      " 2       0  0  4   0  0\n",
      " 3       0  0  0   0  3\n"
     ]
    }
   ],
   "source": [
    "tab = pd.crosstab(df['DBSCAN'], df['KMeans'])\n",
    "\n",
    "print(tab)"
   ]
  },
  {
   "cell_type": "markdown",
   "metadata": {},
   "source": [
    "Очень большое сходство! Правда, некоторые города попали в выбросы. Два класса(1 и 5 -> 0) слились, а кусок оставшегося отправился в отдельный класс. "
   ]
  },
  {
   "cell_type": "code",
   "execution_count": 80,
   "metadata": {},
   "outputs": [
    {
     "name": "stdout",
     "output_type": "stream",
     "text": [
      "[[-1  6]\n",
      " [ 0 21]\n",
      " [ 1 14]\n",
      " [ 2  4]\n",
      " [ 3  3]]\n"
     ]
    }
   ],
   "source": [
    "dbscan_1 = DBSCAN(eps=0.1575, metric='euclidean', min_samples=3)\n",
    "\n",
    "dbscan_1.fit(X)\n",
    "unique, counts = np.unique(dbscan_1.labels_, return_counts=True)\n",
    "print(np.asarray((unique, counts)).T)"
   ]
  },
  {
   "cell_type": "code",
   "execution_count": 78,
   "metadata": {},
   "outputs": [
    {
     "data": {
      "text/plain": [
       "City\n",
       "Zurich           -1\n",
       "Manila           -1\n",
       "Cairo            -1\n",
       "Jakarta          -1\n",
       "Bogota           -1\n",
       "Bombay           -1\n",
       "Tel_Aviv          0\n",
       "Taipei            0\n",
       "Sydney            0\n",
       "London            0\n",
       "Paris             0\n",
       "New_York          0\n",
       "Montreal          0\n",
       "Milan             0\n",
       "Toronto           0\n",
       "Luxembourg        0\n",
       "Vienna            0\n",
       "Singpore          0\n",
       "Amsterdam         0\n",
       "Los_Angeles       0\n",
       "Brussels          0\n",
       "Houston           0\n",
       "Hong_Kong         0\n",
       "Chicago           0\n",
       "Frankfurt         0\n",
       "Dusseldorf        0\n",
       "Dublin            0\n",
       "Athens            1\n",
       "Buenos_Aires      1\n",
       "Caracas           1\n",
       "Seoul             1\n",
       "San_Paulo         1\n",
       "Rio_de_Janeiro    1\n",
       "Panama            1\n",
       "Kuala_Lumpur      1\n",
       "Nicosia           1\n",
       "Nairobi           1\n",
       "Mexico_City       1\n",
       "Lisbon            1\n",
       "Lagos             1\n",
       "Johannesburg      1\n",
       "Stockholm         2\n",
       "Helsinki          2\n",
       "Tokyo             2\n",
       "Oslo              2\n",
       "Copenhagen        3\n",
       "Geneva            3\n",
       "Madrid            3\n",
       "Name: DBSCAN, dtype: int64"
      ]
     },
     "execution_count": 78,
     "metadata": {},
     "output_type": "execute_result"
    }
   ],
   "source": [
    "df['DBSCAN'] = dbscan_1.labels_\n",
    "df['DBSCAN'].sort_values()"
   ]
  },
  {
   "cell_type": "markdown",
   "metadata": {},
   "source": [
    "Один город перекочевал из выбросов в среднячки, но особо изменений нет."
   ]
  },
  {
   "cell_type": "code",
   "execution_count": 86,
   "metadata": {},
   "outputs": [
    {
     "name": "stdout",
     "output_type": "stream",
     "text": [
      "[[-1  4]\n",
      " [ 0 35]\n",
      " [ 1  2]\n",
      " [ 2  3]\n",
      " [ 3  4]]\n"
     ]
    }
   ],
   "source": [
    "dbscan_1 = DBSCAN(eps=0.16, metric='euclidean', min_samples=2)\n",
    "\n",
    "dbscan_1.fit(X)\n",
    "unique, counts = np.unique(dbscan_1.labels_, return_counts=True)\n",
    "print(np.asarray((unique, counts)).T)"
   ]
  },
  {
   "cell_type": "markdown",
   "metadata": {},
   "source": [
    "Такое же количество кластеров. Но очень неравномерное разбиение! Зато меньше выбросов! Посмотрим:"
   ]
  },
  {
   "cell_type": "code",
   "execution_count": 89,
   "metadata": {},
   "outputs": [
    {
     "data": {
      "text/plain": [
       "City\n",
       "Zurich           -1\n",
       "Bombay           -1\n",
       "Jakarta          -1\n",
       "Cairo            -1\n",
       "Mexico_City       0\n",
       "Milan             0\n",
       "Montreal          0\n",
       "Nairobi           0\n",
       "New_York          0\n",
       "Nicosia           0\n",
       "Panama            0\n",
       "Rio_de_Janeiro    0\n",
       "Luxembourg        0\n",
       "San_Paulo         0\n",
       "Seoul             0\n",
       "Singpore          0\n",
       "Sydney            0\n",
       "Taipei            0\n",
       "Tel_Aviv          0\n",
       "Toronto           0\n",
       "Paris             0\n",
       "Vienna            0\n",
       "Amsterdam         0\n",
       "Lisbon            0\n",
       "Athens            0\n",
       "Brussels          0\n",
       "Buenos_Aires      0\n",
       "Caracas           0\n",
       "Chicago           0\n",
       "Dublin            0\n",
       "London            0\n",
       "Frankfurt         0\n",
       "Dusseldorf        0\n",
       "Hong_Kong         0\n",
       "Houston           0\n",
       "Johannesburg      0\n",
       "Kuala_Lumpur      0\n",
       "Lagos             0\n",
       "Los_Angeles       0\n",
       "Manila            1\n",
       "Bogota            1\n",
       "Copenhagen        2\n",
       "Madrid            2\n",
       "Geneva            2\n",
       "Oslo              3\n",
       "Helsinki          3\n",
       "Stockholm         3\n",
       "Tokyo             3\n",
       "Name: DBSCAN, dtype: int64"
      ]
     },
     "execution_count": 89,
     "metadata": {},
     "output_type": "execute_result"
    }
   ],
   "source": [
    "df['DBSCAN'] = dbscan_1.labels_\n",
    "df['DBSCAN'].sort_values()"
   ]
  },
  {
   "cell_type": "code",
   "execution_count": 90,
   "metadata": {},
   "outputs": [
    {
     "data": {
      "text/html": [
       "<div>\n",
       "<style scoped>\n",
       "    .dataframe tbody tr th:only-of-type {\n",
       "        vertical-align: middle;\n",
       "    }\n",
       "\n",
       "    .dataframe tbody tr th {\n",
       "        vertical-align: top;\n",
       "    }\n",
       "\n",
       "    .dataframe thead th {\n",
       "        text-align: right;\n",
       "    }\n",
       "</style>\n",
       "<table border=\"1\" class=\"dataframe\">\n",
       "  <thead>\n",
       "    <tr style=\"text-align: right;\">\n",
       "      <th></th>\n",
       "      <th>Work</th>\n",
       "      <th>Price</th>\n",
       "      <th>Salary</th>\n",
       "      <th>KMeans</th>\n",
       "    </tr>\n",
       "    <tr>\n",
       "      <th>DBSCAN</th>\n",
       "      <th></th>\n",
       "      <th></th>\n",
       "      <th></th>\n",
       "      <th></th>\n",
       "    </tr>\n",
       "  </thead>\n",
       "  <tbody>\n",
       "    <tr>\n",
       "      <td>-1</td>\n",
       "      <td>-4019.500000</td>\n",
       "      <td>52.750000</td>\n",
       "      <td>-4973.175000</td>\n",
       "      <td>2.750000</td>\n",
       "    </tr>\n",
       "    <tr>\n",
       "      <td>0</td>\n",
       "      <td>1882.685714</td>\n",
       "      <td>65.142857</td>\n",
       "      <td>35.931429</td>\n",
       "      <td>2.942857</td>\n",
       "    </tr>\n",
       "    <tr>\n",
       "      <td>1</td>\n",
       "      <td>2210.000000</td>\n",
       "      <td>38.950000</td>\n",
       "      <td>7.750000</td>\n",
       "      <td>4.000000</td>\n",
       "    </tr>\n",
       "    <tr>\n",
       "      <td>2</td>\n",
       "      <td>1769.000000</td>\n",
       "      <td>93.666667</td>\n",
       "      <td>67.733333</td>\n",
       "      <td>5.000000</td>\n",
       "    </tr>\n",
       "    <tr>\n",
       "      <td>3</td>\n",
       "      <td>1733.750000</td>\n",
       "      <td>113.850000</td>\n",
       "      <td>59.375000</td>\n",
       "      <td>3.000000</td>\n",
       "    </tr>\n",
       "  </tbody>\n",
       "</table>\n",
       "</div>"
      ],
      "text/plain": [
       "               Work       Price       Salary    KMeans\n",
       "DBSCAN                                                \n",
       "-1     -4019.500000   52.750000 -4973.175000  2.750000\n",
       " 0      1882.685714   65.142857    35.931429  2.942857\n",
       " 1      2210.000000   38.950000     7.750000  4.000000\n",
       " 2      1769.000000   93.666667    67.733333  5.000000\n",
       " 3      1733.750000  113.850000    59.375000  3.000000"
      ]
     },
     "execution_count": 90,
     "metadata": {},
     "output_type": "execute_result"
    }
   ],
   "source": [
    "df.groupby('DBSCAN').mean()"
   ]
  },
  {
   "cell_type": "markdown",
   "metadata": {},
   "source": [
    "Появился супер-бедный класс. Чем-то похоже на прошлое разбиение. Но если присмотреться - Найроби и Нью-Йорк в одном классе!!!\n"
   ]
  },
  {
   "cell_type": "code",
   "execution_count": 97,
   "metadata": {},
   "outputs": [
    {
     "name": "stdout",
     "output_type": "stream",
     "text": [
      "Work      1958.0\n",
      "Price       45.0\n",
      "Salary       5.8\n",
      "KMeans       4.0\n",
      "DBSCAN       0.0\n",
      "Name: Nairobi, dtype: float64\n",
      "Work      1942.0\n",
      "Price       83.3\n",
      "Salary      65.8\n",
      "KMeans       5.0\n",
      "DBSCAN       0.0\n",
      "Name: New_York, dtype: float64\n"
     ]
    }
   ],
   "source": [
    "print(df.loc[\"Nairobi\"])\n",
    "print(df.loc[\"New_York\"])"
   ]
  },
  {
   "cell_type": "markdown",
   "metadata": {},
   "source": [
    "* Nairobi         1958   45.0     5.8\n",
    "* New_York        1942   83.3    65.8\n",
    "Как сильно отличается зарплата! А цены? Это разбиение мне не нравится! Не буду гнаться за минимизацией выбросов. Остановимся на предыдущем разбиении! Оно было самое адекватное."
   ]
  },
  {
   "cell_type": "markdown",
   "metadata": {},
   "source": [
    "Мой вывод: этом метод кластеризации понравился мне меньше всего: очень сложно правильно повлиять на результат, разбиения самые непонятные. Может, для ленточных кластеров он хорош, но для обычной кластеризации его намного сложнее настраивать. "
   ]
  }
 ],
 "metadata": {
  "kernelspec": {
   "display_name": "Python 3",
   "language": "python",
   "name": "python3"
  },
  "language_info": {
   "codemirror_mode": {
    "name": "ipython",
    "version": 3
   },
   "file_extension": ".py",
   "mimetype": "text/x-python",
   "name": "python",
   "nbconvert_exporter": "python",
   "pygments_lexer": "ipython3",
   "version": "3.7.4"
  }
 },
 "nbformat": 4,
 "nbformat_minor": 2
}
