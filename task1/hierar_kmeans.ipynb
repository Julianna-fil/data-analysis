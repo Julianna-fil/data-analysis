{
 "cells": [
  {
   "cell_type": "markdown",
   "metadata": {},
   "source": [
    "### На всякий случай оставила иерархическую кластеризацию тоже, чтоб было, с чем сравнить. Если неинтересно смотреть, можно сразу отмотать на середину ноутбука))"
   ]
  },
  {
   "cell_type": "code",
   "execution_count": 292,
   "metadata": {},
   "outputs": [],
   "source": [
    "import numpy as np\n",
    "import pandas as pd\n",
    "\n",
    "import matplotlib\n",
    "import matplotlib.pyplot as plt\n",
    "matplotlib.style.use('ggplot')\n",
    "%matplotlib inline\n",
    "\n",
    "import os"
   ]
  },
  {
   "cell_type": "code",
   "execution_count": 293,
   "metadata": {},
   "outputs": [],
   "source": [
    "os.chdir(\"C:/Users/79502/Downloads/Lect_04/Lect_04/задача_2_Economics of Cities/\")"
   ]
  },
  {
   "cell_type": "code",
   "execution_count": 294,
   "metadata": {},
   "outputs": [],
   "source": [
    "df = pd.read_csv(\"Econom_Cities_data.csv\", sep=\";\", decimal=',', index_col='City')"
   ]
  },
  {
   "cell_type": "code",
   "execution_count": 295,
   "metadata": {},
   "outputs": [
    {
     "data": {
      "text/html": [
       "<div>\n",
       "<style scoped>\n",
       "    .dataframe tbody tr th:only-of-type {\n",
       "        vertical-align: middle;\n",
       "    }\n",
       "\n",
       "    .dataframe tbody tr th {\n",
       "        vertical-align: top;\n",
       "    }\n",
       "\n",
       "    .dataframe thead th {\n",
       "        text-align: right;\n",
       "    }\n",
       "</style>\n",
       "<table border=\"1\" class=\"dataframe\">\n",
       "  <thead>\n",
       "    <tr style=\"text-align: right;\">\n",
       "      <th></th>\n",
       "      <th>Work</th>\n",
       "      <th>Price</th>\n",
       "      <th>Salary</th>\n",
       "    </tr>\n",
       "    <tr>\n",
       "      <th>City</th>\n",
       "      <th></th>\n",
       "      <th></th>\n",
       "      <th></th>\n",
       "    </tr>\n",
       "  </thead>\n",
       "  <tbody>\n",
       "    <tr>\n",
       "      <td>Amsterdam</td>\n",
       "      <td>1714</td>\n",
       "      <td>65.6</td>\n",
       "      <td>49.0</td>\n",
       "    </tr>\n",
       "    <tr>\n",
       "      <td>Athens</td>\n",
       "      <td>1792</td>\n",
       "      <td>53.8</td>\n",
       "      <td>30.4</td>\n",
       "    </tr>\n",
       "    <tr>\n",
       "      <td>Bogota</td>\n",
       "      <td>2152</td>\n",
       "      <td>37.9</td>\n",
       "      <td>11.5</td>\n",
       "    </tr>\n",
       "    <tr>\n",
       "      <td>Bombay</td>\n",
       "      <td>2052</td>\n",
       "      <td>30.3</td>\n",
       "      <td>5.3</td>\n",
       "    </tr>\n",
       "    <tr>\n",
       "      <td>Brussels</td>\n",
       "      <td>1708</td>\n",
       "      <td>73.8</td>\n",
       "      <td>50.5</td>\n",
       "    </tr>\n",
       "  </tbody>\n",
       "</table>\n",
       "</div>"
      ],
      "text/plain": [
       "           Work  Price  Salary\n",
       "City                          \n",
       "Amsterdam  1714   65.6    49.0\n",
       "Athens     1792   53.8    30.4\n",
       "Bogota     2152   37.9    11.5\n",
       "Bombay     2052   30.3     5.3\n",
       "Brussels   1708   73.8    50.5"
      ]
     },
     "execution_count": 295,
     "metadata": {},
     "output_type": "execute_result"
    }
   ],
   "source": [
    "# Смотрим первые строки, всё ли нормально считалось\n",
    "\n",
    "\n",
    "df.head()"
   ]
  },
  {
   "cell_type": "code",
   "execution_count": 296,
   "metadata": {},
   "outputs": [
    {
     "name": "stdout",
     "output_type": "stream",
     "text": [
      "                Work  Price  Salary\n",
      "City                               \n",
      "Amsterdam       1714   65.6    49.0\n",
      "Athens          1792   53.8    30.4\n",
      "Bogota          2152   37.9    11.5\n",
      "Bombay          2052   30.3     5.3\n",
      "Brussels        1708   73.8    50.5\n",
      "Buenos_Aires    1971   56.1    12.5\n",
      "Cairo          -9999   37.1 -9999.0\n",
      "Caracas         2041   61.0    10.9\n",
      "Chicago         1924   73.9    61.9\n",
      "Copenhagen      1717   91.3    62.9\n",
      "Dublin          1759   76.0    41.4\n",
      "Dusseldorf      1693   78.5    60.2\n",
      "Frankfurt       1650   74.5    60.4\n",
      "Geneva          1880   95.9    90.3\n",
      "Helsinki        1667  113.6    66.6\n",
      "Hong_Kong       2375   63.8    27.8\n",
      "Houston         1978   71.9    46.3\n",
      "Jakarta        -9999   43.6 -9999.0\n",
      "Johannesburg    1945   51.1    24.0\n",
      "Kuala_Lumpur    2167   43.5     9.9\n",
      "Lagos           1786   45.2     2.7\n",
      "Lisbon          1742   56.2    18.8\n",
      "London          1737   84.2    46.2\n",
      "Los_Angeles     2068   79.8    65.2\n",
      "Luxembourg      1768   71.1    71.1\n",
      "Madrid          1710   93.8    50.0\n",
      "Manila          2268   40.0     4.0\n",
      "Mexico_City     1944   49.8     5.7\n",
      "Milan           1773   82.0    53.3\n",
      "Montreal        1827   72.7    56.3\n",
      "Nairobi         1958   45.0     5.8\n",
      "New_York        1942   83.3    65.8\n",
      "Nicosia         1825   47.9    28.3\n",
      "Oslo            1583  115.5    63.7\n",
      "Panama          2078   49.2    13.8\n",
      "Paris           1744   81.6    45.9\n",
      "Rio_de_Janeiro  1749   46.3    10.5\n",
      "San_Paulo       1856   48.9    11.1\n",
      "Seoul           1842   58.3    32.7\n",
      "Singpore        2042   64.4    16.1\n",
      "Stockholm       1805  111.3    39.2\n",
      "Sydney          1668   70.8    52.1\n",
      "Taipei          2145   84.3    34.5\n",
      "Tel_Aviv        2015   67.3    27.0\n",
      "Tokyo           1880  115.0    68.0\n",
      "Toronto         1888   70.2    58.2\n",
      "Vienna          1780   78.0    51.3\n",
      "Zurich          1868  100.0   100.0\n"
     ]
    }
   ],
   "source": [
    "# Данных не очень много, распечатаем всё (вдруг, пригодится для интерпретации результатов)\n",
    "\n",
    "print(df)"
   ]
  },
  {
   "cell_type": "code",
   "execution_count": 297,
   "metadata": {},
   "outputs": [],
   "source": [
    "from sklearn import preprocessing\n",
    "\n",
    "# Данные далеко не нормированы, столбцы сильно отличаются. Нужна стандартизация.\n",
    "# Какую лучше выбрать? Попробуем сделать всё и сравнить. \n",
    "\n",
    "stand_1 = preprocessing.StandardScaler()\n",
    "stand_2 = preprocessing.MaxAbsScaler()\n",
    "stand_3 = preprocessing.MinMaxScaler()\n",
    "\n",
    "# вычисляем параметры стандартизации\n",
    "stand_1.fit(df)\n",
    "stand_2.fit(df)\n",
    "stand_3.fit(df)\n",
    "# преобразуем данные\n",
    "X1 = stand_1.transform(df)\n",
    "X2 = stand_2.transform(df)\n",
    "X3 = stand_3.transform(df)\n",
    "# Получаем объекты X -- матрицы класса numpy.ndarray.\n",
    "# Преобразуем её в объекты класса pandas.DataFrame.\n",
    "X1 = pd.DataFrame(X1, index=df.index, columns=df.columns)\n",
    "X2 = pd.DataFrame(X2, index=df.index, columns=df.columns)\n",
    "X3 = pd.DataFrame(X3, index=df.index, columns=df.columns)"
   ]
  },
  {
   "cell_type": "code",
   "execution_count": 298,
   "metadata": {},
   "outputs": [
    {
     "name": "stdout",
     "output_type": "stream",
     "text": [
      "Work      0.202983\n",
      "Price     1.444554\n",
      "Salary    0.238635\n",
      "Name: Zurich, dtype: float64\n"
     ]
    }
   ],
   "source": [
    "# просто посмотрим,что вышло в одной строке\n",
    "print(X1.loc[\"Zurich\"])"
   ]
  },
  {
   "cell_type": "code",
   "execution_count": 299,
   "metadata": {},
   "outputs": [
    {
     "name": "stdout",
     "output_type": "stream",
     "text": [
      "Work      0.186819\n",
      "Price     0.865801\n",
      "Salary    0.010001\n",
      "Name: Zurich, dtype: float64\n"
     ]
    }
   ],
   "source": [
    "# просто посмотрим,что вышло\n",
    "print(X2.loc[\"Zurich\"])"
   ]
  },
  {
   "cell_type": "code",
   "execution_count": 300,
   "metadata": {},
   "outputs": [
    {
     "name": "stdout",
     "output_type": "stream",
     "text": [
      "Work      0.959027\n",
      "Price     0.818075\n",
      "Salary    1.000000\n",
      "Name: Zurich, dtype: float64\n"
     ]
    }
   ],
   "source": [
    "# просто посмотрим,что вышло\n",
    "print(X3.loc[\"Zurich\"])"
   ]
  },
  {
   "cell_type": "markdown",
   "metadata": {},
   "source": [
    "Получились совершенно разные значения, посмотрим, повлияет ли это на результаты кластеризации."
   ]
  },
  {
   "cell_type": "code",
   "execution_count": 301,
   "metadata": {},
   "outputs": [
    {
     "data": {
      "image/png": "[encoded data removed]",
      "text/plain": [
       "<Figure size 1440x720 with 1 Axes>"
      ]
     },
     "metadata": {
      "needs_background": "light"
     },
     "output_type": "display_data"
    }
   ],
   "source": [
    "from scipy.cluster.hierarchy import dendrogram, linkage, fcluster\n",
    "\n",
    "link1 = linkage(X1, 'ward', 'euclidean')\n",
    "fig1 = plt.figure(figsize=(20,10))\n",
    "dn1 = dendrogram(link, labels=X.index.tolist(), color_threshold=2,orientation = \"right\")"
   ]
  },
  {
   "cell_type": "code",
   "execution_count": 302,
   "metadata": {},
   "outputs": [
    {
     "data": {
      "image/png": "[encoded data removed]",
      "text/plain": [
       "<Figure size 1440x720 with 1 Axes>"
      ]
     },
     "metadata": {
      "needs_background": "light"
     },
     "output_type": "display_data"
    }
   ],
   "source": [
    "link2 = linkage(X2, 'ward', 'euclidean')\n",
    "fig2 = plt.figure(figsize=(20,10))\n",
    "dn2 = dendrogram(link2, labels=X.index.tolist(), color_threshold=0.7,orientation = \"right\")"
   ]
  },
  {
   "cell_type": "code",
   "execution_count": 303,
   "metadata": {},
   "outputs": [
    {
     "data": {
      "image/png": "[encoded data removed]",
      "text/plain": [
       "<Figure size 1440x720 with 1 Axes>"
      ]
     },
     "metadata": {
      "needs_background": "light"
     },
     "output_type": "display_data"
    }
   ],
   "source": [
    "link3 = linkage(X3, 'ward', 'euclidean')\n",
    "fig3 = plt.figure(figsize=(20,10))\n",
    "dn3 = dendrogram(link3, labels=X.index.tolist(), color_threshold=0.7,orientation = \"right\")"
   ]
  },
  {
   "cell_type": "code",
   "execution_count": 304,
   "metadata": {},
   "outputs": [],
   "source": [
    "dist1 = link1[:, 2]\n",
    "dist2 = link2[:, 2]\n",
    "dist3 = link3[:, 2]"
   ]
  },
  {
   "cell_type": "code",
   "execution_count": 305,
   "metadata": {
    "scrolled": true
   },
   "outputs": [
    {
     "data": {
      "text/plain": [
       "Text(22, 1.5, '5 clusters')"
      ]
     },
     "execution_count": 305,
     "metadata": {},
     "output_type": "execute_result"
    },
    {
     "data": {
      "image/png": "[encoded data removed]",
      "text/plain": [
       "<Figure size 432x288 with 1 Axes>"
      ]
     },
     "metadata": {
      "needs_background": "light"
     },
     "output_type": "display_data"
    }
   ],
   "source": [
    "dist_rev1 = dist1[::-1]\n",
    "idxs = range(1, len(dist1) + 1)\n",
    "plt.plot(idxs, dist_rev1, marker='o')\n",
    "plt.title('Distance between merged clusters')\n",
    "plt.xlabel('Step')\n",
    "plt.ylabel('Distance')\n",
    "plt.axhline(1.2, c='k', linestyle='dashed')\n",
    "plt.text(22, 1.5, '5 clusters')"
   ]
  },
  {
   "cell_type": "code",
   "execution_count": 306,
   "metadata": {
    "scrolled": true
   },
   "outputs": [
    {
     "data": {
      "text/plain": [
       "Text(22, 0.3, '5 clusters')"
      ]
     },
     "execution_count": 306,
     "metadata": {},
     "output_type": "execute_result"
    },
    {
     "data": {
      "image/png": "[encoded data removed]",
      "text/plain": [
       "<Figure size 432x288 with 1 Axes>"
      ]
     },
     "metadata": {
      "needs_background": "light"
     },
     "output_type": "display_data"
    }
   ],
   "source": [
    "dist_rev2 = dist2[::-1]\n",
    "idxs = range(1, len(dist2) + 1)\n",
    "plt.plot(idxs, dist_rev2, marker='o')\n",
    "plt.title('Distance between merged clusters')\n",
    "plt.xlabel('Step')\n",
    "plt.ylabel('Distance')\n",
    "plt.axhline(0.25, c='k', linestyle='dashed')\n",
    "plt.text(22, 0.3, '5 clusters')"
   ]
  },
  {
   "cell_type": "code",
   "execution_count": 307,
   "metadata": {},
   "outputs": [
    {
     "data": {
      "text/plain": [
       "Text(22, 0.4, '5 clusters')"
      ]
     },
     "execution_count": 307,
     "metadata": {},
     "output_type": "execute_result"
    },
    {
     "data": {
      "image/png": "[encoded data removed]",
      "text/plain": [
       "<Figure size 432x288 with 1 Axes>"
      ]
     },
     "metadata": {
      "needs_background": "light"
     },
     "output_type": "display_data"
    }
   ],
   "source": [
    "dist_rev3 = dist3[::-1]\n",
    "idxs = range(1, len(dist3) + 1)\n",
    "plt.plot(idxs, dist_rev3, marker='o')\n",
    "plt.title('Distance between merged clusters')\n",
    "plt.xlabel('Step')\n",
    "plt.ylabel('Distance')\n",
    "plt.axhline(0.35, c='k', linestyle='dashed')\n",
    "plt.text(22, 0.4, '5 clusters')"
   ]
  },
  {
   "cell_type": "code",
   "execution_count": 308,
   "metadata": {},
   "outputs": [],
   "source": [
    "df['cluster1'] = fcluster(link1, 5, criterion='maxclust')\n",
    "df['cluster2'] = fcluster(link2, 5, criterion='maxclust')\n",
    "df['cluster3'] = fcluster(link3, 5, criterion='maxclust')"
   ]
  },
  {
   "cell_type": "code",
   "execution_count": 309,
   "metadata": {},
   "outputs": [
    {
     "name": "stdout",
     "output_type": "stream",
     "text": [
      "                Work  Price  Salary  cluster1  cluster2  cluster3\n",
      "City                                                             \n",
      "Amsterdam       1714   65.6    49.0         2         2         2\n",
      "Athens          1792   53.8    30.4         2         2         2\n",
      "Bogota          2152   37.9    11.5         3         3         3\n",
      "Bombay          2052   30.3     5.3         3         3         3\n",
      "Brussels        1708   73.8    50.5         4         4         4\n",
      "Buenos_Aires    1971   56.1    12.5         2         2         2\n",
      "Cairo          -9999   37.1 -9999.0         1         1         1\n",
      "Caracas         2041   61.0    10.9         2         2         2\n",
      "Chicago         1924   73.9    61.9         4         4         4\n",
      "Copenhagen      1717   91.3    62.9         5         5         5\n",
      "Dublin          1759   76.0    41.4         4         4         4\n",
      "Dusseldorf      1693   78.5    60.2         4         4         4\n",
      "Frankfurt       1650   74.5    60.4         4         4         4\n",
      "Geneva          1880   95.9    90.3         5         5         5\n",
      "Helsinki        1667  113.6    66.6         5         5         5\n",
      "Hong_Kong       2375   63.8    27.8         2         2         2\n",
      "Houston         1978   71.9    46.3         4         4         4\n",
      "Jakarta        -9999   43.6 -9999.0         1         1         1\n",
      "Johannesburg    1945   51.1    24.0         3         3         3\n",
      "Kuala_Lumpur    2167   43.5     9.9         3         3         3\n",
      "Lagos           1786   45.2     2.7         3         3         3\n",
      "Lisbon          1742   56.2    18.8         2         2         2\n",
      "London          1737   84.2    46.2         4         4         4\n",
      "Los_Angeles     2068   79.8    65.2         4         4         4\n",
      "Luxembourg      1768   71.1    71.1         4         4         4\n",
      "Madrid          1710   93.8    50.0         5         5         5\n",
      "Manila          2268   40.0     4.0         3         3         3\n",
      "Mexico_City     1944   49.8     5.7         3         3         3\n",
      "Milan           1773   82.0    53.3         4         4         4\n",
      "Montreal        1827   72.7    56.3         4         4         4\n",
      "Nairobi         1958   45.0     5.8         3         3         3\n",
      "New_York        1942   83.3    65.8         4         4         4\n",
      "Nicosia         1825   47.9    28.3         3         3         3\n",
      "Oslo            1583  115.5    63.7         5         5         5\n",
      "Panama          2078   49.2    13.8         3         3         3\n",
      "Paris           1744   81.6    45.9         4         4         4\n",
      "Rio_de_Janeiro  1749   46.3    10.5         3         3         3\n",
      "San_Paulo       1856   48.9    11.1         3         3         3\n",
      "Seoul           1842   58.3    32.7         2         2         2\n",
      "Singpore        2042   64.4    16.1         2         2         2\n",
      "Stockholm       1805  111.3    39.2         5         5         5\n",
      "Sydney          1668   70.8    52.1         4         4         4\n",
      "Taipei          2145   84.3    34.5         4         4         4\n",
      "Tel_Aviv        2015   67.3    27.0         2         2         2\n",
      "Tokyo           1880  115.0    68.0         5         5         5\n",
      "Toronto         1888   70.2    58.2         4         4         4\n",
      "Vienna          1780   78.0    51.3         4         4         4\n",
      "Zurich          1868  100.0   100.0         5         5         5\n"
     ]
    }
   ],
   "source": [
    "print(df)"
   ]
  },
  {
   "cell_type": "code",
   "execution_count": 310,
   "metadata": {},
   "outputs": [],
   "source": [
    "del df[\"cluster2\"]\n",
    "del df[\"cluster3\"]"
   ]
  },
  {
   "cell_type": "markdown",
   "metadata": {},
   "source": [
    "Вывод: номера кластеров совпадают во всех строках, тип стандартизации почти не повлиял на результат. Дендрограммы и каменистые осыпи слабо отличались друг от друга, а итоговое разбиение на 5 кластеров не отличается вообще. Правда, при разбиении на большее количество кластеров разница была бы, что видно из дендрограмм.\n",
    "Стоит попробовать изменить другие параметры. Но пока интерпретируем результат для 5 кластеров."
   ]
  },
  {
   "cell_type": "code",
   "execution_count": 311,
   "metadata": {},
   "outputs": [
    {
     "data": {
      "text/plain": [
       "City\n",
       "Jakarta           1\n",
       "Cairo             1\n",
       "Hong_Kong         2\n",
       "Seoul             2\n",
       "Singpore          2\n",
       "Lisbon            2\n",
       "Caracas           2\n",
       "Amsterdam         2\n",
       "Athens            2\n",
       "Buenos_Aires      2\n",
       "Tel_Aviv          2\n",
       "Johannesburg      3\n",
       "Panama            3\n",
       "Nicosia           3\n",
       "Nairobi           3\n",
       "Manila            3\n",
       "Lagos             3\n",
       "Kuala_Lumpur      3\n",
       "Rio_de_Janeiro    3\n",
       "Mexico_City       3\n",
       "San_Paulo         3\n",
       "Bombay            3\n",
       "Bogota            3\n",
       "Sydney            4\n",
       "Taipei            4\n",
       "Toronto           4\n",
       "New_York          4\n",
       "Paris             4\n",
       "Montreal          4\n",
       "Los_Angeles       4\n",
       "Frankfurt         4\n",
       "Luxembourg        4\n",
       "Vienna            4\n",
       "Brussels          4\n",
       "London            4\n",
       "Houston           4\n",
       "Chicago           4\n",
       "Milan             4\n",
       "Dusseldorf        4\n",
       "Dublin            4\n",
       "Tokyo             5\n",
       "Copenhagen        5\n",
       "Madrid            5\n",
       "Geneva            5\n",
       "Helsinki          5\n",
       "Oslo              5\n",
       "Stockholm         5\n",
       "Zurich            5\n",
       "Name: cluster1, dtype: int32"
      ]
     },
     "execution_count": 311,
     "metadata": {},
     "output_type": "execute_result"
    }
   ],
   "source": [
    "df['cluster1'].sort_values()"
   ]
  },
  {
   "cell_type": "code",
   "execution_count": 312,
   "metadata": {
    "scrolled": false
   },
   "outputs": [
    {
     "data": {
      "text/html": [
       "<div>\n",
       "<style scoped>\n",
       "    .dataframe tbody tr th:only-of-type {\n",
       "        vertical-align: middle;\n",
       "    }\n",
       "\n",
       "    .dataframe tbody tr th {\n",
       "        vertical-align: top;\n",
       "    }\n",
       "\n",
       "    .dataframe thead th {\n",
       "        text-align: right;\n",
       "    }\n",
       "</style>\n",
       "<table border=\"1\" class=\"dataframe\">\n",
       "  <thead>\n",
       "    <tr style=\"text-align: right;\">\n",
       "      <th></th>\n",
       "      <th>Work</th>\n",
       "      <th>Price</th>\n",
       "      <th>Salary</th>\n",
       "    </tr>\n",
       "    <tr>\n",
       "      <th>cluster1</th>\n",
       "      <th></th>\n",
       "      <th></th>\n",
       "      <th></th>\n",
       "    </tr>\n",
       "  </thead>\n",
       "  <tbody>\n",
       "    <tr>\n",
       "      <td>1</td>\n",
       "      <td>-9999.000000</td>\n",
       "      <td>40.350000</td>\n",
       "      <td>-9999.000000</td>\n",
       "    </tr>\n",
       "    <tr>\n",
       "      <td>2</td>\n",
       "      <td>1948.222222</td>\n",
       "      <td>60.722222</td>\n",
       "      <td>25.022222</td>\n",
       "    </tr>\n",
       "    <tr>\n",
       "      <td>3</td>\n",
       "      <td>1981.666667</td>\n",
       "      <td>44.591667</td>\n",
       "      <td>11.050000</td>\n",
       "    </tr>\n",
       "    <tr>\n",
       "      <td>4</td>\n",
       "      <td>1826.588235</td>\n",
       "      <td>76.858824</td>\n",
       "      <td>54.152941</td>\n",
       "    </tr>\n",
       "    <tr>\n",
       "      <td>5</td>\n",
       "      <td>1763.750000</td>\n",
       "      <td>104.550000</td>\n",
       "      <td>67.587500</td>\n",
       "    </tr>\n",
       "  </tbody>\n",
       "</table>\n",
       "</div>"
      ],
      "text/plain": [
       "                 Work       Price       Salary\n",
       "cluster1                                      \n",
       "1        -9999.000000   40.350000 -9999.000000\n",
       "2         1948.222222   60.722222    25.022222\n",
       "3         1981.666667   44.591667    11.050000\n",
       "4         1826.588235   76.858824    54.152941\n",
       "5         1763.750000  104.550000    67.587500"
      ]
     },
     "execution_count": 312,
     "metadata": {},
     "output_type": "execute_result"
    }
   ],
   "source": [
    "df.groupby('cluster1').mean()"
   ]
  },
  {
   "cell_type": "markdown",
   "metadata": {},
   "source": [
    "Интерпретация.\n",
    "\n",
    "Кластер 5 - большая зарплата, не очень много часов работы - особо не упахиваешься, очень высокие цены - это города с самым высоким уровнем жизни, где комфортно жить и работать, но дорого туда приезжать.\n",
    "\n",
    "Кластер 4 - ещё высокая зарплата, часов работы уже больше, зато цены относительно зарплаты сильнее упали в сравнении с кластером 5. Это крупные города и столицы развитых стран. \n",
    "\n",
    "Кластер 3 - очень печальное место, работаешь очень много, зарплаты низкие, цены, конечно, тоже ниже, но не так сильно относительно зарплаты. Города, в которых лучше не жить... \n",
    "\n",
    "Кластер 2 - средние города средненьких стран: зарплаты так себе, цены тоже. \n",
    "\n",
    "Кластер 1 - вероятно, выбросы. "
   ]
  },
  {
   "cell_type": "code",
   "execution_count": 313,
   "metadata": {},
   "outputs": [],
   "source": [
    "# Попробуем кластеризовать с помощью KMeans.\n",
    "from sklearn.cluster import KMeans\n",
    "# инициализация модели\n",
    "model = KMeans(n_clusters=5, random_state=42, max_iter=300, n_init=10, verbose=0 )\n",
    "# random_state - зерно датчика случайных чисел. \n",
    "# При повторном вызове с тем же значением зерна random_state \n",
    "# модель будет давать одинаковые результаты."
   ]
  },
  {
   "cell_type": "code",
   "execution_count": 314,
   "metadata": {},
   "outputs": [
    {
     "data": {
      "text/plain": [
       "KMeans(algorithm='auto', copy_x=True, init='k-means++', max_iter=300,\n",
       "       n_clusters=5, n_init=10, n_jobs=None, precompute_distances='auto',\n",
       "       random_state=42, tol=0.0001, verbose=0)"
      ]
     },
     "execution_count": 314,
     "metadata": {},
     "output_type": "execute_result"
    }
   ],
   "source": [
    "# подгонка модели по данным из df\n",
    "model.fit(X1)"
   ]
  },
  {
   "cell_type": "code",
   "execution_count": 315,
   "metadata": {},
   "outputs": [
    {
     "data": {
      "image/png": "[encoded data removed]",
      "text/plain": [
       "<Figure size 432x288 with 1 Axes>"
      ]
     },
     "metadata": {
      "needs_background": "light"
     },
     "output_type": "display_data"
    }
   ],
   "source": [
    "K = range(2, 15)\n",
    "models = [KMeans(n_clusters=k, random_state=42).fit(df) for k in K]\n",
    "dist = [model.inertia_ for model in models]\n",
    "\n",
    "# Plot the elbow\n",
    "plt.plot(K, dist, marker='o')\n",
    "plt.xlabel('k')\n",
    "plt.ylabel('Sum of distances')\n",
    "plt.title('The Elbow Method showing the optimal k')\n",
    "plt.show()"
   ]
  },
  {
   "cell_type": "code",
   "execution_count": 316,
   "metadata": {},
   "outputs": [
    {
     "data": {
      "text/html": [
       "<div>\n",
       "<style scoped>\n",
       "    .dataframe tbody tr th:only-of-type {\n",
       "        vertical-align: middle;\n",
       "    }\n",
       "\n",
       "    .dataframe tbody tr th {\n",
       "        vertical-align: top;\n",
       "    }\n",
       "\n",
       "    .dataframe thead th {\n",
       "        text-align: right;\n",
       "    }\n",
       "</style>\n",
       "<table border=\"1\" class=\"dataframe\">\n",
       "  <thead>\n",
       "    <tr style=\"text-align: right;\">\n",
       "      <th></th>\n",
       "      <th>Work</th>\n",
       "      <th>Price</th>\n",
       "      <th>Salary</th>\n",
       "      <th>cluster1</th>\n",
       "    </tr>\n",
       "    <tr>\n",
       "      <th>cluster</th>\n",
       "      <th></th>\n",
       "      <th></th>\n",
       "      <th></th>\n",
       "      <th></th>\n",
       "    </tr>\n",
       "  </thead>\n",
       "  <tbody>\n",
       "    <tr>\n",
       "      <td>1</td>\n",
       "      <td>1882.642857</td>\n",
       "      <td>69.785714</td>\n",
       "      <td>44.928571</td>\n",
       "      <td>3.285714</td>\n",
       "    </tr>\n",
       "    <tr>\n",
       "      <td>2</td>\n",
       "      <td>-9999.000000</td>\n",
       "      <td>40.350000</td>\n",
       "      <td>-9999.000000</td>\n",
       "      <td>1.000000</td>\n",
       "    </tr>\n",
       "    <tr>\n",
       "      <td>3</td>\n",
       "      <td>1945.437500</td>\n",
       "      <td>47.468750</td>\n",
       "      <td>14.187500</td>\n",
       "      <td>2.750000</td>\n",
       "    </tr>\n",
       "    <tr>\n",
       "      <td>4</td>\n",
       "      <td>1835.363636</td>\n",
       "      <td>84.790909</td>\n",
       "      <td>56.872727</td>\n",
       "      <td>4.272727</td>\n",
       "    </tr>\n",
       "    <tr>\n",
       "      <td>5</td>\n",
       "      <td>1760.600000</td>\n",
       "      <td>111.080000</td>\n",
       "      <td>67.500000</td>\n",
       "      <td>5.000000</td>\n",
       "    </tr>\n",
       "  </tbody>\n",
       "</table>\n",
       "</div>"
      ],
      "text/plain": [
       "                Work       Price       Salary  cluster1\n",
       "cluster                                                \n",
       "1        1882.642857   69.785714    44.928571  3.285714\n",
       "2       -9999.000000   40.350000 -9999.000000  1.000000\n",
       "3        1945.437500   47.468750    14.187500  2.750000\n",
       "4        1835.363636   84.790909    56.872727  4.272727\n",
       "5        1760.600000  111.080000    67.500000  5.000000"
      ]
     },
     "execution_count": 316,
     "metadata": {},
     "output_type": "execute_result"
    }
   ],
   "source": [
    "model = KMeans(n_clusters=5)\n",
    "model.fit(X)\n",
    "df['cluster'] = model.labels_ + 1  # прибавила 1,чтоб начиналось с 1, а не с 0.\n",
    "df.groupby('cluster').mean()\n"
   ]
  },
  {
   "cell_type": "code",
   "execution_count": 317,
   "metadata": {},
   "outputs": [
    {
     "data": {
      "text/plain": [
       "cluster\n",
       "1    14\n",
       "2     2\n",
       "3    16\n",
       "4    11\n",
       "5     5\n",
       "dtype: int64"
      ]
     },
     "execution_count": 317,
     "metadata": {},
     "output_type": "execute_result"
    }
   ],
   "source": [
    "df.groupby('cluster').size()"
   ]
  },
  {
   "cell_type": "code",
   "execution_count": 318,
   "metadata": {},
   "outputs": [
    {
     "data": {
      "text/html": [
       "<div>\n",
       "<style scoped>\n",
       "    .dataframe tbody tr th:only-of-type {\n",
       "        vertical-align: middle;\n",
       "    }\n",
       "\n",
       "    .dataframe tbody tr th {\n",
       "        vertical-align: top;\n",
       "    }\n",
       "\n",
       "    .dataframe thead th {\n",
       "        text-align: right;\n",
       "    }\n",
       "</style>\n",
       "<table border=\"1\" class=\"dataframe\">\n",
       "  <thead>\n",
       "    <tr style=\"text-align: right;\">\n",
       "      <th></th>\n",
       "      <th>Work</th>\n",
       "      <th>Price</th>\n",
       "      <th>Salary</th>\n",
       "      <th>cluster</th>\n",
       "    </tr>\n",
       "    <tr>\n",
       "      <th>cluster1</th>\n",
       "      <th></th>\n",
       "      <th></th>\n",
       "      <th></th>\n",
       "      <th></th>\n",
       "    </tr>\n",
       "  </thead>\n",
       "  <tbody>\n",
       "    <tr>\n",
       "      <td>1</td>\n",
       "      <td>-9999.000000</td>\n",
       "      <td>40.350000</td>\n",
       "      <td>-9999.000000</td>\n",
       "      <td>2.000000</td>\n",
       "    </tr>\n",
       "    <tr>\n",
       "      <td>2</td>\n",
       "      <td>1948.222222</td>\n",
       "      <td>60.722222</td>\n",
       "      <td>25.022222</td>\n",
       "      <td>1.888889</td>\n",
       "    </tr>\n",
       "    <tr>\n",
       "      <td>3</td>\n",
       "      <td>1981.666667</td>\n",
       "      <td>44.591667</td>\n",
       "      <td>11.050000</td>\n",
       "      <td>3.000000</td>\n",
       "    </tr>\n",
       "    <tr>\n",
       "      <td>4</td>\n",
       "      <td>1826.588235</td>\n",
       "      <td>76.858824</td>\n",
       "      <td>54.152941</td>\n",
       "      <td>2.411765</td>\n",
       "    </tr>\n",
       "    <tr>\n",
       "      <td>5</td>\n",
       "      <td>1763.750000</td>\n",
       "      <td>104.550000</td>\n",
       "      <td>67.587500</td>\n",
       "      <td>4.625000</td>\n",
       "    </tr>\n",
       "  </tbody>\n",
       "</table>\n",
       "</div>"
      ],
      "text/plain": [
       "                 Work       Price       Salary   cluster\n",
       "cluster1                                                \n",
       "1        -9999.000000   40.350000 -9999.000000  2.000000\n",
       "2         1948.222222   60.722222    25.022222  1.888889\n",
       "3         1981.666667   44.591667    11.050000  3.000000\n",
       "4         1826.588235   76.858824    54.152941  2.411765\n",
       "5         1763.750000  104.550000    67.587500  4.625000"
      ]
     },
     "execution_count": 318,
     "metadata": {},
     "output_type": "execute_result"
    }
   ],
   "source": [
    "# Прошлая табличка для сравнения. По последнему столбику видно, что некоторые города переползли в другие кластеры.\n",
    "# Но основное направление разбиения не изменилось.\n",
    "df.groupby('cluster1').mean()"
   ]
  },
  {
   "cell_type": "code",
   "execution_count": 320,
   "metadata": {},
   "outputs": [
    {
     "data": {
      "text/plain": [
       "City\n",
       "Amsterdam         1\n",
       "Montreal          1\n",
       "Luxembourg        1\n",
       "Singpore          1\n",
       "Hong_Kong         1\n",
       "Sydney            1\n",
       "Frankfurt         1\n",
       "Tel_Aviv          1\n",
       "Dublin            1\n",
       "Houston           1\n",
       "Chicago           1\n",
       "Caracas           1\n",
       "Brussels          1\n",
       "Toronto           1\n",
       "Cairo             2\n",
       "Jakarta           2\n",
       "Nairobi           3\n",
       "Athens            3\n",
       "Rio_de_Janeiro    3\n",
       "Mexico_City       3\n",
       "Manila            3\n",
       "San_Paulo         3\n",
       "Bogota            3\n",
       "Lisbon            3\n",
       "Bombay            3\n",
       "Lagos             3\n",
       "Kuala_Lumpur      3\n",
       "Johannesburg      3\n",
       "Nicosia           3\n",
       "Buenos_Aires      3\n",
       "Seoul             3\n",
       "Panama            3\n",
       "Taipei            4\n",
       "Paris             4\n",
       "Los_Angeles       4\n",
       "New_York          4\n",
       "Milan             4\n",
       "Madrid            4\n",
       "Vienna            4\n",
       "London            4\n",
       "Geneva            4\n",
       "Dusseldorf        4\n",
       "Copenhagen        4\n",
       "Stockholm         5\n",
       "Helsinki          5\n",
       "Tokyo             5\n",
       "Oslo              5\n",
       "Zurich            5\n",
       "Name: cluster, dtype: int32"
      ]
     },
     "execution_count": 320,
     "metadata": {},
     "output_type": "execute_result"
    }
   ],
   "source": [
    "df['cluster'].sort_values()"
   ]
  },
  {
   "cell_type": "markdown",
   "metadata": {},
   "source": [
    "Получилось очень похожее распределение с даже еще более приятной интерпретацией. Например, Мадрид попал в группу \"Города и столицы развитых стран\". Зато в \"Города с высочайшим уровнем жизни\" - 5 кластер, остались только города из стран-лидеров по уровню жизни (Япония, Швеция, Швейцария и тп).\n",
    "\n",
    "Итог:\n",
    "\n",
    "1 кластер - \"среднячки\"\n",
    "2 кластер - странные выбросы\n",
    "3 кластер - печальное место, им есть, к чему стремиться.\n",
    "4 кластер - города и столицы развитых стран\n",
    "5 кластер - высочайший уровени жизни.\n",
    "\n",
    "Вот, пожалуй, лучшее и итоговое разбиение на кластеры."
   ]
  },
  {
   "cell_type": "code",
   "execution_count": 321,
   "metadata": {},
   "outputs": [
    {
     "data": {
      "text/html": [
       "<div>\n",
       "<style scoped>\n",
       "    .dataframe tbody tr th:only-of-type {\n",
       "        vertical-align: middle;\n",
       "    }\n",
       "\n",
       "    .dataframe tbody tr th {\n",
       "        vertical-align: top;\n",
       "    }\n",
       "\n",
       "    .dataframe thead th {\n",
       "        text-align: right;\n",
       "    }\n",
       "</style>\n",
       "<table border=\"1\" class=\"dataframe\">\n",
       "  <thead>\n",
       "    <tr style=\"text-align: right;\">\n",
       "      <th></th>\n",
       "      <th>Work</th>\n",
       "      <th>Price</th>\n",
       "      <th>Salary</th>\n",
       "      <th>cluster1</th>\n",
       "    </tr>\n",
       "    <tr>\n",
       "      <th>cluster</th>\n",
       "      <th></th>\n",
       "      <th></th>\n",
       "      <th></th>\n",
       "      <th></th>\n",
       "    </tr>\n",
       "  </thead>\n",
       "  <tbody>\n",
       "    <tr>\n",
       "      <td>1</td>\n",
       "      <td>1835.363636</td>\n",
       "      <td>84.790909</td>\n",
       "      <td>56.872727</td>\n",
       "      <td>4.272727</td>\n",
       "    </tr>\n",
       "    <tr>\n",
       "      <td>2</td>\n",
       "      <td>-9999.000000</td>\n",
       "      <td>40.350000</td>\n",
       "      <td>-9999.000000</td>\n",
       "      <td>1.000000</td>\n",
       "    </tr>\n",
       "    <tr>\n",
       "      <td>3</td>\n",
       "      <td>1874.000000</td>\n",
       "      <td>50.650000</td>\n",
       "      <td>16.358333</td>\n",
       "      <td>2.666667</td>\n",
       "    </tr>\n",
       "    <tr>\n",
       "      <td>4</td>\n",
       "      <td>1882.642857</td>\n",
       "      <td>69.785714</td>\n",
       "      <td>44.928571</td>\n",
       "      <td>3.285714</td>\n",
       "    </tr>\n",
       "    <tr>\n",
       "      <td>5</td>\n",
       "      <td>1760.600000</td>\n",
       "      <td>111.080000</td>\n",
       "      <td>67.500000</td>\n",
       "      <td>5.000000</td>\n",
       "    </tr>\n",
       "    <tr>\n",
       "      <td>6</td>\n",
       "      <td>2159.750000</td>\n",
       "      <td>37.925000</td>\n",
       "      <td>7.675000</td>\n",
       "      <td>3.000000</td>\n",
       "    </tr>\n",
       "  </tbody>\n",
       "</table>\n",
       "</div>"
      ],
      "text/plain": [
       "                Work       Price       Salary  cluster1\n",
       "cluster                                                \n",
       "1        1835.363636   84.790909    56.872727  4.272727\n",
       "2       -9999.000000   40.350000 -9999.000000  1.000000\n",
       "3        1874.000000   50.650000    16.358333  2.666667\n",
       "4        1882.642857   69.785714    44.928571  3.285714\n",
       "5        1760.600000  111.080000    67.500000  5.000000\n",
       "6        2159.750000   37.925000     7.675000  3.000000"
      ]
     },
     "execution_count": 321,
     "metadata": {},
     "output_type": "execute_result"
    }
   ],
   "source": [
    "# Попробуем разбить на большее количество кластеров. На меньшее не имеет смысла, судя по каменистой осыпи\n",
    "model2 = KMeans(n_clusters=6)\n",
    "model2.fit(X)\n",
    "df['cluster'] = model2.labels_ + 1  # прибавила 1,чтоб начиналось с 1, а не с 0.\n",
    "df.groupby('cluster').mean()"
   ]
  },
  {
   "cell_type": "code",
   "execution_count": 322,
   "metadata": {},
   "outputs": [
    {
     "data": {
      "text/plain": [
       "cluster\n",
       "1    11\n",
       "2     2\n",
       "3    12\n",
       "4    14\n",
       "5     5\n",
       "6     4\n",
       "dtype: int64"
      ]
     },
     "execution_count": 322,
     "metadata": {},
     "output_type": "execute_result"
    }
   ],
   "source": [
    "df.groupby('cluster').size()"
   ]
  },
  {
   "cell_type": "code",
   "execution_count": 323,
   "metadata": {},
   "outputs": [
    {
     "data": {
      "text/plain": [
       "City\n",
       "Los_Angeles       1\n",
       "Madrid            1\n",
       "New_York          1\n",
       "Vienna            1\n",
       "London            1\n",
       "Paris             1\n",
       "Geneva            1\n",
       "Dusseldorf        1\n",
       "Copenhagen        1\n",
       "Milan             1\n",
       "Taipei            1\n",
       "Cairo             2\n",
       "Jakarta           2\n",
       "Seoul             3\n",
       "Nairobi           3\n",
       "Athens            3\n",
       "Lisbon            3\n",
       "Lagos             3\n",
       "Nicosia           3\n",
       "Panama            3\n",
       "Buenos_Aires      3\n",
       "Mexico_City       3\n",
       "San_Paulo         3\n",
       "Johannesburg      3\n",
       "Rio_de_Janeiro    3\n",
       "Singpore          4\n",
       "Tel_Aviv          4\n",
       "Toronto           4\n",
       "Sydney            4\n",
       "Amsterdam         4\n",
       "Dublin            4\n",
       "Luxembourg        4\n",
       "Brussels          4\n",
       "Houston           4\n",
       "Hong_Kong         4\n",
       "Caracas           4\n",
       "Frankfurt         4\n",
       "Montreal          4\n",
       "Chicago           4\n",
       "Tokyo             5\n",
       "Zurich            5\n",
       "Helsinki          5\n",
       "Oslo              5\n",
       "Stockholm         5\n",
       "Bombay            6\n",
       "Kuala_Lumpur      6\n",
       "Bogota            6\n",
       "Manila            6\n",
       "Name: cluster, dtype: int32"
      ]
     },
     "execution_count": 323,
     "metadata": {},
     "output_type": "execute_result"
    }
   ],
   "source": [
    "df['cluster'].sort_values()"
   ]
  },
  {
   "cell_type": "markdown",
   "metadata": {},
   "source": [
    "Видно, что кластер с печальными городами разделился на просто печальные и очень печальные, в которых среднее число рабочих часов возросло, а зарплата упала. Не знаю, имеет ли смысл такое разделение. Мне кажется, что нет.\n",
    "Но на всякий случай попрорбуем еще увеличить число кластеров."
   ]
  },
  {
   "cell_type": "code",
   "execution_count": 324,
   "metadata": {},
   "outputs": [
    {
     "data": {
      "text/html": [
       "<div>\n",
       "<style scoped>\n",
       "    .dataframe tbody tr th:only-of-type {\n",
       "        vertical-align: middle;\n",
       "    }\n",
       "\n",
       "    .dataframe tbody tr th {\n",
       "        vertical-align: top;\n",
       "    }\n",
       "\n",
       "    .dataframe thead th {\n",
       "        text-align: right;\n",
       "    }\n",
       "</style>\n",
       "<table border=\"1\" class=\"dataframe\">\n",
       "  <thead>\n",
       "    <tr style=\"text-align: right;\">\n",
       "      <th></th>\n",
       "      <th>Work</th>\n",
       "      <th>Price</th>\n",
       "      <th>Salary</th>\n",
       "      <th>cluster1</th>\n",
       "    </tr>\n",
       "    <tr>\n",
       "      <th>cluster</th>\n",
       "      <th></th>\n",
       "      <th></th>\n",
       "      <th></th>\n",
       "      <th></th>\n",
       "    </tr>\n",
       "  </thead>\n",
       "  <tbody>\n",
       "    <tr>\n",
       "      <td>1</td>\n",
       "      <td>1882.642857</td>\n",
       "      <td>69.785714</td>\n",
       "      <td>44.928571</td>\n",
       "      <td>3.285714</td>\n",
       "    </tr>\n",
       "    <tr>\n",
       "      <td>2</td>\n",
       "      <td>1874.000000</td>\n",
       "      <td>50.650000</td>\n",
       "      <td>16.358333</td>\n",
       "      <td>2.666667</td>\n",
       "    </tr>\n",
       "    <tr>\n",
       "      <td>3</td>\n",
       "      <td>-9999.000000</td>\n",
       "      <td>40.350000</td>\n",
       "      <td>-9999.000000</td>\n",
       "      <td>1.000000</td>\n",
       "    </tr>\n",
       "    <tr>\n",
       "      <td>4</td>\n",
       "      <td>1860.250000</td>\n",
       "      <td>81.462500</td>\n",
       "      <td>52.800000</td>\n",
       "      <td>4.000000</td>\n",
       "    </tr>\n",
       "    <tr>\n",
       "      <td>5</td>\n",
       "      <td>1760.600000</td>\n",
       "      <td>111.080000</td>\n",
       "      <td>67.500000</td>\n",
       "      <td>5.000000</td>\n",
       "    </tr>\n",
       "    <tr>\n",
       "      <td>6</td>\n",
       "      <td>2159.750000</td>\n",
       "      <td>37.925000</td>\n",
       "      <td>7.675000</td>\n",
       "      <td>3.000000</td>\n",
       "    </tr>\n",
       "    <tr>\n",
       "      <td>7</td>\n",
       "      <td>1769.000000</td>\n",
       "      <td>93.666667</td>\n",
       "      <td>67.733333</td>\n",
       "      <td>5.000000</td>\n",
       "    </tr>\n",
       "  </tbody>\n",
       "</table>\n",
       "</div>"
      ],
      "text/plain": [
       "                Work       Price       Salary  cluster1\n",
       "cluster                                                \n",
       "1        1882.642857   69.785714    44.928571  3.285714\n",
       "2        1874.000000   50.650000    16.358333  2.666667\n",
       "3       -9999.000000   40.350000 -9999.000000  1.000000\n",
       "4        1860.250000   81.462500    52.800000  4.000000\n",
       "5        1760.600000  111.080000    67.500000  5.000000\n",
       "6        2159.750000   37.925000     7.675000  3.000000\n",
       "7        1769.000000   93.666667    67.733333  5.000000"
      ]
     },
     "execution_count": 324,
     "metadata": {},
     "output_type": "execute_result"
    }
   ],
   "source": [
    "# Попробуем разбить на большее количество кластеров\n",
    "model3 = KMeans(n_clusters=7)\n",
    "model3.fit(X)\n",
    "df['cluster'] = model3.labels_ + 1  # прибавила 1,чтоб начиналось с 1, а не с 0.\n",
    "df.groupby('cluster').mean()"
   ]
  },
  {
   "cell_type": "code",
   "execution_count": 325,
   "metadata": {},
   "outputs": [
    {
     "data": {
      "text/plain": [
       "cluster\n",
       "1    14\n",
       "2    12\n",
       "3     2\n",
       "4     8\n",
       "5     5\n",
       "6     4\n",
       "7     3\n",
       "dtype: int64"
      ]
     },
     "execution_count": 325,
     "metadata": {},
     "output_type": "execute_result"
    }
   ],
   "source": [
    "df.groupby('cluster').size()"
   ]
  },
  {
   "cell_type": "code",
   "execution_count": 326,
   "metadata": {},
   "outputs": [
    {
     "data": {
      "text/plain": [
       "City\n",
       "Amsterdam         1\n",
       "Luxembourg        1\n",
       "Houston           1\n",
       "Montreal          1\n",
       "Singpore          1\n",
       "Frankfurt         1\n",
       "Sydney            1\n",
       "Dublin            1\n",
       "Hong_Kong         1\n",
       "Caracas           1\n",
       "Brussels          1\n",
       "Tel_Aviv          1\n",
       "Toronto           1\n",
       "Chicago           1\n",
       "San_Paulo         2\n",
       "Mexico_City       2\n",
       "Nicosia           2\n",
       "Panama            2\n",
       "Athens            2\n",
       "Rio_de_Janeiro    2\n",
       "Lisbon            2\n",
       "Nairobi           2\n",
       "Johannesburg      2\n",
       "Seoul             2\n",
       "Buenos_Aires      2\n",
       "Lagos             2\n",
       "Jakarta           3\n",
       "Cairo             3\n",
       "Paris             4\n",
       "New_York          4\n",
       "Taipei            4\n",
       "Los_Angeles       4\n",
       "Vienna            4\n",
       "London            4\n",
       "Dusseldorf        4\n",
       "Milan             4\n",
       "Oslo              5\n",
       "Helsinki          5\n",
       "Stockholm         5\n",
       "Tokyo             5\n",
       "Zurich            5\n",
       "Manila            6\n",
       "Kuala_Lumpur      6\n",
       "Bombay            6\n",
       "Bogota            6\n",
       "Madrid            7\n",
       "Geneva            7\n",
       "Copenhagen        7\n",
       "Name: cluster, dtype: int32"
      ]
     },
     "execution_count": 326,
     "metadata": {},
     "output_type": "execute_result"
    }
   ],
   "source": [
    "df['cluster'].sort_values()"
   ]
  },
  {
   "cell_type": "markdown",
   "metadata": {},
   "source": [
    "Тут разделились города развитых стран. На тех, где зарплата и цены побольше, а часов работы поменьше (см.в таблице средние значения 7го и 4го кластера). Разница уже несущественна и такое разбиение не имеет смысла.\n",
    "Пожалуй, лучшим было разбиение на 5 кластеров.\n",
    "Но можно ещё для интереса разбить на меньшее количество кластеров."
   ]
  },
  {
   "cell_type": "code",
   "execution_count": 327,
   "metadata": {},
   "outputs": [
    {
     "data": {
      "text/html": [
       "<div>\n",
       "<style scoped>\n",
       "    .dataframe tbody tr th:only-of-type {\n",
       "        vertical-align: middle;\n",
       "    }\n",
       "\n",
       "    .dataframe tbody tr th {\n",
       "        vertical-align: top;\n",
       "    }\n",
       "\n",
       "    .dataframe thead th {\n",
       "        text-align: right;\n",
       "    }\n",
       "</style>\n",
       "<table border=\"1\" class=\"dataframe\">\n",
       "  <thead>\n",
       "    <tr style=\"text-align: right;\">\n",
       "      <th></th>\n",
       "      <th>Work</th>\n",
       "      <th>Price</th>\n",
       "      <th>Salary</th>\n",
       "      <th>cluster1</th>\n",
       "    </tr>\n",
       "    <tr>\n",
       "      <th>cluster</th>\n",
       "      <th></th>\n",
       "      <th></th>\n",
       "      <th></th>\n",
       "      <th></th>\n",
       "    </tr>\n",
       "  </thead>\n",
       "  <tbody>\n",
       "    <tr>\n",
       "      <td>1</td>\n",
       "      <td>1812.000000</td>\n",
       "      <td>93.006250</td>\n",
       "      <td>60.193750</td>\n",
       "      <td>4.500000</td>\n",
       "    </tr>\n",
       "    <tr>\n",
       "      <td>2</td>\n",
       "      <td>-9999.000000</td>\n",
       "      <td>40.350000</td>\n",
       "      <td>-9999.000000</td>\n",
       "      <td>1.000000</td>\n",
       "    </tr>\n",
       "    <tr>\n",
       "      <td>3</td>\n",
       "      <td>1945.437500</td>\n",
       "      <td>47.468750</td>\n",
       "      <td>14.187500</td>\n",
       "      <td>2.750000</td>\n",
       "    </tr>\n",
       "    <tr>\n",
       "      <td>4</td>\n",
       "      <td>1882.642857</td>\n",
       "      <td>69.785714</td>\n",
       "      <td>44.928571</td>\n",
       "      <td>3.285714</td>\n",
       "    </tr>\n",
       "  </tbody>\n",
       "</table>\n",
       "</div>"
      ],
      "text/plain": [
       "                Work      Price       Salary  cluster1\n",
       "cluster                                               \n",
       "1        1812.000000  93.006250    60.193750  4.500000\n",
       "2       -9999.000000  40.350000 -9999.000000  1.000000\n",
       "3        1945.437500  47.468750    14.187500  2.750000\n",
       "4        1882.642857  69.785714    44.928571  3.285714"
      ]
     },
     "execution_count": 327,
     "metadata": {},
     "output_type": "execute_result"
    }
   ],
   "source": [
    "# Попробуем разбить на меньшее количество кластеров\n",
    "model4 = KMeans(n_clusters=4)\n",
    "model4.fit(X)\n",
    "df['cluster'] = model4.labels_ + 1  # прибавила 1,чтоб начиналось с 1, а не с 0.\n",
    "df.groupby('cluster').mean()"
   ]
  },
  {
   "cell_type": "code",
   "execution_count": 328,
   "metadata": {},
   "outputs": [
    {
     "data": {
      "text/plain": [
       "City\n",
       "Los_Angeles       1\n",
       "Tokyo             1\n",
       "Taipei            1\n",
       "Stockholm         1\n",
       "Paris             1\n",
       "Oslo              1\n",
       "New_York          1\n",
       "Milan             1\n",
       "Madrid            1\n",
       "Vienna            1\n",
       "London            1\n",
       "Helsinki          1\n",
       "Geneva            1\n",
       "Zurich            1\n",
       "Dusseldorf        1\n",
       "Copenhagen        1\n",
       "Jakarta           2\n",
       "Cairo             2\n",
       "Athens            3\n",
       "Bogota            3\n",
       "Bombay            3\n",
       "Seoul             3\n",
       "San_Paulo         3\n",
       "Rio_de_Janeiro    3\n",
       "Panama            3\n",
       "Buenos_Aires      3\n",
       "Nicosia           3\n",
       "Nairobi           3\n",
       "Lagos             3\n",
       "Manila            3\n",
       "Johannesburg      3\n",
       "Lisbon            3\n",
       "Mexico_City       3\n",
       "Kuala_Lumpur      3\n",
       "Toronto           4\n",
       "Hong_Kong         4\n",
       "Tel_Aviv          4\n",
       "Houston           4\n",
       "Sydney            4\n",
       "Caracas           4\n",
       "Brussels          4\n",
       "Dublin            4\n",
       "Luxembourg        4\n",
       "Chicago           4\n",
       "Frankfurt         4\n",
       "Montreal          4\n",
       "Singpore          4\n",
       "Amsterdam         4\n",
       "Name: cluster, dtype: int32"
      ]
     },
     "execution_count": 328,
     "metadata": {},
     "output_type": "execute_result"
    }
   ],
   "source": [
    "df['cluster'].sort_values()"
   ]
  },
  {
   "cell_type": "markdown",
   "metadata": {},
   "source": [
    "Получили распределение: крутые города, средние города, ужасные города, странные выбросы. \n",
    "Если оставим три кластера, получим: города, в которых можно жить, города, в которых лучше не жить, и выбросы.\n",
    "В зависимости от применения результатов кластеризации, может иметь место любое разбиение от 3 до 7. Но на мой взгляд, самым интересным является разделение на 5 кластеров. "
   ]
  },
  {
   "cell_type": "code",
   "execution_count": 352,
   "metadata": {},
   "outputs": [
    {
     "data": {
      "text/plain": [
       "City\n",
       "Jakarta           1\n",
       "Cairo             1\n",
       "Oslo              2\n",
       "Tokyo             2\n",
       "Helsinki          2\n",
       "Stockholm         2\n",
       "Zurich            3\n",
       "Geneva            3\n",
       "Copenhagen        3\n",
       "Madrid            3\n",
       "Seoul             4\n",
       "San_Paulo         4\n",
       "Mexico_City       4\n",
       "Sydney            4\n",
       "Taipei            4\n",
       "Paris             4\n",
       "Panama            4\n",
       "Tel_Aviv          4\n",
       "Toronto           4\n",
       "Nicosia           4\n",
       "New_York          4\n",
       "Nairobi           4\n",
       "Montreal          4\n",
       "Milan             4\n",
       "Singpore          4\n",
       "Rio_de_Janeiro    4\n",
       "Amsterdam         4\n",
       "Luxembourg        4\n",
       "Athens            4\n",
       "Bogota            4\n",
       "Brussels          4\n",
       "Buenos_Aires      4\n",
       "Caracas           4\n",
       "Chicago           4\n",
       "Dublin            4\n",
       "Manila            4\n",
       "Dusseldorf        4\n",
       "Hong_Kong         4\n",
       "Houston           4\n",
       "Johannesburg      4\n",
       "Kuala_Lumpur      4\n",
       "Lagos             4\n",
       "Lisbon            4\n",
       "London            4\n",
       "Vienna            4\n",
       "Frankfurt         4\n",
       "Los_Angeles       4\n",
       "Bombay            5\n",
       "Name: cluster_n, dtype: int32"
      ]
     },
     "execution_count": 352,
     "metadata": {},
     "output_type": "execute_result"
    }
   ],
   "source": [
    "df['cluster_n'].sort_values()"
   ]
  }
 ],
 "metadata": {
  "kernelspec": {
   "display_name": "Python 3",
   "language": "python",
   "name": "python3"
  },
  "language_info": {
   "codemirror_mode": {
    "name": "ipython",
    "version": 3
   },
   "file_extension": ".py",
   "mimetype": "text/x-python",
   "name": "python",
   "nbconvert_exporter": "python",
   "pygments_lexer": "ipython3",
   "version": "3.7.4"
  }
 },
 "nbformat": 4,
 "nbformat_minor": 2
}
