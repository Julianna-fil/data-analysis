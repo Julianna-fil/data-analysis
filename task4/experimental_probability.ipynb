{
  "nbformat": 4,
  "nbformat_minor": 0,
  "metadata": {
    "kernelspec": {
      "display_name": "Python 3",
      "language": "python",
      "name": "python3"
    },
    "language_info": {
      "codemirror_mode": {
        "name": "ipython",
        "version": 3
      },
      "file_extension": ".py",
      "mimetype": "text/x-python",
      "name": "python",
      "nbconvert_exporter": "python",
      "pygments_lexer": "ipython3",
      "version": "3.7.4"
    },
    "colab": {
      "name": "experimental_probability_ch 1.ipynb",
      "provenance": [],
      "collapsed_sections": []
    }
  },
  "cells": [
    {
      "cell_type": "markdown",
      "metadata": {
        "id": "-83K97ZctmXl"
      },
      "source": [
        "#   Последнее домашнее задание. Вариант 4.\n",
        "\n",
        "##  Экспериментальная вероятность\n"
      ]
    },
    {
      "cell_type": "code",
      "metadata": {
        "id": "Z_lzN6gItmXt"
      },
      "source": [
        "import pandas as pd\n",
        "import numpy as np\n",
        "\n",
        "import matplotlib\n",
        "import matplotlib.pyplot as plt\n",
        "%matplotlib inline\n",
        "\n",
        "import random"
      ],
      "execution_count": 1,
      "outputs": []
    },
    {
      "cell_type": "markdown",
      "metadata": {
        "id": "ap463WXzflsJ"
      },
      "source": [
        "##Лабораторная работа 1"
      ]
    },
    {
      "cell_type": "code",
      "metadata": {
        "id": "gbDRTBZetmXx"
      },
      "source": [
        "# Мешалкин Сборник задач по теории вероятностей n 30.\n",
        "\n",
        "# В лифт 8-этажного дома на первом этаже вошли 5 человек.\n",
        "# Предположим, что каждый из них с равной вероятностью может выйти на любом из этажей, \n",
        "# начиная со второго. Найти вероятность того, что все пятеро выйдут на разных этажах.\n",
        "\n"
      ],
      "execution_count": 4,
      "outputs": []
    },
    {
      "cell_type": "markdown",
      "metadata": {
        "id": "hK1hYxYUtmXx"
      },
      "source": [
        "###Теретическое решение: \n",
        "\n",
        "5 человек, 7 этажей (1ый этаж не считаем)\n",
        "\n",
        "нас интересуют: разные этажи.\n",
        "Вероятность выйти на конкретном этаже = 1/7.\n",
        "                      \n",
        "1ый выходит на любом из 7 этажей (вер-ть = 7/7)\n",
        "\n",
        "\n",
        "2ой выходит на любом из оставшихся 6: (вер-то = 6/7)\n",
        "\n",
        "\n",
        "3ий = 5/7\n",
        "\n",
        "\n",
        "4ый = 4/7\n",
        "\n",
        "\n",
        "5ый = 3/7\n",
        "\n",
        "\n",
        "Перемножим: 1 * 6/7 * 5/7 * 4/7 * 3/7 = 0.149937\n",
        "                      \n",
        "                      \n",
        " "
      ]
    },
    {
      "cell_type": "markdown",
      "metadata": {
        "id": "S3_iOVFPCx4r"
      },
      "source": [
        "###Эмпирическое решение"
      ]
    },
    {
      "cell_type": "code",
      "metadata": {
        "id": "KfRgzfIstmXy",
        "colab": {
          "base_uri": "https://localhost:8080/"
        },
        "outputId": "537212e4-dc7b-41bf-dd55-d09ed028fb98"
      },
      "source": [
        "#  Задаем зерно датчика  a, \n",
        "#  опция version=2 требует преобразовать а в целое число, если требуется\n",
        "random.seed(a=42, version=2)\n",
        "\n",
        "#  Число экспериментов\n",
        "n_exp = 100000000\n",
        "\n",
        "#  пространство элементарных событий (этажи от 2 до 8)\n",
        "A = list(range(2,9))\n",
        "\n",
        "#  Обнуляем счетчик числа благоприятных событий\n",
        "k_success=0\n",
        "\n",
        "prob_tmp = []\n",
        "\n",
        "#  n_exp испытаний,  бросаем пять кубиков, ой, то есть, человек\n",
        "for i in range(n_exp):\n",
        "    # 5 бросков \"кубика\" (кстати, можно решать задачу о 5 кубиках с 7 гранями)   \n",
        "    # Выборка с возвращением - этажи могут повторяться\n",
        "    d = random.choices(A, k=5)\n",
        "    l0 = d.copy() \n",
        "    d0 = l0.pop(0) # список этажей без нулевого элемента\n",
        "    \n",
        "    l1 = d.copy()\n",
        "    d1 = l1.pop(1)  # без 1го эл-та\n",
        "\n",
        "    l2 = d.copy()\n",
        "    d2 = l2.pop(2)\n",
        "    \n",
        "    l3 = d.copy()\n",
        "    d3 = l3.pop(3)\n",
        "\n",
        "    l4 = d.copy()\n",
        "    d4 = l4.pop(4)\n",
        "# так как этажи не могут повторяться, при удалении этажа из списка этажей такой же этаж не должен встретиться\n",
        "# в оставшемся списке\n",
        "\n",
        "    if d0 not in l0 and d1 not in l1 and d2 not in l2 and d3 not in l3 and d4 not in l4:\n",
        "        #  Исход благоприятный\n",
        "        k_success += 1\n",
        "\n",
        "    prob_tmp.append(k_success/(i+1))\n",
        "        \n",
        "        \n",
        "print('Вероятность того, что все выйдут на разных этажах, равна', np.round(k_success/n_exp, 6))\n",
        "\n",
        "\n"
      ],
      "execution_count": 2,
      "outputs": [
        {
          "output_type": "stream",
          "text": [
            "Вероятность того, что все выйдут на разных этажах, равна 0.150032\n"
          ],
          "name": "stdout"
        }
      ]
    },
    {
      "cell_type": "code",
      "metadata": {
        "id": "YJuieWWdtmXz",
        "colab": {
          "base_uri": "https://localhost:8080/",
          "height": 295
        },
        "outputId": "3e714adc-7f15-44b7-a1e0-6b529b2181a4"
      },
      "source": [
        "plt.plot(prob_tmp)\n",
        "\n",
        "#plt.plot(prob_tmp[90000000 : 100000000])\n",
        "\n",
        "#  plt.plot(prob_tmp[60000 : 80000])\n",
        "\n",
        "\n",
        "#  plt.plot(prob_tmp[ : 1000])\n",
        "\n",
        "#  plt.plot(prob_tmp[800 : 1000])\n",
        "\n",
        "\n"
      ],
      "execution_count": 4,
      "outputs": [
        {
          "output_type": "execute_result",
          "data": {
            "text/plain": [
              "[<matplotlib.lines.Line2D at 0x7f491457cb00>]"
            ]
          },
          "metadata": {
            "tags": []
          },
          "execution_count": 4
        },
        {
          "output_type": "display_data",
          "data": {
            "image/png": "[encoded data removed]",
            "text/plain": [
              "<Figure size 432x288 with 1 Axes>"
            ]
          },
          "metadata": {
            "tags": [],
            "needs_background": "light"
          }
        }
      ]
    },
    {
      "cell_type": "code",
      "metadata": {
        "id": "cdLqUhNp9Paz"
      },
      "source": [
        "plt.plot(prob_tmp[10000000 : 100000000])"
      ],
      "execution_count": null,
      "outputs": []
    },
    {
      "cell_type": "markdown",
      "metadata": {
        "id": "zbSHmmqXkJTb"
      },
      "source": [
        "Разница в 4ом знаке после запятой. Нормально."
      ]
    },
    {
      "cell_type": "markdown",
      "metadata": {
        "id": "I8AJkadrkTZH"
      },
      "source": [
        "##Лабораторная работа 2"
      ]
    },
    {
      "cell_type": "markdown",
      "metadata": {
        "id": "O6Q2cuF3DBQr"
      },
      "source": [
        "###Экспериментальная вероятность"
      ]
    },
    {
      "cell_type": "code",
      "metadata": {
        "id": "5WavJrXVtmX2",
        "colab": {
          "base_uri": "https://localhost:8080/"
        },
        "outputId": "7c48caac-6883-46c3-a5e6-5e7bc1022773"
      },
      "source": [
        "# Колода игральных карт содержит 52 карты, разделяющиеся на 4 различные масти по 13 карт в каждой. \n",
        "# Предположим, что колода тщательно перетасована, так что вытаскивание любой карты одинаково вероятно. \n",
        "# Вытащим 6 из них.\n",
        "# Найти вероятность того, что среди этих карт не будет карт червовой масти.\n",
        "\n",
        "#  Задаем зерно датчика a, \n",
        "#  опция version=2 требует преобразовать а в целое число, если требуется\n",
        "random.seed(a=12345, version=2)\n",
        "\n",
        "# Число экспериментов\n",
        "n_exp = 10000\n",
        "\n",
        "\n",
        "p_0 = 1          #   Вероятность, полученная на предыдущей попытке\n",
        "delta_ = 1.1     #   \n",
        "\n",
        "#   Колода карт, важна только масть\n",
        "deck = [\"s\"] * 13 + [\"h\"] * 13 + [\"d\"] * 13 + [\"c\"] * 13 \n",
        "\n",
        "while delta_ >= 0.00001:\n",
        "\n",
        "#  Обнуляем счетчик\n",
        "    count_ = 0\n",
        "\n",
        "    for i in range(n_exp):             # Проводим n_exp экспериментов\n",
        "        a = random.sample(deck, 6)     # Выбираем 6 карт без возвращения\n",
        "        if \"s\" not in a:\n",
        "            count_ += 1\n",
        "\n",
        "    p= count_/n_exp              # Оцениваем вероятность\n",
        "    delta_ = abs(p - p_0)        # Считаем изменение вероятности\n",
        "    p_0 = p                      # Новая оценка вероятности заменяет старую\n",
        "    n_exp = round(n_exp * 1.1)   # Увеличиваем число экспериментов\n",
        "\n",
        "print(n_exp)\n",
        "print(p)"
      ],
      "execution_count": 5,
      "outputs": [
        {
          "output_type": "stream",
          "text": [
            "1291408\n",
            "0.16005356015764813\n"
          ],
          "name": "stdout"
        }
      ]
    },
    {
      "cell_type": "markdown",
      "metadata": {
        "id": "3lK-jO_CDOS-"
      },
      "source": [
        "###Теоретическое решение"
      ]
    },
    {
      "cell_type": "code",
      "metadata": {
        "id": "5-FKXNfWtmX3",
        "colab": {
          "base_uri": "https://localhost:8080/"
        },
        "outputId": "e0ce2beb-7da7-4708-bebd-893352d8cd4f"
      },
      "source": [
        "import scipy.special\n",
        "\n",
        "all = scipy.special.binom(52, 6) # вариантов выбрать 6 карт из 52\n",
        "n = 0\n",
        "for i in range(0,7):\n",
        "  for j in range(0, 7):\n",
        "    for k in range(0,7):\n",
        "      if i + j + k == 6: # перебираем все варианты, как могут распределиться масти\n",
        "        n += scipy.special.binom(13,i)*scipy.special.binom(13,j)*scipy.special.binom(13,k)\n",
        "# the two give the same results \n",
        "print(n/all)\n",
        "\n"
      ],
      "execution_count": 6,
      "outputs": [
        {
          "output_type": "stream",
          "text": [
            "0.16025835866261398\n"
          ],
          "name": "stdout"
        }
      ]
    },
    {
      "cell_type": "markdown",
      "metadata": {
        "id": "v6vZJR3ylMrq"
      },
      "source": [
        "Разница в четвертом знаке после запятой. Сойдёт."
      ]
    },
    {
      "cell_type": "markdown",
      "metadata": {
        "id": "ORIzhcfXljFj"
      },
      "source": [
        "##Лабораторная работа 3"
      ]
    },
    {
      "cell_type": "code",
      "metadata": {
        "id": "KlE6uMBMtmX5"
      },
      "source": [
        "# В квадрат с вершинами (0, 0), (0, 1), (1,0), (1,1) наудачу брошена точка М. \r\n",
        "# Пусть (x, y) будут ее координаты. \r\n",
        "# Предполагается, что вероятность попадания в область, лежащую целиком внутри квадрата, зависит лишь от площади этой области и пропорциональна ей.\r\n",
        "# Найти для z = 1/4\r\n",
        "# P{max(x, y)<z} "
      ],
      "execution_count": null,
      "outputs": []
    },
    {
      "cell_type": "markdown",
      "metadata": {
        "id": "00Ixtfz-l8T7"
      },
      "source": [
        "###Теоретическое решение:\r\n",
        "max(x, y) < 1/4 - это значит, что для любой точки значение координаты x < 1/4 и y < 1/4.\r\n",
        "Эти точки лежат в квадрате со стороной 1/4. Площадь такого квадрата = 1/16 = 0.0625. Чтоб найти вероятность попасть в этот квадратик, нужно делить на площадь единичного квадрата.\r\n",
        "Итого: вероятность равна 0.0625"
      ]
    },
    {
      "cell_type": "markdown",
      "metadata": {
        "id": "SafxP8kTDTse"
      },
      "source": [
        "###Решение методом эксперимента"
      ]
    },
    {
      "cell_type": "code",
      "metadata": {
        "id": "O-EWypOwtmX5",
        "colab": {
          "base_uri": "https://localhost:8080/"
        },
        "outputId": "7108a281-4f8a-4d19-a1e9-361ac3d63b21"
      },
      "source": [
        "# Число экспериментов\n",
        "n_exp = 1000000\n",
        "\n",
        "\n",
        "#  Задаем зерно датчика a \n",
        "#  version=2 требует преобразовать а в целое число, если требуется\n",
        "random.seed(a=12345, version=2)\n",
        "\n",
        "n = 0\n",
        "for i in range(n_exp):                      # Проводим n_exp экспериментов\n",
        "    a = np.random.uniform(0.0, 1.0, 2)      # Бросаем точку в квадрат [0,1]*[0,1]\n",
        "    if a[0] < 0.25 and a[1] < 0.25:\n",
        "        n += 1\n",
        "\n",
        "\n",
        "print(\"Приближенный ответ после \", n_exp, \"экспериментов \", n/n_exp)\n",
        "\n",
        "print(\"Точный ответ \", 0.0625)\n",
        "\n"
      ],
      "execution_count": 7,
      "outputs": [
        {
          "output_type": "stream",
          "text": [
            "Приближенный ответ после  1000000 экспериментов  0.062725\n",
            "Точный ответ  0.0625\n"
          ],
          "name": "stdout"
        }
      ]
    },
    {
      "cell_type": "markdown",
      "metadata": {
        "id": "s2mwH-X8pDme"
      },
      "source": [
        "И опять разница в четвёртом знаке после запятой. Хорошо.\r\n"
      ]
    }
  ]
}