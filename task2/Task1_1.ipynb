{
  "nbformat": 4,
  "nbformat_minor": 0,
  "metadata": {
    "kernelspec": {
      "display_name": "Python 3",
      "language": "python",
      "name": "python3"
    },
    "language_info": {
      "codemirror_mode": {
        "name": "ipython",
        "version": 3
      },
      "file_extension": ".py",
      "mimetype": "text/x-python",
      "name": "python",
      "nbconvert_exporter": "python",
      "pygments_lexer": "ipython3",
      "version": "3.7.4"
    },
    "colab": {
      "name": "Task1.ipynb",
      "provenance": [],
      "collapsed_sections": []
    }
  },
  "cells": [
    {
      "cell_type": "markdown",
      "metadata": {
        "id": "Nk6f3N9jzguo"
      },
      "source": [
        "ДР4. Проверка статистических гипотез.\n",
        "Задача 1.\n",
        "====================\n",
        "\n",
        "Нам нужно сравнить расходы за городом и в городе."
      ]
    },
    {
      "cell_type": "code",
      "metadata": {
        "colab": {
          "base_uri": "https://localhost:8080/"
        },
        "id": "ferIiIVrzrnb",
        "outputId": "27f644f7-9a05-4a09-e9c8-2fc1a924009b"
      },
      "source": [
        "# специальная штука, чтоб считывать с гугл-диска\n",
        "from google.colab import drive\n",
        "drive.mount('/content/drive')"
      ],
      "execution_count": null,
      "outputs": [
        {
          "output_type": "stream",
          "text": [
            "Drive already mounted at /content/drive; to attempt to forcibly remount, call drive.mount(\"/content/drive\", force_remount=True).\n"
          ],
          "name": "stdout"
        }
      ]
    },
    {
      "cell_type": "code",
      "metadata": {
        "id": "zf_PdH5qzguq"
      },
      "source": [
        "import pandas as pd\n",
        "import numpy as np\n",
        "import matplotlib\n",
        "import matplotlib.pyplot as plt\n",
        "\n",
        "#  matplotlib.style.use('ggplot')\n",
        "%matplotlib inline"
      ],
      "execution_count": null,
      "outputs": []
    },
    {
      "cell_type": "code",
      "metadata": {
        "id": "fOIMxthlzgur"
      },
      "source": [
        "from scipy import stats"
      ],
      "execution_count": null,
      "outputs": []
    },
    {
      "cell_type": "code",
      "metadata": {
        "id": "_qm7WcUEFsLS"
      },
      "source": [
        "# удобная штука для печати двух гистограмм на 1 странице\n",
        "def two_histograms(x, y):\n",
        "    \"\"\"\n",
        "    Функция, которая построит две гистограммы на одной картинке.\n",
        "    Дополнительно пунктирными линиями указываются средние значения выборок.\n",
        "    x: вектор pd.Series,\n",
        "    y: вектор pd.Series\n",
        "    \"\"\"\n",
        "    x.hist(alpha=0.5, weights=[1./len(x)]*len(x))\n",
        "    y.hist(alpha=0.5, weights=[1./len(y)]*len(y))\n",
        "    plt.axvline(x.mean(), color='red', alpha=0.8, linestyle='dashed')\n",
        "    plt.axvline(y.mean(), color='blue', alpha=0.8, linestyle='dashed')\n",
        "    plt.legend([x.name, y.name])"
      ],
      "execution_count": null,
      "outputs": []
    },
    {
      "cell_type": "code",
      "metadata": {
        "id": "DPJZaZGVzgur"
      },
      "source": [
        "import os\n",
        "os.chdir(\"/content/drive/My Drive/colab/AD/Data\")\n"
      ],
      "execution_count": null,
      "outputs": []
    },
    {
      "cell_type": "code",
      "metadata": {
        "id": "Z-4yrvOGecvy"
      },
      "source": [
        "df = pd.read_csv('data', sep='\\s+')"
      ],
      "execution_count": null,
      "outputs": []
    },
    {
      "cell_type": "code",
      "metadata": {
        "colab": {
          "base_uri": "https://localhost:8080/",
          "height": 202
        },
        "id": "sk77N8O0e44f",
        "outputId": "6688e0de-ce57-4e86-9cc0-1aa3ba9bb2f4"
      },
      "source": [
        "df.head()"
      ],
      "execution_count": null,
      "outputs": [
        {
          "output_type": "execute_result",
          "data": {
            "text/html": [
              "<div>\n",
              "<style scoped>\n",
              "    .dataframe tbody tr th:only-of-type {\n",
              "        vertical-align: middle;\n",
              "    }\n",
              "\n",
              "    .dataframe tbody tr th {\n",
              "        vertical-align: top;\n",
              "    }\n",
              "\n",
              "    .dataframe thead th {\n",
              "        text-align: right;\n",
              "    }\n",
              "</style>\n",
              "<table border=\"1\" class=\"dataframe\">\n",
              "  <thead>\n",
              "    <tr style=\"text-align: right;\">\n",
              "      <th></th>\n",
              "      <th>BED</th>\n",
              "      <th>MCDAYS</th>\n",
              "      <th>TDAYS</th>\n",
              "      <th>PCREV</th>\n",
              "      <th>NSAL</th>\n",
              "      <th>FEXP</th>\n",
              "      <th>RURAL</th>\n",
              "    </tr>\n",
              "  </thead>\n",
              "  <tbody>\n",
              "    <tr>\n",
              "      <th>0</th>\n",
              "      <td>244</td>\n",
              "      <td>128</td>\n",
              "      <td>385</td>\n",
              "      <td>23521</td>\n",
              "      <td>5230</td>\n",
              "      <td>5334</td>\n",
              "      <td>0</td>\n",
              "    </tr>\n",
              "    <tr>\n",
              "      <th>1</th>\n",
              "      <td>59</td>\n",
              "      <td>155</td>\n",
              "      <td>203</td>\n",
              "      <td>9160</td>\n",
              "      <td>2459</td>\n",
              "      <td>493</td>\n",
              "      <td>1</td>\n",
              "    </tr>\n",
              "    <tr>\n",
              "      <th>2</th>\n",
              "      <td>120</td>\n",
              "      <td>281</td>\n",
              "      <td>392</td>\n",
              "      <td>21900</td>\n",
              "      <td>6304</td>\n",
              "      <td>6115</td>\n",
              "      <td>0</td>\n",
              "    </tr>\n",
              "    <tr>\n",
              "      <th>3</th>\n",
              "      <td>120</td>\n",
              "      <td>291</td>\n",
              "      <td>419</td>\n",
              "      <td>22354</td>\n",
              "      <td>6590</td>\n",
              "      <td>6346</td>\n",
              "      <td>0</td>\n",
              "    </tr>\n",
              "    <tr>\n",
              "      <th>4</th>\n",
              "      <td>120</td>\n",
              "      <td>238</td>\n",
              "      <td>363</td>\n",
              "      <td>17421</td>\n",
              "      <td>5362</td>\n",
              "      <td>6225</td>\n",
              "      <td>0</td>\n",
              "    </tr>\n",
              "  </tbody>\n",
              "</table>\n",
              "</div>"
            ],
            "text/plain": [
              "   BED  MCDAYS  TDAYS  PCREV  NSAL  FEXP  RURAL\n",
              "0  244     128    385  23521  5230  5334      0\n",
              "1   59     155    203   9160  2459   493      1\n",
              "2  120     281    392  21900  6304  6115      0\n",
              "3  120     291    419  22354  6590  6346      0\n",
              "4  120     238    363  17421  5362  6225      0"
            ]
          },
          "metadata": {
            "tags": []
          },
          "execution_count": 132
        }
      ]
    },
    {
      "cell_type": "markdown",
      "metadata": {
        "id": "NoJ3uRIjFigO"
      },
      "source": [
        "Сохраним в отдельные переменные выборки, которые собираемся сравнивать."
      ]
    },
    {
      "cell_type": "code",
      "metadata": {
        "id": "20PxyNsJ53u6"
      },
      "source": [
        "x = df[df['RURAL'] == 1]['FEXP']\n",
        "y = df[df['RURAL'] == 0]['FEXP']\n",
        "x.name, y.name = 'village', 'city'"
      ],
      "execution_count": null,
      "outputs": []
    },
    {
      "cell_type": "markdown",
      "metadata": {
        "id": "E3WQnCmhGByB"
      },
      "source": [
        "Теперь проверим оба распределения на нормальность. Пусть гипотеза H0 - распределение нормальное, H1 - распределение сильно отклонено от нормального. Теперь проверим гипотезы для наших распределений. Сначала посмотрим на гистограммы."
      ]
    },
    {
      "cell_type": "code",
      "metadata": {
        "colab": {
          "base_uri": "https://localhost:8080/",
          "height": 265
        },
        "id": "oc1pTZiWGSei",
        "outputId": "9691515b-5634-4f21-a0f1-8cdfde1a07a5"
      },
      "source": [
        "two_histograms(x, y)"
      ],
      "execution_count": null,
      "outputs": [
        {
          "output_type": "display_data",
          "data": {
            "image/png": "[encoded data removed]",
            "text/plain": [
              "<Figure size 432x288 with 1 Axes>"
            ]
          },
          "metadata": {
            "tags": [],
            "needs_background": "light"
          }
        }
      ]
    },
    {
      "cell_type": "markdown",
      "metadata": {
        "id": "XG396PFDGeVf"
      },
      "source": [
        "Ну, что-то совсем непонятное получилось. Где купола? Где вся красота? Ну, ладно. Постоим по-отдельности и посмотрим:"
      ]
    },
    {
      "cell_type": "code",
      "metadata": {
        "colab": {
          "base_uri": "https://localhost:8080/",
          "height": 335
        },
        "id": "hmjQ1TA4G3bR",
        "outputId": "72b0ee8e-b8ee-4826-e49e-05a01020b166"
      },
      "source": [
        "plt.hist(x)"
      ],
      "execution_count": null,
      "outputs": [
        {
          "output_type": "execute_result",
          "data": {
            "text/plain": [
              "(array([5., 7., 4., 3., 3., 3., 3., 2., 2., 2.]),\n",
              " array([ 137. ,  767.5, 1398. , 2028.5, 2659. , 3289.5, 3920. , 4550.5,\n",
              "        5181. , 5811.5, 6442. ]),\n",
              " <a list of 10 Patch objects>)"
            ]
          },
          "metadata": {
            "tags": []
          },
          "execution_count": 135
        },
        {
          "output_type": "display_data",
          "data": {
            "image/png": "[encoded data removed]",
            "text/plain": [
              "<Figure size 432x288 with 1 Axes>"
            ]
          },
          "metadata": {
            "tags": [],
            "needs_background": "light"
          }
        }
      ]
    },
    {
      "cell_type": "markdown",
      "metadata": {
        "id": "JgHrEg9PH6OV"
      },
      "source": [
        "Выбросов не видно. Но и симметрия хромает, куполообразной формы - тоже не видно. Может, увеличить количество столбцов?"
      ]
    },
    {
      "cell_type": "code",
      "metadata": {
        "colab": {
          "base_uri": "https://localhost:8080/",
          "height": 335
        },
        "id": "Lb8WRUBaIMAB",
        "outputId": "9095441f-23fd-49e5-ee2f-d69397b4c009"
      },
      "source": [
        "plt.hist(x, bins = 13)"
      ],
      "execution_count": null,
      "outputs": [
        {
          "output_type": "execute_result",
          "data": {
            "text/plain": [
              "(array([5., 1., 7., 3., 3., 3., 1., 2., 2., 2., 2., 1., 2.]),\n",
              " array([ 137.,  622., 1107., 1592., 2077., 2562., 3047., 3532., 4017.,\n",
              "        4502., 4987., 5472., 5957., 6442.]),\n",
              " <a list of 13 Patch objects>)"
            ]
          },
          "metadata": {
            "tags": []
          },
          "execution_count": 136
        },
        {
          "output_type": "display_data",
          "data": {
            "image/png": "[encoded data removed]",
            "text/plain": [
              "<Figure size 432x288 with 1 Axes>"
            ]
          },
          "metadata": {
            "tags": [],
            "needs_background": "light"
          }
        }
      ]
    },
    {
      "cell_type": "markdown",
      "metadata": {
        "id": "qflSLIdCI1t6"
      },
      "source": [
        "Ситуация понятней не стала. Может, уменьшить количество столбцов (уже надеюсь на чудо):"
      ]
    },
    {
      "cell_type": "code",
      "metadata": {
        "colab": {
          "base_uri": "https://localhost:8080/",
          "height": 283
        },
        "id": "4vizSsEoI_lV",
        "outputId": "262359fa-4f04-4998-d245-ab4f17d65944"
      },
      "source": [
        "plt.hist(x, bins = 3)\n",
        "plt.axvline(x.mean(), color='red', alpha=0.3, linestyle='dashed')  # добавили среднее значение"
      ],
      "execution_count": null,
      "outputs": [
        {
          "output_type": "execute_result",
          "data": {
            "text/plain": [
              "<matplotlib.lines.Line2D at 0x7f22a2b16860>"
            ]
          },
          "metadata": {
            "tags": []
          },
          "execution_count": 137
        },
        {
          "output_type": "display_data",
          "data": {
            "image/png": "[encoded data removed]",
            "text/plain": [
              "<Figure size 432x288 with 1 Axes>"
            ]
          },
          "metadata": {
            "tags": [],
            "needs_background": "light"
          }
        }
      ]
    },
    {
      "cell_type": "markdown",
      "metadata": {
        "id": "7SfmjeZfMyJA"
      },
      "source": [
        "Ну, совсем ничего не понятно! Вроде, не похоже на колокол. Но у нас такое маленькое количество испытаний! Надо построить колокол и посмотреть!"
      ]
    },
    {
      "cell_type": "code",
      "metadata": {
        "id": "ax1syaqOLvSQ"
      },
      "source": [
        "mu = np.mean(x)\n",
        "sigma = np.std(x)\n",
        "\n",
        "#  Решетка точек для построения графика функции\n",
        "x_1 = np.linspace(np.min(x), np.max(x), 10)"
      ],
      "execution_count": null,
      "outputs": []
    },
    {
      "cell_type": "code",
      "metadata": {
        "colab": {
          "base_uri": "https://localhost:8080/",
          "height": 501
        },
        "id": "PV7lmhzGLxA2",
        "outputId": "ffdecdf1-83e7-4f99-fa5c-070062053e14"
      },
      "source": [
        "#  Построим гистограмму\n",
        "#  Добавим график плотности нормального распределения\n",
        "\n",
        "plt.figure(figsize=(10,8))\n",
        "pd.Series(x).hist(bins=15, density=1)\n",
        "plt.plot(x_1, stats.norm.pdf(x_1, mu, sigma))\n",
        "\n",
        "#  Пример добавления подписей на графике\n",
        "#plt.text(2.0, 0.9, r'$f(x) = \\frac{\\exp(-(x-\\mu)^2/2*\\sigma^2)}{\\sigma*\\sqrt{2*\\pi}}$',\n",
        "#        fontsize=12)\n",
        "\n",
        "#  plt.savefig(\"KDE_pres_05.png\")"
      ],
      "execution_count": null,
      "outputs": [
        {
          "output_type": "execute_result",
          "data": {
            "text/plain": [
              "[<matplotlib.lines.Line2D at 0x7f22a2a889b0>]"
            ]
          },
          "metadata": {
            "tags": []
          },
          "execution_count": 139
        },
        {
          "output_type": "display_data",
          "data": {
            "image/png": "[encoded data removed]",
            "text/plain": [
              "<Figure size 720x576 with 1 Axes>"
            ]
          },
          "metadata": {
            "tags": [],
            "needs_background": "light"
          }
        }
      ]
    },
    {
      "cell_type": "markdown",
      "metadata": {
        "id": "S927ujXHIgvr"
      },
      "source": [
        "Сложно. В принципе, если сдвинуть пару боковых столбцов в центр...\n",
        "\n",
        "Посмотрим тогда пока что y:"
      ]
    },
    {
      "cell_type": "code",
      "metadata": {
        "colab": {
          "base_uri": "https://localhost:8080/",
          "height": 335
        },
        "id": "x1M4NPcEIvYp",
        "outputId": "7e770305-3786-4eb8-a03a-8d72b6bb76e8"
      },
      "source": [
        "plt.hist(y)"
      ],
      "execution_count": null,
      "outputs": [
        {
          "output_type": "execute_result",
          "data": {
            "text/plain": [
              "(array([8., 0., 1., 0., 2., 0., 2., 0., 1., 4.]),\n",
              " array([ 907. , 1450.9, 1994.8, 2538.7, 3082.6, 3626.5, 4170.4, 4714.3,\n",
              "        5258.2, 5802.1, 6346. ]),\n",
              " <a list of 10 Patch objects>)"
            ]
          },
          "metadata": {
            "tags": []
          },
          "execution_count": 140
        },
        {
          "output_type": "display_data",
          "data": {
            "image/png": "[encoded data removed]",
            "text/plain": [
              "<Figure size 432x288 with 1 Axes>"
            ]
          },
          "metadata": {
            "tags": [],
            "needs_background": "light"
          }
        }
      ]
    },
    {
      "cell_type": "markdown",
      "metadata": {
        "id": "O8LIry3qJU9s"
      },
      "source": [
        "Ого! Это ж ещё хуже! Нет ни формы, ни симметрии (точнее, она даже немного присутствует, но совсем не так, как нужно). И дырки между столбцами! Откуда такая дискретность? Может, уменьшить количество столбцов?"
      ]
    },
    {
      "cell_type": "code",
      "metadata": {
        "colab": {
          "base_uri": "https://localhost:8080/",
          "height": 317
        },
        "id": "P_WA4yddJvgR",
        "outputId": "d3bde69c-af24-40f6-be46-438c2bfb00ac"
      },
      "source": [
        "plt.hist(y, bins = 5)"
      ],
      "execution_count": null,
      "outputs": [
        {
          "output_type": "execute_result",
          "data": {
            "text/plain": [
              "(array([8., 1., 2., 2., 5.]),\n",
              " array([ 907. , 1994.8, 3082.6, 4170.4, 5258.2, 6346. ]),\n",
              " <a list of 5 Patch objects>)"
            ]
          },
          "metadata": {
            "tags": []
          },
          "execution_count": 141
        },
        {
          "output_type": "display_data",
          "data": {
            "image/png": "[encoded data removed]",
            "text/plain": [
              "<Figure size 432x288 with 1 Axes>"
            ]
          },
          "metadata": {
            "tags": [],
            "needs_background": "light"
          }
        }
      ]
    },
    {
      "cell_type": "markdown",
      "metadata": {
        "id": "uSKMro34fNlk"
      },
      "source": [
        "Вот. Промежутки пропали. Но колоколом и не пахнет. Тут тоже было бы хорошо нарисовать колокол. Сделаем это."
      ]
    },
    {
      "cell_type": "code",
      "metadata": {
        "id": "2-YeJBDvLDrQ"
      },
      "source": [
        "mu = np.mean(y)\n",
        "sigma = np.std(y)\n",
        "\n",
        "#  Решетка точек для построения графика функции\n",
        "x_1 = np.linspace(np.min(y), np.max(y), 10)"
      ],
      "execution_count": null,
      "outputs": []
    },
    {
      "cell_type": "code",
      "metadata": {
        "colab": {
          "base_uri": "https://localhost:8080/",
          "height": 501
        },
        "id": "ubWNTcmCLJdp",
        "outputId": "64c75da9-0c5f-478f-fdaa-569c4e324a97"
      },
      "source": [
        "#  Построим гистограмму\n",
        "#  Добавим график плотности нормального распределения\n",
        "\n",
        "plt.figure(figsize=(10,8))\n",
        "pd.Series(y).hist(bins=6, density=1)\n",
        "plt.plot(x_1, stats.norm.pdf(x_1, mu, sigma))\n"
      ],
      "execution_count": null,
      "outputs": [
        {
          "output_type": "execute_result",
          "data": {
            "text/plain": [
              "[<matplotlib.lines.Line2D at 0x7f22a2945b38>]"
            ]
          },
          "metadata": {
            "tags": []
          },
          "execution_count": 143
        },
        {
          "output_type": "display_data",
          "data": {
            "image/png": "[encoded data removed]",
            "text/plain": [
              "<Figure size 720x576 with 1 Axes>"
            ]
          },
          "metadata": {
            "tags": [],
            "needs_background": "light"
          }
        }
      ]
    },
    {
      "cell_type": "markdown",
      "metadata": {
        "id": "4tMeExEsJ04w"
      },
      "source": [
        "Сложно. Нужно думать."
      ]
    },
    {
      "cell_type": "markdown",
      "metadata": {
        "id": "WS9LaURhJ-cn"
      },
      "source": [
        "## Что же делать?"
      ]
    },
    {
      "cell_type": "markdown",
      "metadata": {
        "id": "uer4K9yNKGYw"
      },
      "source": [
        "А, я не хочу думать! Призову на помощь питон. Воспользуюсь критерием Шапиро-Уилка."
      ]
    },
    {
      "cell_type": "code",
      "metadata": {
        "colab": {
          "base_uri": "https://localhost:8080/"
        },
        "id": "4totf8bCCwgb",
        "outputId": "0f3a8bde-682a-45cc-c270-a438561d07c5"
      },
      "source": [
        "res1 = stats.shapiro(x)\n",
        "print('Для переменной x p-value: ', res1[1])\n",
        "\n",
        "res2 = stats.shapiro(y)\n",
        "print('Для переменной y p-value: ', res2[1])"
      ],
      "execution_count": null,
      "outputs": [
        {
          "output_type": "stream",
          "text": [
            "Для переменной x p-value:  0.04017774015665054\n",
            "Для переменной y p-value:  0.003969315439462662\n"
          ],
          "name": "stdout"
        }
      ]
    },
    {
      "cell_type": "markdown",
      "metadata": {
        "id": "QcWmDkfoKkWE"
      },
      "source": [
        "Кажется, думать всё таки придётся. \n",
        "Результат можно интерпретировать по-разному. Для критерия 𝛼=0.05 \n",
        "p-value получился для обоих распределений маленьким. Гипотеза о том, что распределение нормальное, отвергается. Для критерия 𝛼=0.001 значения p-value получилось больше, гипотеза не отвергается. (0.01 - вообще разобьет наши распределения на нормальное и отклонённое от нормального) \n",
        "Что же выбрать?\n",
        "А я сделаю хитро! Я рассмотрю оба варианта и сравню результат. Ведь от нас не требуется знать нормальное или ненормальное распределение, нам нужно знать о похожести расходов больницы в городе и за городом. "
      ]
    },
    {
      "cell_type": "markdown",
      "metadata": {
        "id": "oGiAX6NgTHOc"
      },
      "source": [
        "Возьмём 𝛼=0.05. P-value маленький для обоих распределений. Отвергаем гипотезу о том, что распределение нормальное. Считаем, что имеется сильное отклонение от нормальности. Тогда попробуем проверить гипотезу о равенстве медиан. Критерий Уилкоксона применим только для парных выборок. У нас же в разных выборках находятся разные объекты (дома престарелых, если верить переводчику). Поэтому нам остаётся критерий Манна-Уитни. \n"
      ]
    },
    {
      "cell_type": "code",
      "metadata": {
        "colab": {
          "base_uri": "https://localhost:8080/"
        },
        "id": "bo5-or3lTS2S",
        "outputId": "376d47d2-6180-4c53-d96c-30524e806f4d"
      },
      "source": [
        "res = stats.mannwhitneyu(x, y)\n",
        "print('p-value:', res[1])"
      ],
      "execution_count": null,
      "outputs": [
        {
          "output_type": "stream",
          "text": [
            "p-value: 0.26594759448891914\n"
          ],
          "name": "stdout"
        }
      ]
    },
    {
      "cell_type": "markdown",
      "metadata": {
        "id": "Q6wTjQc9TZrB"
      },
      "source": [
        "p-value получилось достаточно большим, поэтому у нас нет оснований отвергнуть гипотезу. Вывод: годовые расходы домов престарелых на оборудование(переводчик почему-то не верит, что речь идёт о больницах, ну, да какая разница)различаются незначимо -- разница медиан в выборках вызвана случайными отклонениями."
      ]
    },
    {
      "cell_type": "markdown",
      "metadata": {
        "id": "SF4qg-czzguu"
      },
      "source": [
        "Теперь откатимся к проверке гипотезы о нормальном распределении. Попробуем так: Возьмём 𝛼=0.001, теперь p-value достаточно большой, гипотеза H0 не отвергается. Будем считать распределение нормальным, проверяем гипотезу о равенстве средних значений. Посмотрим, что получится теперь.\n",
        "\n",
        "Сначала критерием Флигнера-Килина проверим, равны ли дисперсии."
      ]
    },
    {
      "cell_type": "code",
      "metadata": {
        "colab": {
          "base_uri": "https://localhost:8080/"
        },
        "id": "VrRXbJBwzguu",
        "outputId": "9e996d10-424e-4d73-97ad-7ac63370c8fa"
      },
      "source": [
        "res = stats.fligner(x, y)\n",
        "print('p-value: ', res[1])"
      ],
      "execution_count": null,
      "outputs": [
        {
          "output_type": "stream",
          "text": [
            "p-value:  0.35518457944740967\n"
          ],
          "name": "stdout"
        }
      ]
    },
    {
      "cell_type": "markdown",
      "metadata": {
        "id": "IIbfP1Dkzguu"
      },
      "source": [
        "Значение p-value больше уровня значимости 0.05 (и тем более, 0.01 и 0.001), поэтому гипотезу о равенстве дисперсий не отвергаем. В двух выборках находятся разные  объекты, значит выборки независимые. Вывод: гипотезу о равенстве средних значений будем проверять с помощью ```ttest_ind``` с опцией ```equal_var=True```."
      ]
    },
    {
      "cell_type": "code",
      "metadata": {
        "colab": {
          "base_uri": "https://localhost:8080/"
        },
        "id": "Y7kpGGm_zguv",
        "outputId": "e38efca2-e306-4690-eb95-e260efe5e0be"
      },
      "source": [
        "res = stats.ttest_ind(x, y, equal_var=True)\n",
        "print('p-value: ', res[1])"
      ],
      "execution_count": null,
      "outputs": [
        {
          "output_type": "stream",
          "text": [
            "p-value:  0.38232044656222486\n"
          ],
          "name": "stdout"
        }
      ]
    },
    {
      "cell_type": "markdown",
      "metadata": {
        "id": "YAcOAP5_VmQs"
      },
      "source": [
        "P-value достаточно велико, больше 0.05, считаем, что средние значения расходов различаются незначимо - различия вызваны случайными отклонениями."
      ]
    },
    {
      "cell_type": "code",
      "metadata": {
        "colab": {
          "base_uri": "https://localhost:8080/",
          "height": 311
        },
        "id": "bDGHst92vlZF",
        "outputId": "803b6ee0-0d40-430e-9468-5cf6c2bee685"
      },
      "source": [
        "b_p = df.boxplot(column='FEXP', by='RURAL')\n",
        "b_p.get_figure().suptitle('')"
      ],
      "execution_count": 152,
      "outputs": [
        {
          "output_type": "execute_result",
          "data": {
            "text/plain": [
              "Text(0.5, 0.98, '')"
            ]
          },
          "metadata": {
            "tags": []
          },
          "execution_count": 152
        },
        {
          "output_type": "display_data",
          "data": {
            "image/png": "[encoded data removed]",
            "text/plain": [
              "<Figure size 432x288 with 1 Axes>"
            ]
          },
          "metadata": {
            "tags": [],
            "needs_background": "light"
          }
        }
      ]
    },
    {
      "cell_type": "code",
      "metadata": {
        "colab": {
          "base_uri": "https://localhost:8080/"
        },
        "id": "Zx7Q7NNh_Sn0",
        "outputId": "d9d2fc24-ac28-416a-c0b7-f0d6543a870c"
      },
      "source": [
        "#А посмотрим, сколько было всего значений в выборках:\n",
        "\n",
        "print('За городом - ', len(x))\n",
        "print('В городе - ', len(y))\n",
        "print('Всего - ', len(df))"
      ],
      "execution_count": null,
      "outputs": [
        {
          "output_type": "stream",
          "text": [
            "За городом -  34\n",
            "В городе -  18\n",
            "Всего -  52\n"
          ],
          "name": "stdout"
        }
      ]
    },
    {
      "cell_type": "markdown",
      "metadata": {
        "id": "9in1vAeuX7bz"
      },
      "source": [
        "Ту-то всё и встало на свои места! У нас мало значений, поэтому такие непонятные гистограммы. Было бы значений больше, наверно, мы б получили более красивые колоколообразные рисунки. Или наоборот - увидели бы, что распределения значений сильно отклоняются от нормальных. \n",
        "##Главный вывод: мы не смогли отвергнуть гипотезу о том, что расходы в среднем одинаковые, поэтому будем считать, что расходы за городом и в городе равнозначны."
      ]
    }
  ]
}