{
  "nbformat": 4,
  "nbformat_minor": 0,
  "metadata": {
    "kernelspec": {
      "display_name": "Python 3",
      "language": "python",
      "name": "python3"
    },
    "language_info": {
      "codemirror_mode": {
        "name": "ipython",
        "version": 3
      },
      "file_extension": ".py",
      "mimetype": "text/x-python",
      "name": "python",
      "nbconvert_exporter": "python",
      "pygments_lexer": "ipython3",
      "version": "3.7.4"
    },
    "colab": {
      "name": "Task2.ipynb",
      "provenance": [],
      "collapsed_sections": []
    }
  },
  "cells": [
    {
      "cell_type": "markdown",
      "metadata": {
        "id": "Nk6f3N9jzguo"
      },
      "source": [
        "ДР4. Проверка статистических гипотез.\n",
        "Задача 2.\n",
        "====================\n",
        "\n",
        "Нам нужно сравнить процент муниципальных служащих, состоящих в профсоюзах, в разных штатах в зависимости от того, был ли принят закон State right-to-work law в штате или нет."
      ]
    },
    {
      "cell_type": "code",
      "metadata": {
        "colab": {
          "base_uri": "https://localhost:8080/"
        },
        "id": "ferIiIVrzrnb",
        "outputId": "c2f6f5e3-fb9c-4925-8b7e-7708aa5e9c14"
      },
      "source": [
        "# специальная штука, чтоб считывать с гугл-диска\n",
        "from google.colab import drive\n",
        "drive.mount('/content/drive')"
      ],
      "execution_count": null,
      "outputs": [
        {
          "output_type": "stream",
          "text": [
            "Mounted at /content/drive\n"
          ],
          "name": "stdout"
        }
      ]
    },
    {
      "cell_type": "code",
      "metadata": {
        "id": "zf_PdH5qzguq"
      },
      "source": [
        "import pandas as pd\n",
        "import numpy as np\n",
        "import matplotlib\n",
        "import matplotlib.pyplot as plt\n",
        "\n",
        "#  matplotlib.style.use('ggplot')\n",
        "%matplotlib inline"
      ],
      "execution_count": null,
      "outputs": []
    },
    {
      "cell_type": "code",
      "metadata": {
        "id": "fOIMxthlzgur"
      },
      "source": [
        "from scipy import stats"
      ],
      "execution_count": null,
      "outputs": []
    },
    {
      "cell_type": "code",
      "metadata": {
        "id": "_qm7WcUEFsLS"
      },
      "source": [
        "# удобная штука для печати двух гистограмм на 1 странице\n",
        "def two_histograms(x, y):\n",
        "    \"\"\"\n",
        "    Функция, которая построит две гистограммы на одной картинке.\n",
        "    Дополнительно пунктирными линиями указываются средние значения выборок.\n",
        "    x: вектор pd.Series,\n",
        "    y: вектор pd.Series\n",
        "    \"\"\"\n",
        "    x.hist(alpha=0.5, weights=[1./len(x)]*len(x))\n",
        "    y.hist(alpha=0.5, weights=[1./len(y)]*len(y))\n",
        "    plt.axvline(x.mean(), color='red', alpha=0.8, linestyle='dashed')\n",
        "    plt.axvline(y.mean(), color='blue', alpha=0.8, linestyle='dashed')\n",
        "    plt.legend([x.name, y.name])"
      ],
      "execution_count": null,
      "outputs": []
    },
    {
      "cell_type": "code",
      "metadata": {
        "id": "DPJZaZGVzgur"
      },
      "source": [
        "import os\n",
        "os.chdir(\"/content/drive/My Drive/colab/AD/Data\")\n"
      ],
      "execution_count": null,
      "outputs": []
    },
    {
      "cell_type": "code",
      "metadata": {
        "id": "iPEea0Rzffhn"
      },
      "source": [
        "df = pd.read_csv('data2', sep='\\s+')"
      ],
      "execution_count": null,
      "outputs": []
    },
    {
      "cell_type": "code",
      "metadata": {
        "colab": {
          "base_uri": "https://localhost:8080/",
          "height": 202
        },
        "id": "oNgG0JaefkpP",
        "outputId": "94c28d45-4909-4770-b953-eac94bbe01fe"
      },
      "source": [
        "df.head()"
      ],
      "execution_count": null,
      "outputs": [
        {
          "output_type": "execute_result",
          "data": {
            "text/html": [
              "<div>\n",
              "<style scoped>\n",
              "    .dataframe tbody tr th:only-of-type {\n",
              "        vertical-align: middle;\n",
              "    }\n",
              "\n",
              "    .dataframe tbody tr th {\n",
              "        vertical-align: top;\n",
              "    }\n",
              "\n",
              "    .dataframe thead th {\n",
              "        text-align: right;\n",
              "    }\n",
              "</style>\n",
              "<table border=\"1\" class=\"dataframe\">\n",
              "  <thead>\n",
              "    <tr style=\"text-align: right;\">\n",
              "      <th></th>\n",
              "      <th>STATE</th>\n",
              "      <th>DENS</th>\n",
              "      <th>COMP</th>\n",
              "      <th>RTW</th>\n",
              "      <th>PVT</th>\n",
              "    </tr>\n",
              "  </thead>\n",
              "  <tbody>\n",
              "    <tr>\n",
              "      <th>0</th>\n",
              "      <td>NY</td>\n",
              "      <td>56.9</td>\n",
              "      <td>1</td>\n",
              "      <td>0</td>\n",
              "      <td>31.2</td>\n",
              "    </tr>\n",
              "    <tr>\n",
              "      <th>1</th>\n",
              "      <td>MI</td>\n",
              "      <td>49.6</td>\n",
              "      <td>1</td>\n",
              "      <td>0</td>\n",
              "      <td>30.2</td>\n",
              "    </tr>\n",
              "    <tr>\n",
              "      <th>2</th>\n",
              "      <td>WA</td>\n",
              "      <td>32.4</td>\n",
              "      <td>1</td>\n",
              "      <td>0</td>\n",
              "      <td>33.1</td>\n",
              "    </tr>\n",
              "    <tr>\n",
              "      <th>3</th>\n",
              "      <td>HI</td>\n",
              "      <td>54.6</td>\n",
              "      <td>1</td>\n",
              "      <td>0</td>\n",
              "      <td>24.7</td>\n",
              "    </tr>\n",
              "    <tr>\n",
              "      <th>4</th>\n",
              "      <td>AK</td>\n",
              "      <td>30.7</td>\n",
              "      <td>1</td>\n",
              "      <td>0</td>\n",
              "      <td>30.1</td>\n",
              "    </tr>\n",
              "  </tbody>\n",
              "</table>\n",
              "</div>"
            ],
            "text/plain": [
              "  STATE  DENS  COMP  RTW   PVT\n",
              "0    NY  56.9     1    0  31.2\n",
              "1    MI  49.6     1    0  30.2\n",
              "2    WA  32.4     1    0  33.1\n",
              "3    HI  54.6     1    0  24.7\n",
              "4    AK  30.7     1    0  30.1"
            ]
          },
          "metadata": {
            "tags": []
          },
          "execution_count": 7
        }
      ]
    },
    {
      "cell_type": "markdown",
      "metadata": {
        "id": "NoJ3uRIjFigO"
      },
      "source": [
        "Сохраним в отдельные переменные выборки, которые собираемся сравнивать."
      ]
    },
    {
      "cell_type": "code",
      "metadata": {
        "id": "20PxyNsJ53u6"
      },
      "source": [
        "x = df[df['RTW'] == 1]['DENS']\n",
        "y = df[df['RTW'] == 0]['DENS']\n",
        "x.name, y.name = 'RTW_1', 'RTW_0'"
      ],
      "execution_count": null,
      "outputs": []
    },
    {
      "cell_type": "markdown",
      "metadata": {
        "id": "E3WQnCmhGByB"
      },
      "source": [
        "Теперь проверим оба распределения на нормальность. Пусть гипотеза H0 - распределение нормальное, H1 - распределение отклонено от нормального. Теперь проверим гипотезы для наших распределений. Сначала посмотрим на гистограммы."
      ]
    },
    {
      "cell_type": "code",
      "metadata": {
        "colab": {
          "base_uri": "https://localhost:8080/",
          "height": 265
        },
        "id": "oc1pTZiWGSei",
        "outputId": "e5e90f94-86fd-45d0-c443-c89221f17b40"
      },
      "source": [
        "two_histograms(x, y)"
      ],
      "execution_count": null,
      "outputs": [
        {
          "output_type": "display_data",
          "data": {
            "image/png": "[encoded data removed]",
            "text/plain": [
              "<Figure size 432x288 with 1 Axes>"
            ]
          },
          "metadata": {
            "tags": [],
            "needs_background": "light"
          }
        }
      ]
    },
    {
      "cell_type": "markdown",
      "metadata": {
        "id": "XG396PFDGeVf"
      },
      "source": [
        "По сравнению с результатом прошлой задачи, красиво: больше похоже на купола, правда, есть отдельный столбик в синей гистограмме, но я не назвала бы его выбросом, есть какая-то симметрия, хоть и с отклонением. Зато тут средние значения сильнее отличаются друг от друга. Посмотрим на распределения по-отдельности."
      ]
    },
    {
      "cell_type": "code",
      "metadata": {
        "colab": {
          "base_uri": "https://localhost:8080/",
          "height": 335
        },
        "id": "hmjQ1TA4G3bR",
        "outputId": "160c00e9-0f7f-4f25-ea55-fdaae99f2592"
      },
      "source": [
        "plt.hist(x)"
      ],
      "execution_count": null,
      "outputs": [
        {
          "output_type": "execute_result",
          "data": {
            "text/plain": [
              "(array([2., 0., 5., 4., 1., 2., 3., 1., 1., 1.]),\n",
              " array([13.4 , 16.29, 19.18, 22.07, 24.96, 27.85, 30.74, 33.63, 36.52,\n",
              "        39.41, 42.3 ]),\n",
              " <a list of 10 Patch objects>)"
            ]
          },
          "metadata": {
            "tags": []
          },
          "execution_count": 13
        },
        {
          "output_type": "display_data",
          "data": {
            "image/png": "[encoded data removed]",
            "text/plain": [
              "<Figure size 432x288 with 1 Axes>"
            ]
          },
          "metadata": {
            "tags": [],
            "needs_background": "light"
          }
        }
      ]
    },
    {
      "cell_type": "markdown",
      "metadata": {
        "id": "JgHrEg9PH6OV"
      },
      "source": [
        "Отдельный столбик, но на выброс не похож. Симметрия хромает, куполообразная форма - непонтно. Может, увеличить количество столбцов?"
      ]
    },
    {
      "cell_type": "code",
      "metadata": {
        "colab": {
          "base_uri": "https://localhost:8080/",
          "height": 369
        },
        "id": "Lb8WRUBaIMAB",
        "outputId": "a4b2efe7-27f9-4e1a-b30f-09088b6f20ae"
      },
      "source": [
        "plt.hist(x, bins = 15)"
      ],
      "execution_count": null,
      "outputs": [
        {
          "output_type": "execute_result",
          "data": {
            "text/plain": [
              "(array([2., 0., 0., 3., 4., 2., 0., 2., 1., 2., 1., 1., 1., 0., 1.]),\n",
              " array([13.4       , 15.32666667, 17.25333333, 19.18      , 21.10666667,\n",
              "        23.03333333, 24.96      , 26.88666667, 28.81333333, 30.74      ,\n",
              "        32.66666667, 34.59333333, 36.52      , 38.44666667, 40.37333333,\n",
              "        42.3       ]),\n",
              " <a list of 15 Patch objects>)"
            ]
          },
          "metadata": {
            "tags": []
          },
          "execution_count": 15
        },
        {
          "output_type": "display_data",
          "data": {
            "image/png": "[encoded data removed]",
            "text/plain": [
              "<Figure size 432x288 with 1 Axes>"
            ]
          },
          "metadata": {
            "tags": [],
            "needs_background": "light"
          }
        }
      ]
    },
    {
      "cell_type": "markdown",
      "metadata": {
        "id": "qflSLIdCI1t6"
      },
      "source": [
        "Ситуация понятней не стала. Может, уменьшить количество столбцов?"
      ]
    },
    {
      "cell_type": "code",
      "metadata": {
        "colab": {
          "base_uri": "https://localhost:8080/",
          "height": 283
        },
        "id": "4vizSsEoI_lV",
        "outputId": "13bf25ee-5e64-44d1-8438-54041347219a"
      },
      "source": [
        "plt.hist(x, bins = 3)\n",
        "plt.axvline(x.mean(), color='red', alpha=0.3, linestyle='dashed')  # добавили среднее значение"
      ],
      "execution_count": null,
      "outputs": [
        {
          "output_type": "execute_result",
          "data": {
            "text/plain": [
              "<matplotlib.lines.Line2D at 0x7fb51db0fd30>"
            ]
          },
          "metadata": {
            "tags": []
          },
          "execution_count": 16
        },
        {
          "output_type": "display_data",
          "data": {
            "image/png": "[encoded data removed]",
            "text/plain": [
              "<Figure size 432x288 with 1 Axes>"
            ]
          },
          "metadata": {
            "tags": [],
            "needs_background": "light"
          }
        }
      ]
    },
    {
      "cell_type": "markdown",
      "metadata": {
        "id": "7SfmjeZfMyJA"
      },
      "source": [
        "Ну, совсем ничего не понятно! Вроде, не похоже на колокол. Но у нас такое маленькое количество испытаний! Надо построить колокол и посмотреть!"
      ]
    },
    {
      "cell_type": "code",
      "metadata": {
        "id": "ax1syaqOLvSQ"
      },
      "source": [
        "mu = np.mean(x)\n",
        "sigma = np.std(x)\n",
        "\n",
        "#  Решетка точек для построения графика функции\n",
        "x_1 = np.linspace(np.min(x), np.max(x), 10)"
      ],
      "execution_count": null,
      "outputs": []
    },
    {
      "cell_type": "code",
      "metadata": {
        "colab": {
          "base_uri": "https://localhost:8080/",
          "height": 501
        },
        "id": "PV7lmhzGLxA2",
        "outputId": "3be28d05-3e1a-49ac-b5d2-b60551c68e94"
      },
      "source": [
        "#  Построим гистограмму\n",
        "#  Добавим график плотности нормального распределения\n",
        "\n",
        "plt.figure(figsize=(10,8))\n",
        "pd.Series(x).hist(bins=10, density=1)\n",
        "plt.plot(x_1, stats.norm.pdf(x_1, mu, sigma))\n",
        "\n",
        "#  Пример добавления подписей на графике\n",
        "#plt.text(2.0, 0.9, r'$f(x) = \\frac{\\exp(-(x-\\mu)^2/2*\\sigma^2)}{\\sigma*\\sqrt{2*\\pi}}$',\n",
        "#        fontsize=12)\n",
        "\n",
        "#  plt.savefig(\"KDE_pres_05.png\")"
      ],
      "execution_count": null,
      "outputs": [
        {
          "output_type": "execute_result",
          "data": {
            "text/plain": [
              "[<matplotlib.lines.Line2D at 0x7fb51dfd6860>]"
            ]
          },
          "metadata": {
            "tags": []
          },
          "execution_count": 19
        },
        {
          "output_type": "display_data",
          "data": {
            "image/png": "[encoded data removed]",
            "text/plain": [
              "<Figure size 720x576 with 1 Axes>"
            ]
          },
          "metadata": {
            "tags": [],
            "needs_background": "light"
          }
        }
      ]
    },
    {
      "cell_type": "markdown",
      "metadata": {
        "id": "S927ujXHIgvr"
      },
      "source": [
        "Сложно. В принципе, если сдвинуть самый высокий столбец в центр...\n",
        "\n",
        "Посмотрим тогда пока что y:"
      ]
    },
    {
      "cell_type": "code",
      "metadata": {
        "colab": {
          "base_uri": "https://localhost:8080/",
          "height": 335
        },
        "id": "x1M4NPcEIvYp",
        "outputId": "6ab8b8be-c792-4b40-f1ec-0e8cbe694864"
      },
      "source": [
        "plt.hist(y)"
      ],
      "execution_count": null,
      "outputs": [
        {
          "output_type": "execute_result",
          "data": {
            "text/plain": [
              "(array([1., 4., 2., 8., 3., 2., 3., 3., 2., 2.]),\n",
              " array([17.4 , 21.77, 26.14, 30.51, 34.88, 39.25, 43.62, 47.99, 52.36,\n",
              "        56.73, 61.1 ]),\n",
              " <a list of 10 Patch objects>)"
            ]
          },
          "metadata": {
            "tags": []
          },
          "execution_count": 20
        },
        {
          "output_type": "display_data",
          "data": {
            "image/png": "[encoded data removed]",
            "text/plain": [
              "<Figure size 432x288 with 1 Axes>"
            ]
          },
          "metadata": {
            "tags": [],
            "needs_background": "light"
          }
        }
      ]
    },
    {
      "cell_type": "markdown",
      "metadata": {
        "id": "O8LIry3qJU9s"
      },
      "source": [
        "Тут, вроде, получше. Есть какая-то форма, по симметрии отклонение небольшое, совсем нет выбросов. Но всё равно - я еще не уверена.  Может, уменьшить количество столбцов?"
      ]
    },
    {
      "cell_type": "code",
      "metadata": {
        "colab": {
          "base_uri": "https://localhost:8080/",
          "height": 317
        },
        "id": "P_WA4yddJvgR",
        "outputId": "4fd489aa-4b68-4156-e970-ed91a68ebeca"
      },
      "source": [
        "plt.hist(y, bins = 5)"
      ],
      "execution_count": null,
      "outputs": [
        {
          "output_type": "execute_result",
          "data": {
            "text/plain": [
              "(array([ 5., 10.,  5.,  6.,  4.]),\n",
              " array([17.4 , 26.14, 34.88, 43.62, 52.36, 61.1 ]),\n",
              " <a list of 5 Patch objects>)"
            ]
          },
          "metadata": {
            "tags": []
          },
          "execution_count": 21
        },
        {
          "output_type": "display_data",
          "data": {
            "image/png": "[encoded data removed]",
            "text/plain": [
              "<Figure size 432x288 with 1 Axes>"
            ]
          },
          "metadata": {
            "tags": [],
            "needs_background": "light"
          }
        }
      ]
    },
    {
      "cell_type": "markdown",
      "metadata": {
        "id": "eH6T6SAUiyfR"
      },
      "source": [
        "Вот. Вот, вроде, красиво, но всё равно ничего не понятно. Нарисуем график нормального распределения с такими же параметрами и сравним!"
      ]
    },
    {
      "cell_type": "code",
      "metadata": {
        "id": "2-YeJBDvLDrQ"
      },
      "source": [
        "mu = np.mean(y)\n",
        "sigma = np.std(y)\n",
        "\n",
        "#  Решетка точек для построения графика функции\n",
        "x_1 = np.linspace(np.min(y), np.max(y), 10)"
      ],
      "execution_count": null,
      "outputs": []
    },
    {
      "cell_type": "code",
      "metadata": {
        "colab": {
          "base_uri": "https://localhost:8080/",
          "height": 501
        },
        "id": "ubWNTcmCLJdp",
        "outputId": "90d0826a-52c2-439a-825f-11e572d4a8ad"
      },
      "source": [
        "#  Построим гистограмму\n",
        "#  Добавим график плотности нормального распределения\n",
        "\n",
        "plt.figure(figsize=(10,8))\n",
        "pd.Series(y).hist(bins=6, density=1)\n",
        "plt.plot(x_1, stats.norm.pdf(x_1, mu, sigma))\n"
      ],
      "execution_count": null,
      "outputs": [
        {
          "output_type": "execute_result",
          "data": {
            "text/plain": [
              "[<matplotlib.lines.Line2D at 0x7fb51d7b3a58>]"
            ]
          },
          "metadata": {
            "tags": []
          },
          "execution_count": 23
        },
        {
          "output_type": "display_data",
          "data": {
            "image/png": "[encoded data removed]",
            "text/plain": [
              "<Figure size 720x576 with 1 Axes>"
            ]
          },
          "metadata": {
            "tags": [],
            "needs_background": "light"
          }
        }
      ]
    },
    {
      "cell_type": "markdown",
      "metadata": {
        "id": "4tMeExEsJ04w"
      },
      "source": [
        "Мне кажется, что это похоже на нормальное распределение! Во всяком случае, это - максимально нормальное из всех гистограмм, построенных мною ранее."
      ]
    },
    {
      "cell_type": "markdown",
      "metadata": {
        "id": "WS9LaURhJ-cn"
      },
      "source": [
        "## Что же делать?"
      ]
    },
    {
      "cell_type": "markdown",
      "metadata": {
        "id": "uer4K9yNKGYw"
      },
      "source": [
        "Посмотрим, что скажет на это Питон. Гипотеза H0: распределение нормальное. Н1 - имеются отклонения от нормального. Воспользуюсь критерием Шапиро-Уилка, чтобы проверить гипотезу для каждого распределения."
      ]
    },
    {
      "cell_type": "code",
      "metadata": {
        "colab": {
          "base_uri": "https://localhost:8080/"
        },
        "id": "4totf8bCCwgb",
        "outputId": "250a9831-cc2a-4c7e-aa0f-c6f338f40928"
      },
      "source": [
        "res1 = stats.shapiro(x)\n",
        "print('Для переменной x p-value: ', res1[1])\n",
        "\n",
        "res2 = stats.shapiro(y)\n",
        "print('Для переменной y p-value: ', res2[1])"
      ],
      "execution_count": null,
      "outputs": [
        {
          "output_type": "stream",
          "text": [
            "Для переменной x p-value:  0.6463996171951294\n",
            "Для переменной y p-value:  0.19173066318035126\n"
          ],
          "name": "stdout"
        }
      ]
    },
    {
      "cell_type": "markdown",
      "metadata": {
        "id": "QcWmDkfoKkWE"
      },
      "source": [
        "Отлично!\n",
        "\n",
        "p-value получился для обоих распределений большим(как для критерия 𝛼=0.001, так и для 𝛼=0.05). Гипотеза о том, что распределение нормальное, не отвергается.  Будем считать, что распределение нормальное."
      ]
    },
    {
      "cell_type": "markdown",
      "metadata": {
        "id": "SF4qg-czzguu"
      },
      "source": [
        "Проверяем гипотезу о равенстве средних значений. H0 - средние значения отличаются незначительно, отличия вызваны случайными отклонениями. H1 - отличаются значительно.\n",
        "\n",
        "Сначала критерием Флигнера-Килина проверим, равны ли дисперсии."
      ]
    },
    {
      "cell_type": "code",
      "metadata": {
        "colab": {
          "base_uri": "https://localhost:8080/"
        },
        "id": "VrRXbJBwzguu",
        "outputId": "b0708daa-1166-4c81-b93f-82ad3f9c6363"
      },
      "source": [
        "res = stats.fligner(x, y)\n",
        "print('p-value: ', res[1])"
      ],
      "execution_count": null,
      "outputs": [
        {
          "output_type": "stream",
          "text": [
            "p-value:  0.12569758439648201\n"
          ],
          "name": "stdout"
        }
      ]
    },
    {
      "cell_type": "markdown",
      "metadata": {
        "id": "IIbfP1Dkzguu"
      },
      "source": [
        "Значение p-value больше уровня значимости 0.05 (и тем более, 0.01 и 0.001), поэтому гипотезу о равенстве дисперсий не отвергаем. В двух выборках находятся разные  объекты, значит выборки независимые. Вывод: гипотезу о равенстве средних значений будем проверять с помощью ```ttest_ind``` с опцией ```equal_var=True```."
      ]
    },
    {
      "cell_type": "code",
      "metadata": {
        "colab": {
          "base_uri": "https://localhost:8080/"
        },
        "id": "Y7kpGGm_zguv",
        "outputId": "a18a7993-4d4c-4a34-a429-1f07ba4f097b"
      },
      "source": [
        "res = stats.ttest_ind(x, y, equal_var=True)\n",
        "print('p-value: ', res[1])"
      ],
      "execution_count": null,
      "outputs": [
        {
          "output_type": "stream",
          "text": [
            "p-value:  9.287017631717846e-05\n"
          ],
          "name": "stdout"
        }
      ]
    },
    {
      "cell_type": "markdown",
      "metadata": {
        "id": "YAcOAP5_VmQs"
      },
      "source": [
        "P-value очень мало, меньше 0.05 и даже 0.001, считаем, что различия в средних значениях процентов муниципальных служащих не вызваны случайными отклонениями! Они отличаются!"
      ]
    },
    {
      "cell_type": "code",
      "metadata": {
        "colab": {
          "base_uri": "https://localhost:8080/"
        },
        "id": "Zx7Q7NNh_Sn0",
        "outputId": "b2aaa135-5d1a-4209-ea9e-4a3dc371fd26"
      },
      "source": [
        "#А посмотрим, сколько было всего значений в выборках:\n",
        "\n",
        "print('Закон принят - ', len(x))\n",
        "print('Не принят - ', len(y))\n",
        "print('Всего - ', len(df))"
      ],
      "execution_count": null,
      "outputs": [
        {
          "output_type": "stream",
          "text": [
            "Закон принят -  20\n",
            "Не принят -  30\n",
            "Всего -  50\n"
          ],
          "name": "stdout"
        }
      ]
    },
    {
      "cell_type": "markdown",
      "metadata": {
        "id": "NpkLNGR9qIkM"
      },
      "source": [
        "Тоже мало значений, но на этот раз получилось понятнее. Значения былы распределены по нормальному закону. Особенно это хорошо было видно на тех штатах, в которых закон не принят, наверно, потому что их в полтора раза больше."
      ]
    },
    {
      "cell_type": "code",
      "metadata": {
        "colab": {
          "base_uri": "https://localhost:8080/"
        },
        "id": "o6g_2YYwlpVK",
        "outputId": "43cf4b8e-dfef-4bec-c1fb-b3d5347bf956"
      },
      "source": [
        "print('Среднее значение для штатов, в которых закон принят, составляет', x.mean(), 'процентов' )\n",
        "print('Среднее значение для штатов, в которых закон не принят, составляет', y.mean(), 'процентов' )"
      ],
      "execution_count": null,
      "outputs": [
        {
          "output_type": "stream",
          "text": [
            "Среднее значение для штатов, в которых закон принят, составляет 26.005000000000003 процентов\n",
            "Среднее значение для штатов, в которых закон не принят, составляет 38.19666666666667 процентов\n"
          ],
          "name": "stdout"
        }
      ]
    },
    {
      "cell_type": "code",
      "metadata": {
        "colab": {
          "base_uri": "https://localhost:8080/",
          "height": 311
        },
        "id": "HUxTvhjou4wt",
        "outputId": "6dc2896c-d98b-47ae-f53a-6fdb208fcacb"
      },
      "source": [
        "b_p = df.boxplot(column='DENS', by='RTW')\n",
        "b_p.get_figure().suptitle('')"
      ],
      "execution_count": 33,
      "outputs": [
        {
          "output_type": "execute_result",
          "data": {
            "text/plain": [
              "Text(0.5, 0.98, '')"
            ]
          },
          "metadata": {
            "tags": []
          },
          "execution_count": 33
        },
        {
          "output_type": "display_data",
          "data": {
            "image/png": "[encoded data removed]",
            "text/plain": [
              "<Figure size 432x288 with 1 Axes>"
            ]
          },
          "metadata": {
            "tags": [],
            "needs_background": "light"
          }
        }
      ]
    },
    {
      "cell_type": "markdown",
      "metadata": {
        "id": "9in1vAeuX7bz"
      },
      "source": [
        "##Главный вывод: мы отвергли гипотезу о том, что значения процентов муниципальных случащих в среднем одинаковые. В штатах, где закон принят, процент муниципальных служащих меньше, чем в тех штатах, в которых он не принят."
      ]
    }
  ]
}